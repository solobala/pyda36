{
  "nbformat": 4,
  "nbformat_minor": 0,
  "metadata": {
    "colab": {
      "provenance": [],
      "collapsed_sections": [],
      "authorship_tag": "ABX9TyPjR9qpJaFh+S9oUL4YAyOX",
      "include_colab_link": true
    },
    "kernelspec": {
      "name": "python3",
      "display_name": "Python 3"
    },
    "language_info": {
      "name": "python"
    }
  },
  "cells": [
    {
      "cell_type": "markdown",
      "metadata": {
        "id": "view-in-github",
        "colab_type": "text"
      },
      "source": [
        "<a href=\"https://colab.research.google.com/github/solobala/pyda36/blob/main/Balakina_pyda36_DZ5_1.ipynb\" target=\"_parent\"><img src=\"https://colab.research.google.com/assets/colab-badge.svg\" alt=\"Open In Colab\"/></a>"
      ]
    },
    {
      "cell_type": "markdown",
      "source": [
        "# Домашнее задание к лекции Работа с файловой системой и модули.\n",
        "1. Переведите содержимое файла purchase_log.txt в словарь purchases вида:\n",
        "{‘1840e0b9d4’: ‘Продукты’, …}"
      ],
      "metadata": {
        "id": "rJNZiPU0wuJQ"
      }
    },
    {
      "cell_type": "code",
      "source": [
        "import json"
      ],
      "metadata": {
        "id": "2ZkR7q3Yq2iA"
      },
      "execution_count": null,
      "outputs": []
    },
    {
      "cell_type": "code",
      "source": [
        "!wget -O \"Downloads.zip\" \"https://u.netology.ngcdn.ru/backend/uploads/lms/attachments/files/data/13569/Downloads.zip\""
      ],
      "metadata": {
        "colab": {
          "base_uri": "https://localhost:8080/"
        },
        "id": "fKRBiHdML9Ko",
        "outputId": "73aad3c6-8837-47f5-e8c6-75a89e9ee0d9"
      },
      "execution_count": null,
      "outputs": [
        {
          "output_type": "stream",
          "name": "stdout",
          "text": [
            "--2022-08-30 08:31:21--  https://u.netology.ngcdn.ru/backend/uploads/lms/attachments/files/data/13569/Downloads.zip\n",
            "Resolving u.netology.ngcdn.ru (u.netology.ngcdn.ru)... 104.20.157.54, 104.20.156.54, 2606:4700:10::6814:9c36, ...\n",
            "Connecting to u.netology.ngcdn.ru (u.netology.ngcdn.ru)|104.20.157.54|:443... connected.\n",
            "HTTP request sent, awaiting response... 200 OK\n",
            "Length: 2041242 (1.9M) [application/x-zip-compressed]\n",
            "Saving to: ‘Downloads.zip’\n",
            "\n",
            "Downloads.zip       100%[===================>]   1.95M  3.02MB/s    in 0.6s    \n",
            "\n",
            "2022-08-30 08:31:22 (3.02 MB/s) - ‘Downloads.zip’ saved [2041242/2041242]\n",
            "\n"
          ]
        }
      ]
    },
    {
      "cell_type": "code",
      "source": [
        "from zipfile import ZipFile  # Подключаем библиотеку ZipFile из пакета zipfile"
      ],
      "metadata": {
        "id": "KPiSLrgGMqml"
      },
      "execution_count": null,
      "outputs": []
    },
    {
      "cell_type": "code",
      "source": [
        "with ZipFile('/content/Downloads.zip', 'r') as zip_file: \n",
        "  zip_file.extract('purchase_log.txt')"
      ],
      "metadata": {
        "id": "mQFA1A2uMuQm"
      },
      "execution_count": null,
      "outputs": []
    },
    {
      "cell_type": "code",
      "execution_count": null,
      "metadata": {
        "id": "okN-ja68wtNJ"
      },
      "outputs": [],
      "source": [
        "def my_dict():\n",
        "  \"\"\"\n",
        "  Формирует словарь purchases на основе файла purchase_log.txt\n",
        "  \"\"\"\n",
        "  purchases=dict()\n",
        "  new_p=dict()\n",
        "  with open ('purchase_log.txt', 'r', encoding = 'utf-8') as f:\n",
        "      for i,line in enumerate(f):\n",
        "          new_p.update(json.loads(line))\n",
        "          purchases.setdefault(new_p['user_id'],0)\n",
        "          purchases[new_p['user_id']]=new_p['category']\n",
        "  return purchases  \n",
        " "
      ]
    },
    {
      "cell_type": "markdown",
      "source": [
        "2. Для каждого user_id в файле visit_log.csv определите третий столбец с категорией покупки (если покупка была, сам файл visit_log.csv изменять не надо). Запишите в файл funnel.csv визиты из файла visit_log.csv, в которых были покупки с указанием категории."
      ],
      "metadata": {
        "id": "9zqV_5zrxEYC"
      }
    },
    {
      "cell_type": "code",
      "source": [
        "with ZipFile('/content/Downloads.zip', 'r') as zip_file: \n",
        "  zip_file.extract('visit_log.csv')"
      ],
      "metadata": {
        "id": "fERRdOokNac3"
      },
      "execution_count": null,
      "outputs": []
    },
    {
      "cell_type": "code",
      "source": [
        "purchases=my_dict() # Это вызов ф-ии my_dict(), См. выше, которая и формирует наш словарь\n",
        "with open('visit_log.csv','r', encoding = 'utf-8') as f1:\n",
        "    with open ('funnel.csv', 'w', encoding = 'utf-8') as f2:\n",
        "        my_line = f1.readline().strip() + ',category \\n' # \n",
        "        # Читаем в переменную my_line только 1-ю строку для того, чтобы сформировать заголовок \n",
        "        # будущего файла funnel.csv. Формируем 1-ю строку-заголовок для файла \n",
        "        # funnel.csv с помощью добавки в исходный заголовок ',category' и \n",
        "        # символа переноса строки /n\n",
        "        f2.write(my_line) # пишем заголовок в файл\n",
        "        for line in f1: # перебираем все остальные строки файла 'visit_log.csv' \n",
        "            line = line.strip() # убираем пробелы\n",
        "            visit=line.split(',') # разделяем на слова . Фактически это ключи( visit[0]) и значения (visit[1]). Делаем strip и split отдельно, т.к. line нам еще понадобится\n",
        "            if purchases.get(visit[0]): # если в словаре purchases есть значение, соответствующее ключу visit[0]\n",
        "                f2.write(line + ',' + purchases[visit[0]] + '\\n') # то записываем в файл f2 строку line из f1 c добавлением значения из словаря purchases и символа переноса строки\n",
        "              \n"
      ],
      "metadata": {
        "id": "Luig64sC5XcI"
      },
      "execution_count": null,
      "outputs": []
    },
    {
      "cell_type": "code",
      "source": [
        "import time"
      ],
      "metadata": {
        "id": "diY83A_gSy35"
      },
      "execution_count": null,
      "outputs": []
    },
    {
      "cell_type": "code",
      "source": [
        "%%time\n",
        "purchases=my_dict() # Получаем из файла visit_log.csv Словарь purchases с помощью функции my_dict\n",
        "with open('visit_log.csv','r', encoding = 'utf-8') as f1:\n",
        "    with open ('funnel.csv', 'w', encoding = 'utf-8') as f2:\n",
        "        my_line = f1.readline().strip() + ',category \\n' # Формируем 1 строку-заголовок для файла funnel.csv\n",
        "        f2.write(my_line)\n",
        "        for line in f1:\n",
        "            line = line.strip()\n",
        "            user_id=line.split(',')[0] # Сразу распаковываем строку, \n",
        "            # по разделителю будет 2 переменных, наи нужна одна - user_id, \n",
        "            # которая будет использоваться в качестве ключа\n",
        "            if purchases.get(user_id):  # Если в словаре есть значение, соответствующее ключу user_id\n",
        "                f2.write(line + ',' + purchases[user_id] + '\\n') "
      ],
      "metadata": {
        "colab": {
          "base_uri": "https://localhost:8080/"
        },
        "id": "WkDVHS1GQlle",
        "outputId": "b699cfc0-f818-4e75-c697-fc6062162b81"
      },
      "execution_count": null,
      "outputs": [
        {
          "output_type": "stream",
          "name": "stdout",
          "text": [
            "CPU times: user 538 ms, sys: 22.1 ms, total: 560 ms\n",
            "Wall time: 552 ms\n"
          ]
        }
      ]
    },
    {
      "cell_type": "code",
      "source": [
        "%%time\n",
        "purchases=my_dict() # Получаем из файла visit_log.csv Словарь purchases с помощью функции my_dict\n",
        "with open('visit_log.csv','r', encoding = 'utf-8') as f1:\n",
        "    with open ('funnel.csv', 'w', encoding = 'utf-8') as f2:\n",
        "        my_line = f1.readline().strip() + ',category \\n' # Формируем 1 строку-заголовок для файла funnel.csv\n",
        "        f2.write(my_line)\n",
        "        for line in f1:\n",
        "            line = line.strip()\n",
        "            user_id=line.split(',')[0] # Сразу распаковываем строку, \n",
        "            # по разделителю будет 2 переменных, наи нужна одна - user_id, \n",
        "            # которая будет использоваться в качестве ключа\n",
        "            if user_id in purchases:  # Если в словаре есть значение, соответствующее ключу user_id\n",
        "                f2.write(line + ',' + purchases[user_id] + '\\n') "
      ],
      "metadata": {
        "colab": {
          "base_uri": "https://localhost:8080/"
        },
        "id": "2jNflxk4S54z",
        "outputId": "1adca576-d0b7-47b7-cbf3-0731b34e62b3"
      },
      "execution_count": null,
      "outputs": [
        {
          "output_type": "stream",
          "name": "stdout",
          "text": [
            "CPU times: user 498 ms, sys: 17.2 ms, total: 515 ms\n",
            "Wall time: 515 ms\n"
          ]
        }
      ]
    },
    {
      "cell_type": "code",
      "source": [
        "import pandas as pd\n",
        "df = pd.read_csv('funnel.csv')\n",
        "df.head(10)"
      ],
      "metadata": {
        "colab": {
          "base_uri": "https://localhost:8080/",
          "height": 363
        },
        "id": "vvDhEdYKEoqJ",
        "outputId": "08f9ecf1-9bcf-46f0-92c4-356d10efaa1c"
      },
      "execution_count": null,
      "outputs": [
        {
          "output_type": "execute_result",
          "data": {
            "text/plain": [
              "      user_id   source        category \n",
              "0  1840e0b9d4    other         Продукты\n",
              "1  4e4f90fcfb  context      Электроника\n",
              "2  afea8d72fc    other      Электроника\n",
              "3  2824221f38    email         Продукты\n",
              "4  373a6055fe    other  Бытовая техника\n",
              "5  9b2ab046f3    other      Электроника\n",
              "6  9f39d307c3  context      Электроника\n",
              "7  44edeffc91  context         Продукты\n",
              "8  704474fa2d    other         Продукты\n",
              "9  1de31be403    other  Бытовая техника"
            ],
            "text/html": [
              "\n",
              "  <div id=\"df-c07e4f9a-3b2d-4295-b119-32048f5c0735\">\n",
              "    <div class=\"colab-df-container\">\n",
              "      <div>\n",
              "<style scoped>\n",
              "    .dataframe tbody tr th:only-of-type {\n",
              "        vertical-align: middle;\n",
              "    }\n",
              "\n",
              "    .dataframe tbody tr th {\n",
              "        vertical-align: top;\n",
              "    }\n",
              "\n",
              "    .dataframe thead th {\n",
              "        text-align: right;\n",
              "    }\n",
              "</style>\n",
              "<table border=\"1\" class=\"dataframe\">\n",
              "  <thead>\n",
              "    <tr style=\"text-align: right;\">\n",
              "      <th></th>\n",
              "      <th>user_id</th>\n",
              "      <th>source</th>\n",
              "      <th>category</th>\n",
              "    </tr>\n",
              "  </thead>\n",
              "  <tbody>\n",
              "    <tr>\n",
              "      <th>0</th>\n",
              "      <td>1840e0b9d4</td>\n",
              "      <td>other</td>\n",
              "      <td>Продукты</td>\n",
              "    </tr>\n",
              "    <tr>\n",
              "      <th>1</th>\n",
              "      <td>4e4f90fcfb</td>\n",
              "      <td>context</td>\n",
              "      <td>Электроника</td>\n",
              "    </tr>\n",
              "    <tr>\n",
              "      <th>2</th>\n",
              "      <td>afea8d72fc</td>\n",
              "      <td>other</td>\n",
              "      <td>Электроника</td>\n",
              "    </tr>\n",
              "    <tr>\n",
              "      <th>3</th>\n",
              "      <td>2824221f38</td>\n",
              "      <td>email</td>\n",
              "      <td>Продукты</td>\n",
              "    </tr>\n",
              "    <tr>\n",
              "      <th>4</th>\n",
              "      <td>373a6055fe</td>\n",
              "      <td>other</td>\n",
              "      <td>Бытовая техника</td>\n",
              "    </tr>\n",
              "    <tr>\n",
              "      <th>5</th>\n",
              "      <td>9b2ab046f3</td>\n",
              "      <td>other</td>\n",
              "      <td>Электроника</td>\n",
              "    </tr>\n",
              "    <tr>\n",
              "      <th>6</th>\n",
              "      <td>9f39d307c3</td>\n",
              "      <td>context</td>\n",
              "      <td>Электроника</td>\n",
              "    </tr>\n",
              "    <tr>\n",
              "      <th>7</th>\n",
              "      <td>44edeffc91</td>\n",
              "      <td>context</td>\n",
              "      <td>Продукты</td>\n",
              "    </tr>\n",
              "    <tr>\n",
              "      <th>8</th>\n",
              "      <td>704474fa2d</td>\n",
              "      <td>other</td>\n",
              "      <td>Продукты</td>\n",
              "    </tr>\n",
              "    <tr>\n",
              "      <th>9</th>\n",
              "      <td>1de31be403</td>\n",
              "      <td>other</td>\n",
              "      <td>Бытовая техника</td>\n",
              "    </tr>\n",
              "  </tbody>\n",
              "</table>\n",
              "</div>\n",
              "      <button class=\"colab-df-convert\" onclick=\"convertToInteractive('df-c07e4f9a-3b2d-4295-b119-32048f5c0735')\"\n",
              "              title=\"Convert this dataframe to an interactive table.\"\n",
              "              style=\"display:none;\">\n",
              "        \n",
              "  <svg xmlns=\"http://www.w3.org/2000/svg\" height=\"24px\"viewBox=\"0 0 24 24\"\n",
              "       width=\"24px\">\n",
              "    <path d=\"M0 0h24v24H0V0z\" fill=\"none\"/>\n",
              "    <path d=\"M18.56 5.44l.94 2.06.94-2.06 2.06-.94-2.06-.94-.94-2.06-.94 2.06-2.06.94zm-11 1L8.5 8.5l.94-2.06 2.06-.94-2.06-.94L8.5 2.5l-.94 2.06-2.06.94zm10 10l.94 2.06.94-2.06 2.06-.94-2.06-.94-.94-2.06-.94 2.06-2.06.94z\"/><path d=\"M17.41 7.96l-1.37-1.37c-.4-.4-.92-.59-1.43-.59-.52 0-1.04.2-1.43.59L10.3 9.45l-7.72 7.72c-.78.78-.78 2.05 0 2.83L4 21.41c.39.39.9.59 1.41.59.51 0 1.02-.2 1.41-.59l7.78-7.78 2.81-2.81c.8-.78.8-2.07 0-2.86zM5.41 20L4 18.59l7.72-7.72 1.47 1.35L5.41 20z\"/>\n",
              "  </svg>\n",
              "      </button>\n",
              "      \n",
              "  <style>\n",
              "    .colab-df-container {\n",
              "      display:flex;\n",
              "      flex-wrap:wrap;\n",
              "      gap: 12px;\n",
              "    }\n",
              "\n",
              "    .colab-df-convert {\n",
              "      background-color: #E8F0FE;\n",
              "      border: none;\n",
              "      border-radius: 50%;\n",
              "      cursor: pointer;\n",
              "      display: none;\n",
              "      fill: #1967D2;\n",
              "      height: 32px;\n",
              "      padding: 0 0 0 0;\n",
              "      width: 32px;\n",
              "    }\n",
              "\n",
              "    .colab-df-convert:hover {\n",
              "      background-color: #E2EBFA;\n",
              "      box-shadow: 0px 1px 2px rgba(60, 64, 67, 0.3), 0px 1px 3px 1px rgba(60, 64, 67, 0.15);\n",
              "      fill: #174EA6;\n",
              "    }\n",
              "\n",
              "    [theme=dark] .colab-df-convert {\n",
              "      background-color: #3B4455;\n",
              "      fill: #D2E3FC;\n",
              "    }\n",
              "\n",
              "    [theme=dark] .colab-df-convert:hover {\n",
              "      background-color: #434B5C;\n",
              "      box-shadow: 0px 1px 3px 1px rgba(0, 0, 0, 0.15);\n",
              "      filter: drop-shadow(0px 1px 2px rgba(0, 0, 0, 0.3));\n",
              "      fill: #FFFFFF;\n",
              "    }\n",
              "  </style>\n",
              "\n",
              "      <script>\n",
              "        const buttonEl =\n",
              "          document.querySelector('#df-c07e4f9a-3b2d-4295-b119-32048f5c0735 button.colab-df-convert');\n",
              "        buttonEl.style.display =\n",
              "          google.colab.kernel.accessAllowed ? 'block' : 'none';\n",
              "\n",
              "        async function convertToInteractive(key) {\n",
              "          const element = document.querySelector('#df-c07e4f9a-3b2d-4295-b119-32048f5c0735');\n",
              "          const dataTable =\n",
              "            await google.colab.kernel.invokeFunction('convertToInteractive',\n",
              "                                                     [key], {});\n",
              "          if (!dataTable) return;\n",
              "\n",
              "          const docLinkHtml = 'Like what you see? Visit the ' +\n",
              "            '<a target=\"_blank\" href=https://colab.research.google.com/notebooks/data_table.ipynb>data table notebook</a>'\n",
              "            + ' to learn more about interactive tables.';\n",
              "          element.innerHTML = '';\n",
              "          dataTable['output_type'] = 'display_data';\n",
              "          await google.colab.output.renderOutput(dataTable, element);\n",
              "          const docLink = document.createElement('div');\n",
              "          docLink.innerHTML = docLinkHtml;\n",
              "          element.appendChild(docLink);\n",
              "        }\n",
              "      </script>\n",
              "    </div>\n",
              "  </div>\n",
              "  "
            ]
          },
          "metadata": {},
          "execution_count": 18
        }
      ]
    }
  ]
}