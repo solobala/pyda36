{
  "nbformat": 4,
  "nbformat_minor": 0,
  "metadata": {
    "kernelspec": {
      "display_name": "Python 3",
      "language": "python",
      "name": "python3"
    },
    "language_info": {
      "codemirror_mode": {
        "name": "ipython",
        "version": 3
      },
      "file_extension": ".py",
      "mimetype": "text/x-python",
      "name": "python",
      "nbconvert_exporter": "python",
      "pygments_lexer": "ipython3",
      "version": "3.8.5"
    },
    "colab": {
      "provenance": [],
      "collapsed_sections": [],
      "include_colab_link": true
    }
  },
  "cells": [
    {
      "cell_type": "markdown",
      "metadata": {
        "id": "view-in-github",
        "colab_type": "text"
      },
      "source": [
        "<a href=\"https://colab.research.google.com/github/solobala/pyda36/blob/main/netology_regex_19_08_22.ipynb\" target=\"_parent\"><img src=\"https://colab.research.google.com/assets/colab-badge.svg\" alt=\"Open In Colab\"/></a>"
      ]
    },
    {
      "cell_type": "markdown",
      "metadata": {
        "id": "T14fj_LH_mVr"
      },
      "source": [
        "# Регулярные выражения\n",
        "\n",
        "Булыгин Олег  \n",
        " \n",
        "* [LinkedIn](linkedin.com/in/obulygin)  \n",
        "* [Мой канал в ТГ по Python](https://t.me/solidtalk)"
      ]
    },
    {
      "cell_type": "code",
      "metadata": {
        "id": "WxQkHgKD_hy5"
      },
      "source": [
        "import re"
      ],
      "execution_count": null,
      "outputs": []
    },
    {
      "cell_type": "code",
      "metadata": {
        "id": "mCafPRzv_hy9"
      },
      "source": [
        "# найдем идентификаторы пользователей в тексте\n",
        "msg = 'В розыгрыше победили: id1234563, id4653, id461'"
      ],
      "execution_count": null,
      "outputs": []
    },
    {
      "cell_type": "code",
      "metadata": {
        "id": "mvfyZlvS_hy-",
        "colab": {
          "base_uri": "https://localhost:8080/"
        },
        "outputId": "591f855a-bd56-42e4-cd92-b93f7c2d2b04"
      },
      "source": [
        "re.findall(r'id\\d+', msg)"
      ],
      "execution_count": null,
      "outputs": [
        {
          "output_type": "execute_result",
          "data": {
            "text/plain": [
              "['id1234563', 'id4653', 'id461']"
            ]
          },
          "metadata": {},
          "execution_count": 3
        }
      ]
    },
    {
      "cell_type": "code",
      "metadata": {
        "id": "38hqT0YP_hzA"
      },
      "source": [
        "# ПРАКТИКА. Найдем хэштеги в твите\n",
        "tweet = 'когда #эпидемия, то обязательно #оставайсядома'"
      ],
      "execution_count": null,
      "outputs": []
    },
    {
      "cell_type": "code",
      "metadata": {
        "id": "QYLyEyPF_hzB",
        "colab": {
          "base_uri": "https://localhost:8080/"
        },
        "outputId": "dface78a-1f61-4bc6-f850-ddfd8c2a3de1"
      },
      "source": [
        "re.findall(r'#\\w+', tweet)"
      ],
      "execution_count": null,
      "outputs": [
        {
          "output_type": "execute_result",
          "data": {
            "text/plain": [
              "['#эпидемия', '#оставайсядома']"
            ]
          },
          "metadata": {},
          "execution_count": 7
        }
      ]
    },
    {
      "cell_type": "code",
      "source": [
        "re.findall(r'#\\w+', tweet)"
      ],
      "metadata": {
        "colab": {
          "base_uri": "https://localhost:8080/"
        },
        "id": "g_NNNGF86OvS",
        "outputId": "a712913b-7e7c-4e3f-de99-1e30bc059854"
      },
      "execution_count": null,
      "outputs": [
        {
          "output_type": "execute_result",
          "data": {
            "text/plain": [
              "['#эпидемия', '#оставайсядома']"
            ]
          },
          "metadata": {},
          "execution_count": 9
        }
      ]
    },
    {
      "cell_type": "markdown",
      "metadata": {
        "id": "0R7hBBVBBiI7"
      },
      "source": []
    },
    {
      "cell_type": "code",
      "metadata": {
        "id": "QdLpzlNB_hzB"
      },
      "source": [
        "# посмотрим внимательнее, как работают quantifiers\n",
        "text = \"\"\"Что такое регулярные выражения и как их использовать? \n",
        "Говоря простым языком, регулярное выражение — это последовательность символов, используемая для поиска и замены текста в строке или файле. Как уже было упомянуто,\\\n",
        "их поддерживает множество языков общего назначения: Python, Perl, R.\n",
        "Так что изучение регулярных выражений рано или поздно пригодится.\"\"\""
      ],
      "execution_count": null,
      "outputs": []
    },
    {
      "cell_type": "code",
      "metadata": {
        "scrolled": true,
        "id": "R9VklNwz_hzC",
        "colab": {
          "base_uri": "https://localhost:8080/"
        },
        "outputId": "ba37d964-c0ce-4498-f2e3-402b5ae534a6"
      },
      "source": [
        "re.findall(r'\\w+', text)"
      ],
      "execution_count": null,
      "outputs": [
        {
          "output_type": "execute_result",
          "data": {
            "text/plain": [
              "['Что',\n",
              " 'такое',\n",
              " 'регулярные',\n",
              " 'выражения',\n",
              " 'и',\n",
              " 'как',\n",
              " 'их',\n",
              " 'использовать',\n",
              " 'Говоря',\n",
              " 'простым',\n",
              " 'языком',\n",
              " 'регулярное',\n",
              " 'выражение',\n",
              " 'это',\n",
              " 'последовательность',\n",
              " 'символов',\n",
              " 'используемая',\n",
              " 'для',\n",
              " 'поиска',\n",
              " 'и',\n",
              " 'замены',\n",
              " 'текста',\n",
              " 'в',\n",
              " 'строке',\n",
              " 'или',\n",
              " 'файле',\n",
              " 'Как',\n",
              " 'уже',\n",
              " 'было',\n",
              " 'упомянуто',\n",
              " 'их',\n",
              " 'поддерживает',\n",
              " 'множество',\n",
              " 'языков',\n",
              " 'общего',\n",
              " 'назначения',\n",
              " 'Python',\n",
              " 'Perl',\n",
              " 'R',\n",
              " 'Так',\n",
              " 'что',\n",
              " 'изучение',\n",
              " 'регулярных',\n",
              " 'выражений',\n",
              " 'рано',\n",
              " 'или',\n",
              " 'поздно',\n",
              " 'пригодится']"
            ]
          },
          "metadata": {},
          "execution_count": 11
        }
      ]
    },
    {
      "cell_type": "code",
      "metadata": {
        "id": "C9ofKbAc_hzC",
        "colab": {
          "base_uri": "https://localhost:8080/"
        },
        "outputId": "7a4f4754-b203-4ad2-ebae-50279ecef0c7"
      },
      "source": [
        "re.findall(r'\\w*', text)"
      ],
      "execution_count": null,
      "outputs": [
        {
          "output_type": "execute_result",
          "data": {
            "text/plain": [
              "['Что',\n",
              " '',\n",
              " 'такое',\n",
              " '',\n",
              " 'регулярные',\n",
              " '',\n",
              " 'выражения',\n",
              " '',\n",
              " 'и',\n",
              " '',\n",
              " 'как',\n",
              " '',\n",
              " 'их',\n",
              " '',\n",
              " 'использовать',\n",
              " '',\n",
              " '',\n",
              " '',\n",
              " 'Говоря',\n",
              " '',\n",
              " 'простым',\n",
              " '',\n",
              " 'языком',\n",
              " '',\n",
              " '',\n",
              " 'регулярное',\n",
              " '',\n",
              " 'выражение',\n",
              " '',\n",
              " '',\n",
              " '',\n",
              " 'это',\n",
              " '',\n",
              " 'последовательность',\n",
              " '',\n",
              " 'символов',\n",
              " '',\n",
              " '',\n",
              " 'используемая',\n",
              " '',\n",
              " 'для',\n",
              " '',\n",
              " 'поиска',\n",
              " '',\n",
              " 'и',\n",
              " '',\n",
              " 'замены',\n",
              " '',\n",
              " 'текста',\n",
              " '',\n",
              " 'в',\n",
              " '',\n",
              " 'строке',\n",
              " '',\n",
              " 'или',\n",
              " '',\n",
              " 'файле',\n",
              " '',\n",
              " '',\n",
              " 'Как',\n",
              " '',\n",
              " 'уже',\n",
              " '',\n",
              " 'было',\n",
              " '',\n",
              " 'упомянуто',\n",
              " '',\n",
              " 'их',\n",
              " '',\n",
              " 'поддерживает',\n",
              " '',\n",
              " 'множество',\n",
              " '',\n",
              " 'языков',\n",
              " '',\n",
              " 'общего',\n",
              " '',\n",
              " 'назначения',\n",
              " '',\n",
              " '',\n",
              " 'Python',\n",
              " '',\n",
              " '',\n",
              " 'Perl',\n",
              " '',\n",
              " '',\n",
              " 'R',\n",
              " '',\n",
              " '',\n",
              " 'Так',\n",
              " '',\n",
              " 'что',\n",
              " '',\n",
              " 'изучение',\n",
              " '',\n",
              " 'регулярных',\n",
              " '',\n",
              " 'выражений',\n",
              " '',\n",
              " 'рано',\n",
              " '',\n",
              " 'или',\n",
              " '',\n",
              " 'поздно',\n",
              " '',\n",
              " 'пригодится',\n",
              " '',\n",
              " '']"
            ]
          },
          "metadata": {},
          "execution_count": 12
        }
      ]
    },
    {
      "cell_type": "code",
      "metadata": {
        "scrolled": false,
        "id": "WRBcmiin_hzD",
        "colab": {
          "base_uri": "https://localhost:8080/"
        },
        "outputId": "2d2a5727-7f83-4838-8afd-1cbf8708fcee"
      },
      "source": [
        "re.findall(r'\\w?', text)"
      ],
      "execution_count": null,
      "outputs": [
        {
          "output_type": "execute_result",
          "data": {
            "text/plain": [
              "['Ч',\n",
              " 'т',\n",
              " 'о',\n",
              " '',\n",
              " 'т',\n",
              " 'а',\n",
              " 'к',\n",
              " 'о',\n",
              " 'е',\n",
              " '',\n",
              " 'р',\n",
              " 'е',\n",
              " 'г',\n",
              " 'у',\n",
              " 'л',\n",
              " 'я',\n",
              " 'р',\n",
              " 'н',\n",
              " 'ы',\n",
              " 'е',\n",
              " '',\n",
              " 'в',\n",
              " 'ы',\n",
              " 'р',\n",
              " 'а',\n",
              " 'ж',\n",
              " 'е',\n",
              " 'н',\n",
              " 'и',\n",
              " 'я',\n",
              " '',\n",
              " 'и',\n",
              " '',\n",
              " 'к',\n",
              " 'а',\n",
              " 'к',\n",
              " '',\n",
              " 'и',\n",
              " 'х',\n",
              " '',\n",
              " 'и',\n",
              " 'с',\n",
              " 'п',\n",
              " 'о',\n",
              " 'л',\n",
              " 'ь',\n",
              " 'з',\n",
              " 'о',\n",
              " 'в',\n",
              " 'а',\n",
              " 'т',\n",
              " 'ь',\n",
              " '',\n",
              " '',\n",
              " '',\n",
              " 'Г',\n",
              " 'о',\n",
              " 'в',\n",
              " 'о',\n",
              " 'р',\n",
              " 'я',\n",
              " '',\n",
              " 'п',\n",
              " 'р',\n",
              " 'о',\n",
              " 'с',\n",
              " 'т',\n",
              " 'ы',\n",
              " 'м',\n",
              " '',\n",
              " 'я',\n",
              " 'з',\n",
              " 'ы',\n",
              " 'к',\n",
              " 'о',\n",
              " 'м',\n",
              " '',\n",
              " '',\n",
              " 'р',\n",
              " 'е',\n",
              " 'г',\n",
              " 'у',\n",
              " 'л',\n",
              " 'я',\n",
              " 'р',\n",
              " 'н',\n",
              " 'о',\n",
              " 'е',\n",
              " '',\n",
              " 'в',\n",
              " 'ы',\n",
              " 'р',\n",
              " 'а',\n",
              " 'ж',\n",
              " 'е',\n",
              " 'н',\n",
              " 'и',\n",
              " 'е',\n",
              " '',\n",
              " '',\n",
              " '',\n",
              " 'э',\n",
              " 'т',\n",
              " 'о',\n",
              " '',\n",
              " 'п',\n",
              " 'о',\n",
              " 'с',\n",
              " 'л',\n",
              " 'е',\n",
              " 'д',\n",
              " 'о',\n",
              " 'в',\n",
              " 'а',\n",
              " 'т',\n",
              " 'е',\n",
              " 'л',\n",
              " 'ь',\n",
              " 'н',\n",
              " 'о',\n",
              " 'с',\n",
              " 'т',\n",
              " 'ь',\n",
              " '',\n",
              " 'с',\n",
              " 'и',\n",
              " 'м',\n",
              " 'в',\n",
              " 'о',\n",
              " 'л',\n",
              " 'о',\n",
              " 'в',\n",
              " '',\n",
              " '',\n",
              " 'и',\n",
              " 'с',\n",
              " 'п',\n",
              " 'о',\n",
              " 'л',\n",
              " 'ь',\n",
              " 'з',\n",
              " 'у',\n",
              " 'е',\n",
              " 'м',\n",
              " 'а',\n",
              " 'я',\n",
              " '',\n",
              " 'д',\n",
              " 'л',\n",
              " 'я',\n",
              " '',\n",
              " 'п',\n",
              " 'о',\n",
              " 'и',\n",
              " 'с',\n",
              " 'к',\n",
              " 'а',\n",
              " '',\n",
              " 'и',\n",
              " '',\n",
              " 'з',\n",
              " 'а',\n",
              " 'м',\n",
              " 'е',\n",
              " 'н',\n",
              " 'ы',\n",
              " '',\n",
              " 'т',\n",
              " 'е',\n",
              " 'к',\n",
              " 'с',\n",
              " 'т',\n",
              " 'а',\n",
              " '',\n",
              " 'в',\n",
              " '',\n",
              " 'с',\n",
              " 'т',\n",
              " 'р',\n",
              " 'о',\n",
              " 'к',\n",
              " 'е',\n",
              " '',\n",
              " 'и',\n",
              " 'л',\n",
              " 'и',\n",
              " '',\n",
              " 'ф',\n",
              " 'а',\n",
              " 'й',\n",
              " 'л',\n",
              " 'е',\n",
              " '',\n",
              " '',\n",
              " 'К',\n",
              " 'а',\n",
              " 'к',\n",
              " '',\n",
              " 'у',\n",
              " 'ж',\n",
              " 'е',\n",
              " '',\n",
              " 'б',\n",
              " 'ы',\n",
              " 'л',\n",
              " 'о',\n",
              " '',\n",
              " 'у',\n",
              " 'п',\n",
              " 'о',\n",
              " 'м',\n",
              " 'я',\n",
              " 'н',\n",
              " 'у',\n",
              " 'т',\n",
              " 'о',\n",
              " '',\n",
              " 'и',\n",
              " 'х',\n",
              " '',\n",
              " 'п',\n",
              " 'о',\n",
              " 'д',\n",
              " 'д',\n",
              " 'е',\n",
              " 'р',\n",
              " 'ж',\n",
              " 'и',\n",
              " 'в',\n",
              " 'а',\n",
              " 'е',\n",
              " 'т',\n",
              " '',\n",
              " 'м',\n",
              " 'н',\n",
              " 'о',\n",
              " 'ж',\n",
              " 'е',\n",
              " 'с',\n",
              " 'т',\n",
              " 'в',\n",
              " 'о',\n",
              " '',\n",
              " 'я',\n",
              " 'з',\n",
              " 'ы',\n",
              " 'к',\n",
              " 'о',\n",
              " 'в',\n",
              " '',\n",
              " 'о',\n",
              " 'б',\n",
              " 'щ',\n",
              " 'е',\n",
              " 'г',\n",
              " 'о',\n",
              " '',\n",
              " 'н',\n",
              " 'а',\n",
              " 'з',\n",
              " 'н',\n",
              " 'а',\n",
              " 'ч',\n",
              " 'е',\n",
              " 'н',\n",
              " 'и',\n",
              " 'я',\n",
              " '',\n",
              " '',\n",
              " 'P',\n",
              " 'y',\n",
              " 't',\n",
              " 'h',\n",
              " 'o',\n",
              " 'n',\n",
              " '',\n",
              " '',\n",
              " 'P',\n",
              " 'e',\n",
              " 'r',\n",
              " 'l',\n",
              " '',\n",
              " '',\n",
              " 'R',\n",
              " '',\n",
              " '',\n",
              " 'Т',\n",
              " 'а',\n",
              " 'к',\n",
              " '',\n",
              " 'ч',\n",
              " 'т',\n",
              " 'о',\n",
              " '',\n",
              " 'и',\n",
              " 'з',\n",
              " 'у',\n",
              " 'ч',\n",
              " 'е',\n",
              " 'н',\n",
              " 'и',\n",
              " 'е',\n",
              " '',\n",
              " 'р',\n",
              " 'е',\n",
              " 'г',\n",
              " 'у',\n",
              " 'л',\n",
              " 'я',\n",
              " 'р',\n",
              " 'н',\n",
              " 'ы',\n",
              " 'х',\n",
              " '',\n",
              " 'в',\n",
              " 'ы',\n",
              " 'р',\n",
              " 'а',\n",
              " 'ж',\n",
              " 'е',\n",
              " 'н',\n",
              " 'и',\n",
              " 'й',\n",
              " '',\n",
              " 'р',\n",
              " 'а',\n",
              " 'н',\n",
              " 'о',\n",
              " '',\n",
              " 'и',\n",
              " 'л',\n",
              " 'и',\n",
              " '',\n",
              " 'п',\n",
              " 'о',\n",
              " 'з',\n",
              " 'д',\n",
              " 'н',\n",
              " 'о',\n",
              " '',\n",
              " 'п',\n",
              " 'р',\n",
              " 'и',\n",
              " 'г',\n",
              " 'о',\n",
              " 'д',\n",
              " 'и',\n",
              " 'т',\n",
              " 'с',\n",
              " 'я',\n",
              " '',\n",
              " '']"
            ]
          },
          "metadata": {},
          "execution_count": 13
        }
      ]
    },
    {
      "cell_type": "code",
      "metadata": {
        "id": "I4FpQWdw_hzE"
      },
      "source": [],
      "execution_count": null,
      "outputs": []
    },
    {
      "cell_type": "code",
      "metadata": {
        "id": "qGntw1Qd_hzE"
      },
      "source": [
        "# необходимо из строки с условными датами вытащить их\n",
        "registration = 'Date of start: 4-12. Date of registration: 20-11'"
      ],
      "execution_count": null,
      "outputs": []
    },
    {
      "cell_type": "code",
      "metadata": {
        "id": "cASR3icl_hzF",
        "colab": {
          "base_uri": "https://localhost:8080/"
        },
        "outputId": "87ab3ad6-0c9e-46ac-a7fe-64e3edf3fa4e"
      },
      "source": [
        "re.findall(r'\\d{1,2}-\\d{1,2}', registration)"
      ],
      "execution_count": null,
      "outputs": [
        {
          "output_type": "execute_result",
          "data": {
            "text/plain": [
              "['4-12', '20-11']"
            ]
          },
          "metadata": {},
          "execution_count": 15
        }
      ]
    },
    {
      "cell_type": "code",
      "metadata": {
        "id": "zU0_MXp2_hzF"
      },
      "source": [],
      "execution_count": null,
      "outputs": []
    },
    {
      "cell_type": "code",
      "metadata": {
        "id": "ln3Z3Q3O_hzG"
      },
      "source": [
        "# вытащим номера телефонов и текста\n",
        "phone_numbers = 'Мария: 8-943-342-23-32 Александр: 8-323-432-23-67'"
      ],
      "execution_count": null,
      "outputs": []
    },
    {
      "cell_type": "code",
      "metadata": {
        "id": "tbUFSSXU_hzG",
        "colab": {
          "base_uri": "https://localhost:8080/"
        },
        "outputId": "f7c7ff6e-ab73-4dc0-ebae-09067c0f13d5"
      },
      "source": [
        "phone_pattern = r'\\d-\\d{3}-\\d{3}-\\d{2}-\\d{2}'\n",
        "re.findall(phone_pattern, phone_numbers)"
      ],
      "execution_count": null,
      "outputs": [
        {
          "output_type": "execute_result",
          "data": {
            "text/plain": [
              "['8-943-342-23-32', '8-323-432-23-67']"
            ]
          },
          "metadata": {},
          "execution_count": 17
        }
      ]
    },
    {
      "cell_type": "code",
      "metadata": {
        "id": "4UrQtkT1_hzH",
        "colab": {
          "base_uri": "https://localhost:8080/"
        },
        "outputId": "0d9fd6f4-0001-486f-b2f8-1d07f76f65b4"
      },
      "source": [
        "phone_pattern = r'\\d'\n",
        "re.findall(phone_pattern, phone_numbers)"
      ],
      "execution_count": null,
      "outputs": [
        {
          "output_type": "execute_result",
          "data": {
            "text/plain": [
              "['8',\n",
              " '9',\n",
              " '4',\n",
              " '3',\n",
              " '3',\n",
              " '4',\n",
              " '2',\n",
              " '2',\n",
              " '3',\n",
              " '3',\n",
              " '2',\n",
              " '8',\n",
              " '3',\n",
              " '2',\n",
              " '3',\n",
              " '4',\n",
              " '3',\n",
              " '2',\n",
              " '2',\n",
              " '3',\n",
              " '6',\n",
              " '7']"
            ]
          },
          "metadata": {},
          "execution_count": 18
        }
      ]
    },
    {
      "cell_type": "code",
      "metadata": {
        "scrolled": true,
        "id": "zqii2BFP_hzH"
      },
      "source": [
        "# ПРАКТИКА. Свалидируем дату\n",
        "date = 'some text 1st september 2019 07:25 some text'"
      ],
      "execution_count": null,
      "outputs": []
    },
    {
      "cell_type": "code",
      "metadata": {
        "id": "0jQLCAS4_hzH",
        "colab": {
          "base_uri": "https://localhost:8080/",
          "height": 315
        },
        "outputId": "9d30b1d2-c8e7-4092-ba61-1fd3d2872fee"
      },
      "source": [
        "re.findall(r'\\d{1,2}+\\d{4}', date)"
      ],
      "execution_count": null,
      "outputs": [
        {
          "output_type": "error",
          "ename": "error",
          "evalue": "ignored",
          "traceback": [
            "\u001b[0;31m---------------------------------------------------------------------------\u001b[0m",
            "\u001b[0;31merror\u001b[0m                                     Traceback (most recent call last)",
            "\u001b[0;32m<ipython-input-25-26781da99dfb>\u001b[0m in \u001b[0;36m<module>\u001b[0;34m\u001b[0m\n\u001b[0;32m----> 1\u001b[0;31m \u001b[0mre\u001b[0m\u001b[0;34m.\u001b[0m\u001b[0mfindall\u001b[0m\u001b[0;34m(\u001b[0m\u001b[0;34mr'\\d{1,2}+\\d{4}'\u001b[0m\u001b[0;34m,\u001b[0m \u001b[0mdate\u001b[0m\u001b[0;34m)\u001b[0m\u001b[0;34m\u001b[0m\u001b[0;34m\u001b[0m\u001b[0m\n\u001b[0m",
            "\u001b[0;32m/usr/lib/python3.7/re.py\u001b[0m in \u001b[0;36mfindall\u001b[0;34m(pattern, string, flags)\u001b[0m\n\u001b[1;32m    223\u001b[0m \u001b[0;34m\u001b[0m\u001b[0m\n\u001b[1;32m    224\u001b[0m     Empty matches are included in the result.\"\"\"\n\u001b[0;32m--> 225\u001b[0;31m     \u001b[0;32mreturn\u001b[0m \u001b[0m_compile\u001b[0m\u001b[0;34m(\u001b[0m\u001b[0mpattern\u001b[0m\u001b[0;34m,\u001b[0m \u001b[0mflags\u001b[0m\u001b[0;34m)\u001b[0m\u001b[0;34m.\u001b[0m\u001b[0mfindall\u001b[0m\u001b[0;34m(\u001b[0m\u001b[0mstring\u001b[0m\u001b[0;34m)\u001b[0m\u001b[0;34m\u001b[0m\u001b[0;34m\u001b[0m\u001b[0m\n\u001b[0m\u001b[1;32m    226\u001b[0m \u001b[0;34m\u001b[0m\u001b[0m\n\u001b[1;32m    227\u001b[0m \u001b[0;32mdef\u001b[0m \u001b[0mfinditer\u001b[0m\u001b[0;34m(\u001b[0m\u001b[0mpattern\u001b[0m\u001b[0;34m,\u001b[0m \u001b[0mstring\u001b[0m\u001b[0;34m,\u001b[0m \u001b[0mflags\u001b[0m\u001b[0;34m=\u001b[0m\u001b[0;36m0\u001b[0m\u001b[0;34m)\u001b[0m\u001b[0;34m:\u001b[0m\u001b[0;34m\u001b[0m\u001b[0;34m\u001b[0m\u001b[0m\n",
            "\u001b[0;32m/usr/lib/python3.7/re.py\u001b[0m in \u001b[0;36m_compile\u001b[0;34m(pattern, flags)\u001b[0m\n\u001b[1;32m    286\u001b[0m     \u001b[0;32mif\u001b[0m \u001b[0;32mnot\u001b[0m \u001b[0msre_compile\u001b[0m\u001b[0;34m.\u001b[0m\u001b[0misstring\u001b[0m\u001b[0;34m(\u001b[0m\u001b[0mpattern\u001b[0m\u001b[0;34m)\u001b[0m\u001b[0;34m:\u001b[0m\u001b[0;34m\u001b[0m\u001b[0;34m\u001b[0m\u001b[0m\n\u001b[1;32m    287\u001b[0m         \u001b[0;32mraise\u001b[0m \u001b[0mTypeError\u001b[0m\u001b[0;34m(\u001b[0m\u001b[0;34m\"first argument must be string or compiled pattern\"\u001b[0m\u001b[0;34m)\u001b[0m\u001b[0;34m\u001b[0m\u001b[0;34m\u001b[0m\u001b[0m\n\u001b[0;32m--> 288\u001b[0;31m     \u001b[0mp\u001b[0m \u001b[0;34m=\u001b[0m \u001b[0msre_compile\u001b[0m\u001b[0;34m.\u001b[0m\u001b[0mcompile\u001b[0m\u001b[0;34m(\u001b[0m\u001b[0mpattern\u001b[0m\u001b[0;34m,\u001b[0m \u001b[0mflags\u001b[0m\u001b[0;34m)\u001b[0m\u001b[0;34m\u001b[0m\u001b[0;34m\u001b[0m\u001b[0m\n\u001b[0m\u001b[1;32m    289\u001b[0m     \u001b[0;32mif\u001b[0m \u001b[0;32mnot\u001b[0m \u001b[0;34m(\u001b[0m\u001b[0mflags\u001b[0m \u001b[0;34m&\u001b[0m \u001b[0mDEBUG\u001b[0m\u001b[0;34m)\u001b[0m\u001b[0;34m:\u001b[0m\u001b[0;34m\u001b[0m\u001b[0;34m\u001b[0m\u001b[0m\n\u001b[1;32m    290\u001b[0m         \u001b[0;32mif\u001b[0m \u001b[0mlen\u001b[0m\u001b[0;34m(\u001b[0m\u001b[0m_cache\u001b[0m\u001b[0;34m)\u001b[0m \u001b[0;34m>=\u001b[0m \u001b[0m_MAXCACHE\u001b[0m\u001b[0;34m:\u001b[0m\u001b[0;34m\u001b[0m\u001b[0;34m\u001b[0m\u001b[0m\n",
            "\u001b[0;32m/usr/lib/python3.7/sre_compile.py\u001b[0m in \u001b[0;36mcompile\u001b[0;34m(p, flags)\u001b[0m\n\u001b[1;32m    762\u001b[0m     \u001b[0;32mif\u001b[0m \u001b[0misstring\u001b[0m\u001b[0;34m(\u001b[0m\u001b[0mp\u001b[0m\u001b[0;34m)\u001b[0m\u001b[0;34m:\u001b[0m\u001b[0;34m\u001b[0m\u001b[0;34m\u001b[0m\u001b[0m\n\u001b[1;32m    763\u001b[0m         \u001b[0mpattern\u001b[0m \u001b[0;34m=\u001b[0m \u001b[0mp\u001b[0m\u001b[0;34m\u001b[0m\u001b[0;34m\u001b[0m\u001b[0m\n\u001b[0;32m--> 764\u001b[0;31m         \u001b[0mp\u001b[0m \u001b[0;34m=\u001b[0m \u001b[0msre_parse\u001b[0m\u001b[0;34m.\u001b[0m\u001b[0mparse\u001b[0m\u001b[0;34m(\u001b[0m\u001b[0mp\u001b[0m\u001b[0;34m,\u001b[0m \u001b[0mflags\u001b[0m\u001b[0;34m)\u001b[0m\u001b[0;34m\u001b[0m\u001b[0;34m\u001b[0m\u001b[0m\n\u001b[0m\u001b[1;32m    765\u001b[0m     \u001b[0;32melse\u001b[0m\u001b[0;34m:\u001b[0m\u001b[0;34m\u001b[0m\u001b[0;34m\u001b[0m\u001b[0m\n\u001b[1;32m    766\u001b[0m         \u001b[0mpattern\u001b[0m \u001b[0;34m=\u001b[0m \u001b[0;32mNone\u001b[0m\u001b[0;34m\u001b[0m\u001b[0;34m\u001b[0m\u001b[0m\n",
            "\u001b[0;32m/usr/lib/python3.7/sre_parse.py\u001b[0m in \u001b[0;36mparse\u001b[0;34m(str, flags, pattern)\u001b[0m\n\u001b[1;32m    922\u001b[0m \u001b[0;34m\u001b[0m\u001b[0m\n\u001b[1;32m    923\u001b[0m     \u001b[0;32mtry\u001b[0m\u001b[0;34m:\u001b[0m\u001b[0;34m\u001b[0m\u001b[0;34m\u001b[0m\u001b[0m\n\u001b[0;32m--> 924\u001b[0;31m         \u001b[0mp\u001b[0m \u001b[0;34m=\u001b[0m \u001b[0m_parse_sub\u001b[0m\u001b[0;34m(\u001b[0m\u001b[0msource\u001b[0m\u001b[0;34m,\u001b[0m \u001b[0mpattern\u001b[0m\u001b[0;34m,\u001b[0m \u001b[0mflags\u001b[0m \u001b[0;34m&\u001b[0m \u001b[0mSRE_FLAG_VERBOSE\u001b[0m\u001b[0;34m,\u001b[0m \u001b[0;36m0\u001b[0m\u001b[0;34m)\u001b[0m\u001b[0;34m\u001b[0m\u001b[0;34m\u001b[0m\u001b[0m\n\u001b[0m\u001b[1;32m    925\u001b[0m     \u001b[0;32mexcept\u001b[0m \u001b[0mVerbose\u001b[0m\u001b[0;34m:\u001b[0m\u001b[0;34m\u001b[0m\u001b[0;34m\u001b[0m\u001b[0m\n\u001b[1;32m    926\u001b[0m         \u001b[0;31m# the VERBOSE flag was switched on inside the pattern.  to be\u001b[0m\u001b[0;34m\u001b[0m\u001b[0;34m\u001b[0m\u001b[0;34m\u001b[0m\u001b[0m\n",
            "\u001b[0;32m/usr/lib/python3.7/sre_parse.py\u001b[0m in \u001b[0;36m_parse_sub\u001b[0;34m(source, state, verbose, nested)\u001b[0m\n\u001b[1;32m    418\u001b[0m     \u001b[0;32mwhile\u001b[0m \u001b[0;32mTrue\u001b[0m\u001b[0;34m:\u001b[0m\u001b[0;34m\u001b[0m\u001b[0;34m\u001b[0m\u001b[0m\n\u001b[1;32m    419\u001b[0m         itemsappend(_parse(source, state, verbose, nested + 1,\n\u001b[0;32m--> 420\u001b[0;31m                            not nested and not items))\n\u001b[0m\u001b[1;32m    421\u001b[0m         \u001b[0;32mif\u001b[0m \u001b[0;32mnot\u001b[0m \u001b[0msourcematch\u001b[0m\u001b[0;34m(\u001b[0m\u001b[0;34m\"|\"\u001b[0m\u001b[0;34m)\u001b[0m\u001b[0;34m:\u001b[0m\u001b[0;34m\u001b[0m\u001b[0;34m\u001b[0m\u001b[0m\n\u001b[1;32m    422\u001b[0m             \u001b[0;32mbreak\u001b[0m\u001b[0;34m\u001b[0m\u001b[0;34m\u001b[0m\u001b[0m\n",
            "\u001b[0;32m/usr/lib/python3.7/sre_parse.py\u001b[0m in \u001b[0;36m_parse\u001b[0;34m(source, state, verbose, nested, first)\u001b[0m\n\u001b[1;32m    646\u001b[0m             \u001b[0;32mif\u001b[0m \u001b[0mitem\u001b[0m\u001b[0;34m[\u001b[0m\u001b[0;36m0\u001b[0m\u001b[0;34m]\u001b[0m\u001b[0;34m[\u001b[0m\u001b[0;36m0\u001b[0m\u001b[0;34m]\u001b[0m \u001b[0;32min\u001b[0m \u001b[0m_REPEATCODES\u001b[0m\u001b[0;34m:\u001b[0m\u001b[0;34m\u001b[0m\u001b[0;34m\u001b[0m\u001b[0m\n\u001b[1;32m    647\u001b[0m                 raise source.error(\"multiple repeat\",\n\u001b[0;32m--> 648\u001b[0;31m                                    source.tell() - here + len(this))\n\u001b[0m\u001b[1;32m    649\u001b[0m             \u001b[0;32mif\u001b[0m \u001b[0mitem\u001b[0m\u001b[0;34m[\u001b[0m\u001b[0;36m0\u001b[0m\u001b[0;34m]\u001b[0m\u001b[0;34m[\u001b[0m\u001b[0;36m0\u001b[0m\u001b[0;34m]\u001b[0m \u001b[0;32mis\u001b[0m \u001b[0mSUBPATTERN\u001b[0m\u001b[0;34m:\u001b[0m\u001b[0;34m\u001b[0m\u001b[0;34m\u001b[0m\u001b[0m\n\u001b[1;32m    650\u001b[0m                 \u001b[0mgroup\u001b[0m\u001b[0;34m,\u001b[0m \u001b[0madd_flags\u001b[0m\u001b[0;34m,\u001b[0m \u001b[0mdel_flags\u001b[0m\u001b[0;34m,\u001b[0m \u001b[0mp\u001b[0m \u001b[0;34m=\u001b[0m \u001b[0mitem\u001b[0m\u001b[0;34m[\u001b[0m\u001b[0;36m0\u001b[0m\u001b[0;34m]\u001b[0m\u001b[0;34m[\u001b[0m\u001b[0;36m1\u001b[0m\u001b[0;34m]\u001b[0m\u001b[0;34m\u001b[0m\u001b[0;34m\u001b[0m\u001b[0m\n",
            "\u001b[0;31merror\u001b[0m: multiple repeat at position 7"
          ]
        }
      ]
    },
    {
      "cell_type": "code",
      "source": [
        "re.findall(r'\\d{1,2}\\w{2}\\s\\w+\\s\\d{4}\\s\\d{2}:\\d{2}', date)"
      ],
      "metadata": {
        "colab": {
          "base_uri": "https://localhost:8080/"
        },
        "id": "5Q0pqDp_9lJO",
        "outputId": "7f9d7c02-8747-45a1-d072-59978a74cc0a"
      },
      "execution_count": null,
      "outputs": [
        {
          "output_type": "execute_result",
          "data": {
            "text/plain": [
              "['1st september 2019 07:25']"
            ]
          },
          "metadata": {},
          "execution_count": 27
        }
      ]
    },
    {
      "cell_type": "markdown",
      "metadata": {
        "id": "kXjJXj5hBkBj"
      },
      "source": []
    },
    {
      "cell_type": "code",
      "metadata": {
        "id": "DHp1uMnM_hzI",
        "colab": {
          "base_uri": "https://localhost:8080/"
        },
        "outputId": "5e1f07b6-10d7-4773-8e4c-44ca52e1e840"
      },
      "source": [
        "# search ищет по всей строке, а match только в начале\n",
        "text = \"\"\"Что такое регулярные выражения и как их использовать? \n",
        "Говоря простым языком, регулярное выражение — это последовательность символов, используемая для поиска и замены текста в строке или файле. Как уже было упомянуто,\\\n",
        "их поддерживает множество языков общего назначения: Python, Perl, R.\n",
        "Так что изучение регулярных выражений рано или поздно пригодится.\"\"\"\n",
        "\n",
        "result = re.match(r'P\\w+', text)\n",
        "result\n",
        "print('Нашел' if result else 'Не нашел')"
      ],
      "execution_count": null,
      "outputs": [
        {
          "output_type": "stream",
          "name": "stdout",
          "text": [
            "Не нашел\n"
          ]
        }
      ]
    },
    {
      "cell_type": "code",
      "metadata": {
        "id": "uM3JJ1eR_hzI",
        "colab": {
          "base_uri": "https://localhost:8080/"
        },
        "outputId": "c56e5091-bc75-4b8e-f4cf-9b9227eba52d"
      },
      "source": [
        "re.match(r'\\w+', text)"
      ],
      "execution_count": null,
      "outputs": [
        {
          "output_type": "execute_result",
          "data": {
            "text/plain": [
              "<re.Match object; span=(0, 3), match='Что'>"
            ]
          },
          "metadata": {},
          "execution_count": 29
        }
      ]
    },
    {
      "cell_type": "code",
      "metadata": {
        "id": "Js-pRNcy_hzJ",
        "colab": {
          "base_uri": "https://localhost:8080/"
        },
        "outputId": "33fe388c-3470-441c-a428-5c0518b3e224"
      },
      "source": [
        "res = re.search(r'P\\w+', text)\n",
        "res.start()\n",
        "# res.group()\n",
        "# res"
      ],
      "execution_count": null,
      "outputs": [
        {
          "output_type": "execute_result",
          "data": {
            "text/plain": [
              "269"
            ]
          },
          "metadata": {},
          "execution_count": 33
        }
      ]
    },
    {
      "cell_type": "code",
      "metadata": {
        "id": "8BP4XUVO_hzJ"
      },
      "source": [],
      "execution_count": null,
      "outputs": []
    },
    {
      "cell_type": "code",
      "metadata": {
        "id": "sWzhv7xE_hzJ"
      },
      "source": [
        "# экранирование\n",
        "text = \"Эта строка написана 08.06.2021, а могла бы и 01/01/2999\""
      ],
      "execution_count": null,
      "outputs": []
    },
    {
      "cell_type": "code",
      "metadata": {
        "id": "MJGyV901_hzK",
        "colab": {
          "base_uri": "https://localhost:8080/"
        },
        "outputId": "7ab8c522-f5cb-47ee-a038-66baf958a3fb"
      },
      "source": [
        "re.findall(r'\\d{2}.\\d\\d.\\d{4}', text)"
      ],
      "execution_count": null,
      "outputs": [
        {
          "output_type": "execute_result",
          "data": {
            "text/plain": [
              "['08.06.2021', '01/01/2999']"
            ]
          },
          "metadata": {},
          "execution_count": 37
        }
      ]
    },
    {
      "cell_type": "code",
      "metadata": {
        "id": "iSKV6Rqc_hzK"
      },
      "source": [
        "# определим находится ли домен в зоне com\n",
        "domain = 'www.site.com'"
      ],
      "execution_count": null,
      "outputs": []
    },
    {
      "cell_type": "code",
      "metadata": {
        "id": "m3h4l64J_hzK",
        "colab": {
          "base_uri": "https://localhost:8080/"
        },
        "outputId": "54715f2f-1c35-4992-8a59-66cc5414cc70"
      },
      "source": [
        "re.findall(r'www\\.\\w+\\.com', domain)"
      ],
      "execution_count": null,
      "outputs": [
        {
          "output_type": "execute_result",
          "data": {
            "text/plain": [
              "['www.site.com']"
            ]
          },
          "metadata": {},
          "execution_count": 39
        }
      ]
    },
    {
      "cell_type": "code",
      "metadata": {
        "id": "3Fgjt-hA_hzL"
      },
      "source": [
        "# поищем только в начале и конце строки\n",
        "history_comment = '20 век был более опасным, чем 19 век'"
      ],
      "execution_count": null,
      "outputs": []
    },
    {
      "cell_type": "code",
      "metadata": {
        "id": "mBANMW7F_hzL",
        "colab": {
          "base_uri": "https://localhost:8080/"
        },
        "outputId": "ce0853d1-bc13-4a49-d2ff-ee6189c44ae3"
      },
      "source": [
        "re.findall(r'\\d{1,2}\\sвек', history_comment)"
      ],
      "execution_count": null,
      "outputs": [
        {
          "output_type": "execute_result",
          "data": {
            "text/plain": [
              "['20 век', '19 век']"
            ]
          },
          "metadata": {},
          "execution_count": 41
        }
      ]
    },
    {
      "cell_type": "code",
      "metadata": {
        "id": "cxBFLGqF_hzM",
        "colab": {
          "base_uri": "https://localhost:8080/"
        },
        "outputId": "6d148459-93d2-4b8f-8e13-7ce3220fbf1e"
      },
      "source": [
        "re.findall(r'^\\d{1,2}\\sвек', history_comment)"
      ],
      "execution_count": null,
      "outputs": [
        {
          "output_type": "execute_result",
          "data": {
            "text/plain": [
              "['20 век']"
            ]
          },
          "metadata": {},
          "execution_count": 42
        }
      ]
    },
    {
      "cell_type": "code",
      "metadata": {
        "id": "RHLmO7nh_hzN",
        "colab": {
          "base_uri": "https://localhost:8080/"
        },
        "outputId": "7fed9801-ba69-4512-c65b-d58712c89ae5"
      },
      "source": [
        "re.findall(r'\\d{1,2}\\sвек$', history_comment)"
      ],
      "execution_count": null,
      "outputs": [
        {
          "output_type": "execute_result",
          "data": {
            "text/plain": [
              "['19 век']"
            ]
          },
          "metadata": {},
          "execution_count": 43
        }
      ]
    },
    {
      "cell_type": "code",
      "metadata": {
        "id": "rbbiCwSt_hzN"
      },
      "source": [],
      "execution_count": null,
      "outputs": []
    },
    {
      "cell_type": "code",
      "metadata": {
        "id": "UYt4Ie2p_hzN",
        "colab": {
          "base_uri": "https://localhost:8080/"
        },
        "outputId": "8d6997e4-1cbc-430d-89b0-9e759a715216"
      },
      "source": [
        "# ИЛИ\n",
        "market_search = 'Что лучше: ноутбук или компьютер?'\n",
        "re.findall('ноутбук|компьютер', market_search)"
      ],
      "execution_count": null,
      "outputs": [
        {
          "output_type": "execute_result",
          "data": {
            "text/plain": [
              "['ноутбук', 'компьютер']"
            ]
          },
          "metadata": {},
          "execution_count": 44
        }
      ]
    },
    {
      "cell_type": "code",
      "metadata": {
        "id": "QA_LkF74_hzO",
        "colab": {
          "base_uri": "https://localhost:8080/",
          "height": 36
        },
        "outputId": "7a4de448-e2bc-4311-dde3-b6499ed02f15"
      },
      "source": [
        "text = '    Тут текст в который попали пробельные символы в начале и в конце, от которых нужно избавиться   ' \n",
        "\n",
        "re.sub(r'^\\s+|\\s+$', '', text) "
      ],
      "execution_count": null,
      "outputs": [
        {
          "output_type": "execute_result",
          "data": {
            "text/plain": [
              "'Тут текст в который попали пробельные символы в начале и в конце, от которых нужно избавиться'"
            ],
            "application/vnd.google.colaboratory.intrinsic+json": {
              "type": "string"
            }
          },
          "metadata": {},
          "execution_count": 45
        }
      ]
    },
    {
      "cell_type": "code",
      "metadata": {
        "id": "WJUKoWcN_hzO"
      },
      "source": [],
      "execution_count": null,
      "outputs": []
    },
    {
      "cell_type": "code",
      "metadata": {
        "id": "rfzOaAqP_hzP",
        "colab": {
          "base_uri": "https://localhost:8080/"
        },
        "outputId": "6f3bfdfa-944d-49c5-ab20-7a994381fa34"
      },
      "source": [
        "# [] - найдем слово во всем склонениях\n",
        "text = \"\"\"Что такое регулярные выражения и как их использовать? \n",
        "Говоря простым языком, регулярное выражение — это последовательность символов, используемая для поиска и замены текста в строке или файле. Как уже было упомянуто,\n",
        "их поддерживает множество языков общего назначения: Python, Perl, R.\n",
        "Так что изучение регулярных выражений рано или поздно пригодится.\"\"\"\n",
        "pattern = r'[Рр]егулярн[а-я]{2,3}\\sвыражен[а-я]{2,3}'\n",
        "re.findall(pattern, text)"
      ],
      "execution_count": null,
      "outputs": [
        {
          "output_type": "execute_result",
          "data": {
            "text/plain": [
              "['регулярные выражения', 'регулярное выражение', 'регулярных выражений']"
            ]
          },
          "metadata": {},
          "execution_count": 46
        }
      ]
    },
    {
      "cell_type": "code",
      "metadata": {
        "id": "tlzH1TFZ_hzQ"
      },
      "source": [],
      "execution_count": null,
      "outputs": []
    },
    {
      "cell_type": "code",
      "metadata": {
        "id": "M8NQrHsJ_hzR"
      },
      "source": [
        "# найдем все домены, которые состоят из цифр\n",
        "websites = 'www.101.com  www.google.com'"
      ],
      "execution_count": null,
      "outputs": []
    },
    {
      "cell_type": "code",
      "metadata": {
        "id": "Q-e3ERl2_hzR",
        "colab": {
          "base_uri": "https://localhost:8080/"
        },
        "outputId": "cec9c90e-bcfd-44cb-8749-7fe6b6faa7de"
      },
      "source": [
        "re.findall(r'www\\.[0-9]+\\.com', websites)"
      ],
      "execution_count": null,
      "outputs": [
        {
          "output_type": "execute_result",
          "data": {
            "text/plain": [
              "['www.101.com']"
            ]
          },
          "metadata": {},
          "execution_count": 48
        }
      ]
    },
    {
      "cell_type": "code",
      "metadata": {
        "id": "edYU_HDW_hzR"
      },
      "source": [
        "websites = 'www.101.com  www.google.com'"
      ],
      "execution_count": null,
      "outputs": []
    },
    {
      "cell_type": "code",
      "metadata": {
        "id": "plq39Hbe_hzR",
        "colab": {
          "base_uri": "https://localhost:8080/"
        },
        "outputId": "bd6131d8-5106-4f01-d311-6a791a9074b1"
      },
      "source": [
        "re.findall(r'www\\.[^0-9]+\\.com', websites)"
      ],
      "execution_count": null,
      "outputs": [
        {
          "output_type": "execute_result",
          "data": {
            "text/plain": [
              "[]"
            ]
          },
          "metadata": {},
          "execution_count": 53
        }
      ]
    },
    {
      "cell_type": "code",
      "metadata": {
        "id": "9MVX6FV6_hzS"
      },
      "source": [],
      "execution_count": null,
      "outputs": []
    },
    {
      "cell_type": "code",
      "metadata": {
        "id": "_eJo-m10_hzS",
        "colab": {
          "base_uri": "https://localhost:8080/"
        },
        "outputId": "06184ab3-f24a-456b-bdd8-5090a543f1b3"
      },
      "source": [
        "# split\n",
        "columns = 'Столбец1,Столбец2;Столбец3, Столбец4; Столбец5'\n",
        "re.split(r'[,;]\\s?', columns)"
      ],
      "execution_count": null,
      "outputs": [
        {
          "output_type": "execute_result",
          "data": {
            "text/plain": [
              "['Столбец1', 'Столбец2', 'Столбец3', 'Столбец4', 'Столбец5']"
            ]
          },
          "metadata": {},
          "execution_count": 51
        }
      ]
    },
    {
      "cell_type": "code",
      "metadata": {
        "id": "_tiEjOyJ_hzS"
      },
      "source": [],
      "execution_count": null,
      "outputs": []
    },
    {
      "cell_type": "code",
      "metadata": {
        "id": "dGqHFMNR_hzT",
        "colab": {
          "base_uri": "https://localhost:8080/"
        },
        "outputId": "58d7f080-849a-4e41-b463-85b8c0c06fd5"
      },
      "source": [
        "# произведем замену на regex\n",
        "text = \"\"\"Что такое регулярные выражения и как их использовать? \n",
        "Говоря простым языком, регулярное выражение — это последовательность символов, используемая для поиска и замены текста в строке или файле. Как уже было упомянуто,\n",
        "их поддерживает множество языков общего назначения: Python, Perl, R.\n",
        "Так что изучение регулярных выражений рано или поздно пригодится.\"\"\"\n",
        "\n",
        "print(re.sub(r'[Рр]егулярн[а-я]+ выражен[а-я]+', 'regex', text))"
      ],
      "execution_count": null,
      "outputs": [
        {
          "output_type": "stream",
          "name": "stdout",
          "text": [
            "Что такое regex и как их использовать? \n",
            "Говоря простым языком, regex — это последовательность символов, используемая для поиска и замены текста в строке или файле. Как уже было упомянуто,\n",
            "их поддерживает множество языков общего назначения: Python, Perl, R.\n",
            "Так что изучение regex рано или поздно пригодится.\n"
          ]
        }
      ]
    },
    {
      "cell_type": "code",
      "metadata": {
        "id": "vEXnaRol_hzT",
        "colab": {
          "base_uri": "https://localhost:8080/"
        },
        "outputId": "f24e7477-dcaa-44d2-812d-e705c084cf0c"
      },
      "source": [
        "text = \"Некоторые обычные слова подозрительны: хор, хук, хек, хорёк\" \n",
        "print(re.sub(r'\\b[хХ]\\w{2}\\b', 'censored', text)) "
      ],
      "execution_count": null,
      "outputs": [
        {
          "output_type": "stream",
          "name": "stdout",
          "text": [
            "Некоторые обычные слова подозрительны: censored, censored, censored, хорёк\n"
          ]
        }
      ]
    },
    {
      "cell_type": "code",
      "metadata": {
        "id": "JC8bnaBk_hzT",
        "colab": {
          "base_uri": "https://localhost:8080/",
          "height": 70
        },
        "outputId": "688272c6-7a70-42ca-8154-2b06a4c7aa96"
      },
      "source": [
        "# Практика. Удалим все знаки пунктуации из текста через sub\n",
        "text = \"\"\"Что такое регулярные выражения и как их использовать? \n",
        "Говоря простым языком, регулярное выражение — это последовательность символов, используемая для поиска и замены текста в строке или файле. Как уже было упомянуто,\n",
        "их поддерживает множество языков общего назначения: Python, Perl, R.\n",
        "Так что изучение регулярных выражений рано или поздно пригодится.\"\"\"\n",
        "\n",
        "re.sub(r'[^\\w\\s]', '', text)"
      ],
      "execution_count": null,
      "outputs": [
        {
          "output_type": "execute_result",
          "data": {
            "text/plain": [
              "'Что такое регулярные выражения и как их использовать? Говоря простым языком, регулярное выражение — это последовательность символов, используемая для поиска и замены текста в строке или файле. Как уже было упомянуто,их поддерживает множество языков общего назначения: Python, Perl, R.Так что изучение регулярных выражений рано или поздно пригодится.'"
            ],
            "application/vnd.google.colaboratory.intrinsic+json": {
              "type": "string"
            }
          },
          "metadata": {},
          "execution_count": 62
        }
      ]
    },
    {
      "cell_type": "code",
      "metadata": {
        "id": "fks9ubDa_hzU",
        "colab": {
          "base_uri": "https://localhost:8080/",
          "height": 70
        },
        "outputId": "b4dd668e-9e49-496b-86d0-d80beb82ff9c"
      },
      "source": [
        "re.sub(r'[.,?!:;...\\n]','', text)"
      ],
      "execution_count": null,
      "outputs": [
        {
          "output_type": "execute_result",
          "data": {
            "text/plain": [
              "'Что такое регулярные выражения и как их использовать Говоря простым языком регулярное выражение — это последовательность символов используемая для поиска и замены текста в строке или файле Как уже было упомянутоих поддерживает множество языков общего назначения Python Perl RТак что изучение регулярных выражений рано или поздно пригодится'"
            ],
            "application/vnd.google.colaboratory.intrinsic+json": {
              "type": "string"
            }
          },
          "metadata": {},
          "execution_count": 60
        }
      ]
    },
    {
      "cell_type": "code",
      "source": [
        "re.sub(r'\\S+', '', text)"
      ],
      "metadata": {
        "colab": {
          "base_uri": "https://localhost:8080/",
          "height": 36
        },
        "id": "C9VYQq8WEuhO",
        "outputId": "2590c791-5029-49cc-c8e1-bd43511abc7a"
      },
      "execution_count": null,
      "outputs": [
        {
          "output_type": "execute_result",
          "data": {
            "text/plain": [
              "'        \\n                      \\n        \\n        '"
            ],
            "application/vnd.google.colaboratory.intrinsic+json": {
              "type": "string"
            }
          },
          "metadata": {},
          "execution_count": 61
        }
      ]
    },
    {
      "cell_type": "markdown",
      "metadata": {
        "id": "ar8N3rykBnvu"
      },
      "source": []
    },
    {
      "cell_type": "code",
      "metadata": {
        "id": "VzI26XiV_hzU"
      },
      "source": [
        "# скобочные группы\n",
        "# выделим группы символов из посадочного талона, где:\n",
        "# - первые 2 символа - это авиакомпания;\n",
        "# - 4 следующие символа - номер рейса;\n",
        "# - 3 следующих символа - аэропорт отправления;\n",
        "# - 3 следюущих - аэропорт прибытия;\n",
        "# - оставшиеся - дата рейса\n",
        "# Все буквы всегда в верхнем регистре"
      ],
      "execution_count": null,
      "outputs": []
    },
    {
      "cell_type": "code",
      "metadata": {
        "id": "LlGOJfFT_hzV"
      },
      "source": [
        "flight = '''Boarding pass: \n",
        "LA4214 AER-CDB 06NOV \n",
        "LA4332 AER-CDB 07NOV\n",
        "'''"
      ],
      "execution_count": null,
      "outputs": []
    },
    {
      "cell_type": "code",
      "metadata": {
        "id": "bjec5-PB_hzV"
      },
      "source": [
        "regex_flight = r'([A-Z]{2})(\\d{4})\\s([A-Z]{3})-([A-Z]{3})\\s(\\d{2}[A-Z]{3})'"
      ],
      "execution_count": null,
      "outputs": []
    },
    {
      "cell_type": "code",
      "metadata": {
        "id": "K90yhL6J_hzV"
      },
      "source": [
        "# ВНИМАНИЕ! При наличии скобочных групп функция find_all ищет только их! \n",
        "# Остальные функции получают такой-же match объект, в котором есть возможность обратиться к любой группе\n",
        "flight_result = re.findall(regex_flight, flight)"
      ],
      "execution_count": null,
      "outputs": []
    },
    {
      "cell_type": "code",
      "metadata": {
        "id": "FtPQ5puv_hzW",
        "colab": {
          "base_uri": "https://localhost:8080/"
        },
        "outputId": "3f14300d-ce01-415a-e957-16dfa1522ae4"
      },
      "source": [
        "print(flight_result)"
      ],
      "execution_count": null,
      "outputs": [
        {
          "output_type": "stream",
          "name": "stdout",
          "text": [
            "[('LA', '4214', 'AER', 'CDB', '06NOV'), ('LA', '4332', 'AER', 'CDB', '07NOV')]\n"
          ]
        }
      ]
    },
    {
      "cell_type": "code",
      "metadata": {
        "id": "DW-PG4mp_hzW",
        "colab": {
          "base_uri": "https://localhost:8080/"
        },
        "outputId": "5af67e56-2a95-44df-df8b-404d27b84bbc"
      },
      "source": [
        "flight_match_result = re.search(regex_flight, flight)\n",
        "print(flight_match_result)\n",
        "print(flight_match_result.group(2, 4))"
      ],
      "execution_count": null,
      "outputs": [
        {
          "output_type": "stream",
          "name": "stdout",
          "text": [
            "<re.Match object; span=(16, 36), match='LA4214 AER-CDB 06NOV'>\n",
            "LA4214 AER-CDB 06NOV\n"
          ]
        }
      ]
    },
    {
      "cell_type": "code",
      "metadata": {
        "id": "dKRzXYJI_hzW",
        "colab": {
          "base_uri": "https://localhost:8080/",
          "height": 36
        },
        "outputId": "747fe9ed-4890-4f2a-a46f-a14ec92d90d4"
      },
      "source": [
        "# переведем даты к другому формату при помощи групп\n",
        "date = 'some text 08/30/1991 some text'\n",
        "re.sub(r'(\\d\\d)/(\\d\\d)/(\\d{4})', r'\\2.\\1.\\3', date)"
      ],
      "execution_count": null,
      "outputs": [
        {
          "output_type": "execute_result",
          "data": {
            "text/plain": [
              "'some text 30.08.1991 some text'"
            ],
            "application/vnd.google.colaboratory.intrinsic+json": {
              "type": "string"
            }
          },
          "metadata": {},
          "execution_count": 72
        }
      ]
    },
    {
      "cell_type": "code",
      "metadata": {
        "id": "Igp0COzW_hzX"
      },
      "source": [
        "# удалим последовательные повторы цифр\n",
        "numbers = '44444555 6666 8888 7777 44445467457547457555555'"
      ],
      "execution_count": null,
      "outputs": []
    },
    {
      "cell_type": "code",
      "metadata": {
        "id": "zCGLQ2Dg_hzX",
        "colab": {
          "base_uri": "https://localhost:8080/",
          "height": 36
        },
        "outputId": "bc58a216-94d9-4587-883f-caf5eb79b58b"
      },
      "source": [
        "re.sub(r'(\\d)\\1+', r'\\1', numbers)"
      ],
      "execution_count": null,
      "outputs": [
        {
          "output_type": "execute_result",
          "data": {
            "text/plain": [
              "'45 6 8 7 454674575474575'"
            ],
            "application/vnd.google.colaboratory.intrinsic+json": {
              "type": "string"
            }
          },
          "metadata": {},
          "execution_count": 74
        }
      ]
    },
    {
      "cell_type": "code",
      "metadata": {
        "id": "daNJpfTe_hzX"
      },
      "source": [],
      "execution_count": null,
      "outputs": []
    },
    {
      "cell_type": "code",
      "metadata": {
        "id": "RBGewGNf_hzY"
      },
      "source": [
        "# ПРАКТИКА. Посчитаем количество лайков и репостов по всем сообщениям\n",
        "messages = ['Опять дождь! Лайков: 2', 'Крутой был концерт 21 августа! Лайков: 28, Репостов: 22']"
      ],
      "execution_count": null,
      "outputs": []
    },
    {
      "cell_type": "code",
      "metadata": {
        "id": "gQfec0rL_hzY",
        "colab": {
          "base_uri": "https://localhost:8080/"
        },
        "outputId": "f79c9694-2a1a-4329-b33d-96c3ee263cae"
      },
      "source": [
        "likes = 0\n",
        "reposts = 0\n",
        "for msg in messages:\n",
        "    likes_pattern = re.search(r'Лайков:\\s(\\d+)', msg)\n",
        "    reposts_pattern = re.search(r'Репостов:\\s(\\d+)', msg)\n",
        "    if likes_pattern: likes += int(likes_pattern.group(1))\n",
        "    if reposts_pattern: reposts += int(reposts_pattern.group(1))\n",
        "\n",
        "print(likes)\n",
        "print(reposts)"
      ],
      "execution_count": null,
      "outputs": [
        {
          "output_type": "stream",
          "name": "stdout",
          "text": [
            "30\n",
            "22\n"
          ]
        }
      ]
    },
    {
      "cell_type": "code",
      "metadata": {
        "id": "kBnKnsiG_hzY"
      },
      "source": [],
      "execution_count": null,
      "outputs": []
    },
    {
      "cell_type": "code",
      "metadata": {
        "id": "JpYcMJ7N_hzY"
      },
      "source": [
        "# Флаги\n",
        "text = \"\"\"Что такое регулярные выражения и как их использовать? \n",
        "Говоря простым языком, регулярное выражение — это последовательность символов, используемая для поиска и замены текста в строке или файле. Как уже было упомянуто,\n",
        "их поддерживает множество языков общего назначения: Python, Perl, R.\n",
        "Так что изучение регулярных выражений рано или поздно пригодится.\"\"\""
      ],
      "execution_count": null,
      "outputs": []
    },
    {
      "cell_type": "code",
      "metadata": {
        "id": "9BJwqTt8_hzZ",
        "colab": {
          "base_uri": "https://localhost:8080/"
        },
        "outputId": "b80cfbb1-d679-48ba-d0e4-3e7a2b4665ac"
      },
      "source": [
        "print(re.findall(r'[a-z]+', text)) \n",
        "print(re.findall(r'[a-z]+', text, flags=re.IGNORECASE)) "
      ],
      "execution_count": null,
      "outputs": [
        {
          "output_type": "stream",
          "name": "stdout",
          "text": [
            "[]\n",
            "[]\n"
          ]
        }
      ]
    },
    {
      "cell_type": "code",
      "metadata": {
        "id": "p7mS82iG_hzZ",
        "colab": {
          "base_uri": "https://localhost:8080/"
        },
        "outputId": "236f551e-a5cd-4d6b-9c21-2b0da1d70fa5"
      },
      "source": [
        "print(re.findall(r'^\\w+', text)) \n",
        "print(re.findall(r'^\\w+', text, flags=re.MULTILINE)) "
      ],
      "execution_count": null,
      "outputs": [
        {
          "output_type": "stream",
          "name": "stdout",
          "text": [
            "['Что']\n",
            "['Что', 'Говоря', 'их', 'Так']\n"
          ]
        }
      ]
    },
    {
      "cell_type": "code",
      "metadata": {
        "id": "ubIcC-fr_hzZ"
      },
      "source": [],
      "execution_count": null,
      "outputs": []
    },
    {
      "cell_type": "code",
      "metadata": {
        "id": "MAIeq0qM_hza",
        "colab": {
          "base_uri": "https://localhost:8080/"
        },
        "outputId": "cfeb6e70-c524-4c75-f315-aba513d9e11b"
      },
      "source": [
        "# lookaround. Достанем имена только загруженных файлов\n",
        "report = 'файл 11.txt загружен, файл 22.txt ошибка 44345, файл 33.txt загружен, файл 44.txt ошибка 43535'\n",
        "# find_downloaded = r'\\d+\\.txt(?=\\sзагружен)'\n",
        "files_error = r'\\d+\\.txt(?!\\sзагружен)'\n",
        "# re.findall(find_downloaded, report)\n",
        "re.findall(files_error, report)"
      ],
      "execution_count": null,
      "outputs": [
        {
          "output_type": "execute_result",
          "data": {
            "text/plain": [
              "['22.txt', '44.txt']"
            ]
          },
          "metadata": {},
          "execution_count": 83
        }
      ]
    },
    {
      "cell_type": "code",
      "metadata": {
        "id": "LIjlIz6q_hza"
      },
      "source": [],
      "execution_count": null,
      "outputs": []
    },
    {
      "cell_type": "code",
      "metadata": {
        "id": "zOxfkL8L_hza"
      },
      "source": [
        "# ПРАКТИКА. Получить только рублевые цены\n",
        "prices = 'RUB4.44, RUB10.88, EUR0.99, RUB99.99, USD39.00'"
      ],
      "execution_count": null,
      "outputs": []
    },
    {
      "cell_type": "code",
      "metadata": {
        "id": "eA3B1dhK_hza",
        "colab": {
          "base_uri": "https://localhost:8080/"
        },
        "outputId": "6b95e74f-a5ca-49f9-cee2-8f6cc2261164"
      },
      "source": [
        "ru_prices = r'(?<=RUB)\\d{1,2}\\.\\d{2}'\n",
        "\n",
        "re.findall(ru_prices, prices)"
      ],
      "execution_count": null,
      "outputs": [
        {
          "output_type": "execute_result",
          "data": {
            "text/plain": [
              "['4.44', '10.88', '99.99']"
            ]
          },
          "metadata": {},
          "execution_count": 86
        }
      ]
    },
    {
      "cell_type": "markdown",
      "metadata": {
        "id": "WiWg81tWHz2b"
      },
      "source": [
        "https://regexcrossword.com/howtoplay\n",
        "\n",
        "https://ihateregex.io\n",
        "\n",
        "https://regex101.com/"
      ]
    },
    {
      "cell_type": "markdown",
      "source": [
        "Регулярные\n",
        "выражения\n",
        "Сборник рецептов\n",
        "2015\n",
        "Ян Гойвертс,\n",
        "Стивен\n",
        "Левитан"
      ],
      "metadata": {
        "id": "4bInRY3OHWNB"
      }
    },
    {
      "cell_type": "code",
      "source": [],
      "metadata": {
        "id": "6OaUPGLRMKyt"
      },
      "execution_count": null,
      "outputs": []
    }
  ]
}