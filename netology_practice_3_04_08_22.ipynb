{
  "nbformat": 4,
  "nbformat_minor": 0,
  "metadata": {
    "colab": {
      "provenance": [],
      "include_colab_link": true
    },
    "kernelspec": {
      "name": "python3",
      "display_name": "Python 3"
    },
    "language_info": {
      "name": "python"
    }
  },
  "cells": [
    {
      "cell_type": "markdown",
      "metadata": {
        "id": "view-in-github",
        "colab_type": "text"
      },
      "source": [
        "<a href=\"https://colab.research.google.com/github/solobala/pyda36/blob/main/netology_practice_3_04_08_22.ipynb\" target=\"_parent\"><img src=\"https://colab.research.google.com/assets/colab-badge.svg\" alt=\"Open In Colab\"/></a>"
      ]
    },
    {
      "cell_type": "markdown",
      "metadata": {
        "id": "edQI-m-cCgpV"
      },
      "source": [
        "# Практика 3\n",
        "Теория: Функции\n",
        "\n",
        "Булыгин Олег:  \n",
        "* [LinkedIn](linkedin.com/in/obulygin)  \n",
        "* [Мой канал в ТГ по Python](https://t.me/solidtalk)"
      ]
    },
    {
      "cell_type": "markdown",
      "metadata": {
        "id": "U72FhsNpDhxX"
      },
      "source": [
        "\n",
        "\n",
        "1.   Вспомним args\n",
        "2.   Вспомним lambda-функции и посмотрим на итераторы\n",
        "3.   Напишем программу в процедурном стиле на основе функций\n",
        "\n",
        "\n"
      ]
    },
    {
      "cell_type": "markdown",
      "metadata": {
        "id": "XOY7VKI357LA"
      },
      "source": [
        "### Практика. Напишем функцию, которая определяет является ли слово палиндромом\n",
        "\n",
        "Пример работы программы:\n",
        "```\n",
        "print(is_palindrom('Радар'))\n",
        "True\n",
        "```\n",
        "\n",
        "```\n",
        "print(is_palindrom('строка'))\n",
        "False\n",
        "```"
      ]
    },
    {
      "cell_type": "code",
      "metadata": {
        "id": "TL8qWkEI6mLE",
        "colab": {
          "base_uri": "https://localhost:8080/"
        },
        "outputId": "e1ef8fe7-1d7a-4adb-ea39-d01a3617f131"
      },
      "source": [
        "def pal(s):\n",
        "  s = s.lower()\n",
        "  return s == s[::-1]\n",
        "pal('Радар')"
      ],
      "execution_count": null,
      "outputs": [
        {
          "output_type": "execute_result",
          "data": {
            "text/plain": [
              "True"
            ]
          },
          "metadata": {},
          "execution_count": 6
        }
      ]
    },
    {
      "cell_type": "code",
      "source": [
        "def pal():\n",
        "    f = input(\"Введите строку\")\n",
        "    if f == f[::-1]:\n",
        "        print(True)\n",
        "    else:\n",
        "        print(False)\n",
        "\n",
        "pal()"
      ],
      "metadata": {
        "colab": {
          "base_uri": "https://localhost:8080/"
        },
        "id": "AKvGfRLpnCoI",
        "outputId": "44302454-a161-4f2e-ecc2-b78654034bc3"
      },
      "execution_count": null,
      "outputs": [
        {
          "output_type": "stream",
          "name": "stdout",
          "text": [
            "Введите строкурадар\n",
            "True\n"
          ]
        }
      ]
    },
    {
      "cell_type": "code",
      "source": [
        "slovo = input()\n",
        "if slovo == slovo[::-1]:\n",
        "    print(\"да\")\n",
        "else:\n",
        "    print(\"нет\")"
      ],
      "metadata": {
        "id": "IMUQ5I1enG6R"
      },
      "execution_count": null,
      "outputs": []
    },
    {
      "cell_type": "markdown",
      "metadata": {
        "id": "BF7EhPbcSVBV"
      },
      "source": [
        "## args and kwargs\n",
        "Иногда возникает ситуация, когда вы заранее не знаете, какое количество аргументов будет необходимо принять функции. В этом случае следует использовать аргументы произвольной длины ([args и kwargs](https://habr.com/ru/company/ruvds/blog/482464/)). Они задаются произвольным именем переменной, перед которой ставится звездочка (args) или две здездочки (kwargs)."
      ]
    },
    {
      "cell_type": "code",
      "metadata": {
        "id": "ilXaysWUawBT",
        "colab": {
          "base_uri": "https://localhost:8080/"
        },
        "outputId": "e7051a44-6511-4805-b114-6f1ea04df237"
      },
      "source": [
        "# Сумму всех позиционных аргументов вычисляем с помощью sum\n",
        "# *args упаковывает все позиционные аргументы в кортеж\n",
        "# **kwargs упаковывает все именованные аргументы в словарь, из которого получаем значение по ключу\n",
        "\n",
        "def sum_division(*args, **kwargs):\n",
        "    print(args)\n",
        "    print(kwargs)\n",
        "    return round(sum(args) / kwargs['divisor'], kwargs['accuracy'])\n",
        "\n",
        "print(sum_division(1, 2, 3, 4, 7, 8, 9, 10, divisor=7, accuracy=2))"
      ],
      "execution_count": null,
      "outputs": [
        {
          "output_type": "stream",
          "name": "stdout",
          "text": [
            "(1, 2, 3, 4, 5, 6, 7, 8, 9, 10)\n",
            "{'divisor': 7, 'accuracy': 2}\n",
            "7.86\n"
          ]
        }
      ]
    },
    {
      "cell_type": "code",
      "metadata": {
        "id": "9XSfxweRawBT",
        "colab": {
          "base_uri": "https://localhost:8080/"
        },
        "outputId": "c53002f0-7839-47b8-aa5e-205d7521ee05"
      },
      "source": [
        "# распаковка позволяет отделить создание списка аргументов от их передачи в функцию\n",
        "numbers = [1, 2, 3, 4, 5, 6, 7, 8, 9, 10]\n",
        "params = {'divisor':7, 'accuracy':2}\n",
        "\n",
        "print(sum_division(*numbers, **params))"
      ],
      "execution_count": null,
      "outputs": [
        {
          "output_type": "stream",
          "name": "stdout",
          "text": [
            "(1, 2, 3, 4, 5, 6, 7, 8, 9, 10)\n",
            "{'divisor': 7, 'accuracy': 2}\n",
            "7.86\n"
          ]
        }
      ]
    },
    {
      "cell_type": "code",
      "source": [
        "print(f'{\",\".join([\"3252345\", \"343456\", \"3463456\"])}')"
      ],
      "metadata": {
        "colab": {
          "base_uri": "https://localhost:8080/"
        },
        "id": "62HDgMTRo1HV",
        "outputId": "7f8ddeaf-d07a-4058-ad11-aaf7e3cf9f91"
      },
      "execution_count": null,
      "outputs": [
        {
          "output_type": "stream",
          "name": "stdout",
          "text": [
            "3252345,343456,3463456\n"
          ]
        }
      ]
    },
    {
      "cell_type": "code",
      "source": [
        "print(*[2342345, 3434, 45456, 45456], sep='.')"
      ],
      "metadata": {
        "colab": {
          "base_uri": "https://localhost:8080/"
        },
        "id": "Vouep1jzo1Pm",
        "outputId": "d11d164e-1132-4aef-ad27-5e5354c9f343"
      },
      "execution_count": null,
      "outputs": [
        {
          "output_type": "stream",
          "name": "stdout",
          "text": [
            "2342345.3434.45456.45456\n"
          ]
        }
      ]
    },
    {
      "cell_type": "markdown",
      "metadata": {
        "id": "6GGM5SzuRYl3"
      },
      "source": [
        "### Практика. Напишем функцию, которая будет находить среднюю цену квартиры по всем переданным в нее районам города"
      ]
    },
    {
      "cell_type": "code",
      "metadata": {
        "id": "CRljX_0tRexA"
      },
      "source": [
        "district_1 = {'flat_1': 10500, 'flat_2': 11000}\n",
        "district_2 = {'flat_3': 15000}\n",
        "district_3 = {'flat_4': 6500, 'flat_5': 7000, 'flat_6': 6000}   "
      ],
      "execution_count": null,
      "outputs": []
    },
    {
      "cell_type": "code",
      "metadata": {
        "id": "2SGGQbgGRnpC",
        "colab": {
          "base_uri": "https://localhost:8080/"
        },
        "outputId": "1484fc30-bbe4-4933-ae65-ea6396b30a75"
      },
      "source": [
        "def get_avg_price(*distrcits):\n",
        "    print(distrcits)\n",
        "    count = 0\n",
        "    sum_ = 0\n",
        "    for district in distrcits:\n",
        "        count += len(district)\n",
        "        sum_ += sum(district.values())\n",
        "    return sum_ / count\n",
        "\n",
        "get_avg_price(district_1, district_2, district_3)"
      ],
      "execution_count": null,
      "outputs": [
        {
          "output_type": "stream",
          "name": "stdout",
          "text": [
            "({'flat_1': 10500, 'flat_2': 11000}, {'flat_3': 15000}, {'flat_4': 6500, 'flat_5': 7000, 'flat_6': 6000})\n"
          ]
        },
        {
          "output_type": "execute_result",
          "data": {
            "text/plain": [
              "9333.333333333334"
            ]
          },
          "metadata": {},
          "execution_count": 22
        }
      ]
    },
    {
      "cell_type": "code",
      "source": [
        "def get_avg_price(districts):\n",
        "    return sum(districts.values()) / len(districts)\n",
        "\n",
        "get_avg_price({**district_1, **district_2, **district_3})"
      ],
      "metadata": {
        "id": "hovii5RcHIxc",
        "colab": {
          "base_uri": "https://localhost:8080/"
        },
        "outputId": "7abc8885-c318-43f9-e1d0-37f0cd3690a0"
      },
      "execution_count": null,
      "outputs": [
        {
          "output_type": "execute_result",
          "data": {
            "text/plain": [
              "9333.333333333334"
            ]
          },
          "metadata": {},
          "execution_count": 24
        }
      ]
    },
    {
      "cell_type": "markdown",
      "metadata": {
        "id": "_mY3dvurRsd4"
      },
      "source": [
        "## Комплексный пример"
      ]
    },
    {
      "cell_type": "code",
      "metadata": {
        "id": "OPd5-8lVRuL5"
      },
      "source": [
        "students_list = [\n",
        "    {\"name\": \"Василий\", \"surname\": \"Теркин\", \"gender\": \"м\", \"program_exp\": True, \"grade\": [8, 8, 9, 10], \"exam\": 8},\n",
        "    {\"name\": \"Мария\", \"surname\": \"Павлова\", \"gender\": \"ж\", \"program_exp\": True, \"grade\": [7, 8, 9, 7, 9], \"exam\": 9},\n",
        "    {\"name\": \"Ирина\", \"surname\": \"Андреева\", \"gender\": \"ж\", \"program_exp\": False, \"grade\": [10, 1, 8, 10], \"exam\": 7},\n",
        "    {\"name\": \"Татьяна\", \"surname\": \"Сидорова\", \"gender\": \"ж\", \"program_exp\": False, \"grade\": [7, 8, 8, 9, 8],\"exam\": 10},\n",
        "    {\"name\": \"Иван\", \"surname\": \"Васильев\", \"gender\": \"м\", \"program_exp\": True, \"grade\": [9, 8, 9, 6, 9, 4], \"exam\": 5},\n",
        "    {\"name\": \"Роман\", \"surname\": \"Золотарев\", \"gender\": \"м\", \"program_exp\": False, \"grade\": [8, 9, 9, 6, 9], \"exam\": 6}\n",
        "]"
      ],
      "execution_count": null,
      "outputs": []
    },
    {
      "cell_type": "code",
      "metadata": {
        "id": "WIcpbvdLRzBQ",
        "colab": {
          "base_uri": "https://localhost:8080/"
        },
        "outputId": "936b3c3b-e45e-422f-af0f-6155c0c61a64"
      },
      "source": [
        "def get_avg_ex_grade(students, gender=None, exp=None):\n",
        "    sum_ex = 0\n",
        "    counter = 0\n",
        "    for student in students:\n",
        "        # print(student['exam'])\n",
        "        if (student['gender'] == gender or gender is None) and (student['program_exp'] is exp or exp is None):\n",
        "            sum_ex += student['exam']\n",
        "            counter += 1\n",
        "    return round(sum_ex / counter, 2)\n",
        "\n",
        "# print(get_avg_ex_grade(students_list))\n",
        "# print(get_avg_ex_grade(students_list, 'м'))\n",
        "# print(get_avg_ex_grade(students_list, 'ж'))\n",
        "\n",
        "# print(get_avg_ex_grade(students_list, exp=True))\n",
        "# print(get_avg_ex_grade(students_list, None, exp=True))\n",
        "\n",
        "# print(get_avg_ex_grade(students_list, 'ж', True))\n",
        "# print(get_avg_ex_grade(students_list, 'м', False))\n",
        "\n",
        "# print(get_avg_ex_grade(students_list, , False))"
      ],
      "execution_count": null,
      "outputs": [
        {
          "output_type": "stream",
          "name": "stdout",
          "text": [
            "7.33\n",
            "7.33\n",
            "9.0\n",
            "6.0\n"
          ]
        }
      ]
    },
    {
      "cell_type": "code",
      "source": [
        "def get_students_with_tails(students, thresh=8):\n",
        "    tails_list = []\n",
        "    for student in students:\n",
        "        if sum(student['grade']) / len(student['grade']) < thresh:\n",
        "            tails_list.append(f'{student[\"name\"]} {student[\"surname\"]}')\n",
        "    return sorted(tails_list)\n",
        "\n",
        "# get_students_with_tails(students_list)"
      ],
      "metadata": {
        "colab": {
          "base_uri": "https://localhost:8080/"
        },
        "id": "43OeTy0myCCu",
        "outputId": "261f1a66-ab79-4482-a549-2f2b8dfa3b6f"
      },
      "execution_count": null,
      "outputs": [
        {
          "output_type": "execute_result",
          "data": {
            "text/plain": [
              "['Иван Васильев', 'Ирина Андреева']"
            ]
          },
          "metadata": {},
          "execution_count": 45
        }
      ]
    },
    {
      "cell_type": "code",
      "source": [],
      "metadata": {
        "id": "BS14LvZY2_Fo"
      },
      "execution_count": null,
      "outputs": []
    },
    {
      "cell_type": "code",
      "source": [
        "def get_bad_hw(students, thresh=7):\n",
        "    tails_list = {}\n",
        "    for student in students:\n",
        "        bad_grades = len([grade for grade in student[\"grade\"] if grade < 7])\n",
        "        if bad_grades > 0:\n",
        "            tails_list[f'{student[\"name\"]} {student[\"surname\"]}'] = bad_grades\n",
        "    return tails_list\n",
        "\n",
        "# get_bad_hw(students_list)"
      ],
      "metadata": {
        "colab": {
          "base_uri": "https://localhost:8080/"
        },
        "id": "ItJmnS78zOqk",
        "outputId": "a9abc6c5-1ba2-4790-e7b6-7d5e3cdb80bc"
      },
      "execution_count": null,
      "outputs": [
        {
          "output_type": "execute_result",
          "data": {
            "text/plain": [
              "{'Иван Васильев': 2, 'Ирина Андреева': 1, 'Роман Золотарев': 1}"
            ]
          },
          "metadata": {},
          "execution_count": 48
        }
      ]
    },
    {
      "cell_type": "code",
      "source": [
        "import pandas as pd\n",
        "def get_mode(students):\n",
        "    return pd.Series(sum([student['grade'] for student in students], [])).mode()[0]\n",
        "get_mode(students_list)"
      ],
      "metadata": {
        "colab": {
          "base_uri": "https://localhost:8080/"
        },
        "id": "c7E6DXSs0h5p",
        "outputId": "1632464f-4686-4f1d-f839-d29760f3611a"
      },
      "execution_count": null,
      "outputs": [
        {
          "output_type": "execute_result",
          "data": {
            "text/plain": [
              "9"
            ]
          },
          "metadata": {},
          "execution_count": 55
        }
      ]
    },
    {
      "cell_type": "code",
      "source": [
        "def main(students):\n",
        "    while True:\n",
        "        command = input('Введите команду')\n",
        "        if command == '1':\n",
        "            print(get_avg_ex_grade(students, exp=True))\n",
        "        elif command == '2':\n",
        "           print(get_avg_ex_grade(students, 'ж', True))\n",
        "        elif command == '3':\n",
        "           print(get_bad_hw(students))\n",
        "        elif command == '4':\n",
        "           print(get_mode(students))\n",
        "        elif command == 'q':\n",
        "            print('Выход')\n",
        "            break\n",
        "\n",
        "main(students_list)\n",
        " "
      ],
      "metadata": {
        "colab": {
          "base_uri": "https://localhost:8080/"
        },
        "id": "U5JGChf11k_J",
        "outputId": "77f5dfeb-6649-415c-e3da-e226a30d8187"
      },
      "execution_count": null,
      "outputs": [
        {
          "output_type": "stream",
          "name": "stdout",
          "text": [
            "Введите команду1\n",
            "7.33\n",
            "Введите команду2\n",
            "9.0\n",
            "Введите команду3\n",
            "{'Ирина Андреева': 1, 'Иван Васильев': 2, 'Роман Золотарев': 1}\n",
            "Введите команду4\n",
            "9\n",
            "Введите команду3\n",
            "{'Ирина Андреева': 1, 'Иван Васильев': 2, 'Роман Золотарев': 1}\n",
            "Введите команду1\n",
            "7.33\n",
            "Введите командуq\n",
            "Выход\n"
          ]
        }
      ]
    },
    {
      "cell_type": "markdown",
      "metadata": {
        "id": "mgMjftejd7Ph"
      },
      "source": [
        "## Анонимные функции, функции map и filter\n",
        "\n",
        "[Анонимные функции](https://habr.com/ru/post/507642/) создаются при помощи инструкции lambda и используются для более краткой записи функций с одним выражением. Выполняются быстрее обычных и не требуют инструкции return."
      ]
    },
    {
      "cell_type": "markdown",
      "metadata": {
        "id": "hvVaGxqS7P9Z"
      },
      "source": [
        "Отсортируем словарь"
      ]
    },
    {
      "cell_type": "code",
      "metadata": {
        "id": "49SDXEYuOREp"
      },
      "source": [
        "my_dict = {\n",
        "    'id1': 654321, \n",
        "    'id2': 123456, \n",
        "    'id3': 777777\n",
        "}"
      ],
      "execution_count": null,
      "outputs": []
    },
    {
      "cell_type": "code",
      "metadata": {
        "colab": {
          "base_uri": "https://localhost:8080/"
        },
        "id": "avPFj4lxORa2",
        "outputId": "cec4c662-81c3-4180-f1d1-2daec632f36f"
      },
      "source": [
        "res = {}\n",
        "for sorted_value in sorted(my_dict.values()):\n",
        "    for key, value in my_dict.items():\n",
        "        if sorted_value == value:\n",
        "           res[key] = sorted_value \n",
        "\n",
        "print(res)"
      ],
      "execution_count": null,
      "outputs": [
        {
          "output_type": "stream",
          "name": "stdout",
          "text": [
            "{'id2': 123456, 'id1': 654321, 'id3': 777777}\n"
          ]
        }
      ]
    },
    {
      "cell_type": "markdown",
      "metadata": {
        "id": "xkoo_sMMPW_l"
      },
      "source": [
        "### Отсортируем словарь без циклов"
      ]
    },
    {
      "cell_type": "code",
      "metadata": {
        "colab": {
          "base_uri": "https://localhost:8080/"
        },
        "id": "3lsPYgCxQRYi",
        "outputId": "2ad09a32-62e5-4a8d-851a-ed5e331fecc7"
      },
      "source": [
        "print(dict(sorted(my_dict.items(), key=lambda kv: kv[1])))"
      ],
      "execution_count": null,
      "outputs": [
        {
          "output_type": "stream",
          "name": "stdout",
          "text": [
            "{'id2': 123456, 'id1': 654321, 'id3': 777777}\n"
          ]
        }
      ]
    },
    {
      "cell_type": "markdown",
      "metadata": {
        "id": "1whxQleKMlLv"
      },
      "source": [
        "Получим список из средних цен в каждой категории товаров"
      ]
    },
    {
      "cell_type": "code",
      "metadata": {
        "id": "xZTL8aTPMNEE"
      },
      "source": [
        "prices_by_categories = [[100, 200, 400, 600], [200, 500], [100, 200, 100, 100], [800, 900]]"
      ],
      "execution_count": null,
      "outputs": []
    },
    {
      "cell_type": "code",
      "metadata": {
        "colab": {
          "base_uri": "https://localhost:8080/"
        },
        "id": "m1DA5YEIMxw3",
        "outputId": "dd04c16d-88bd-40d1-c11e-7d108b74b528"
      },
      "source": [
        "def get_avg_prices(prices):\n",
        "    mean_prices = []\n",
        "    for category in prices:\n",
        "        mean_prices.append(sum(category) / len(category))\n",
        "    return mean_prices\n",
        "\n",
        "print(get_avg_prices(prices_by_categories))"
      ],
      "execution_count": null,
      "outputs": [
        {
          "output_type": "stream",
          "name": "stdout",
          "text": [
            "[325.0, 350.0, 125.0, 850.0]\n"
          ]
        }
      ]
    },
    {
      "cell_type": "code",
      "metadata": {
        "id": "zWKy77kXQaTT",
        "colab": {
          "base_uri": "https://localhost:8080/"
        },
        "outputId": "4f31f4ec-2b29-4b8c-a158-cd99c507f906"
      },
      "source": [
        "# при помощи list comprehension\n",
        "\n",
        "[sum(category) / len(category) for category in prices_by_categories]"
      ],
      "execution_count": null,
      "outputs": [
        {
          "output_type": "execute_result",
          "data": {
            "text/plain": [
              "[325.0, 350.0, 125.0, 850.0]"
            ]
          },
          "metadata": {},
          "execution_count": 71
        }
      ]
    },
    {
      "cell_type": "markdown",
      "metadata": {
        "id": "y46TpSe5NFei"
      },
      "source": [
        "### Получим список из средних цен без цикла"
      ]
    },
    {
      "cell_type": "code",
      "metadata": {
        "id": "uTmmXJz8NlzC",
        "colab": {
          "base_uri": "https://localhost:8080/"
        },
        "outputId": "b834356d-b63a-4fd3-b8fa-a38963ab0bf8"
      },
      "source": [
        "list(map(lambda category: sum(category) / len(category), prices_by_categories))"
      ],
      "execution_count": null,
      "outputs": [
        {
          "output_type": "execute_result",
          "data": {
            "text/plain": [
              "[325.0, 350.0, 125.0, 850.0]"
            ]
          },
          "metadata": {},
          "execution_count": 73
        }
      ]
    },
    {
      "cell_type": "markdown",
      "metadata": {
        "id": "yH-gS2ATQesE"
      },
      "source": [
        "Решим задачу с фильтрацией структуры по гордам без цикла"
      ]
    },
    {
      "cell_type": "code",
      "metadata": {
        "id": "EBLHeZpvQnFZ"
      },
      "source": [
        "geo_logs = [\n",
        "    {'visit1': ['Москва', 'Россия']},\n",
        "    {'visit2': ['Дели', 'Индия']},\n",
        "    {'visit3': ['Владимир', 'Россия']},\n",
        "    {'visit4': ['Лиссабон', 'Португалия']},\n",
        "    {'visit5': ['Париж', 'Франция']},\n",
        "    {'visit7': ['Тула', 'Россия']},\n",
        "    {'visit9': ['Курск', 'Россия']},\n",
        "    {'visit10': ['Архангельск', 'Россия']}\n",
        "]"
      ],
      "execution_count": null,
      "outputs": []
    },
    {
      "cell_type": "code",
      "metadata": {
        "id": "DaRAQ3R1QsP1",
        "colab": {
          "base_uri": "https://localhost:8080/"
        },
        "outputId": "1d699d47-d80c-4d91-ea62-540db5554271"
      },
      "source": [
        "result = []\n",
        "for log in geo_logs:\n",
        "    if 'Россия' in list(log.values())[0]:\n",
        "        result.append(log)\n",
        "        \n",
        "print(result)"
      ],
      "execution_count": null,
      "outputs": [
        {
          "output_type": "stream",
          "name": "stdout",
          "text": [
            "[{'visit1': ['Москва', 'Россия']}, {'visit3': ['Владимир', 'Россия']}, {'visit7': ['Тула', 'Россия']}, {'visit9': ['Курск', 'Россия']}, {'visit10': ['Архангельск', 'Россия']}]\n"
          ]
        }
      ]
    },
    {
      "cell_type": "code",
      "metadata": {
        "id": "69ru-aTZQu8j",
        "colab": {
          "base_uri": "https://localhost:8080/"
        },
        "outputId": "0423924b-ee09-480c-d525-6d16e0efce21"
      },
      "source": [
        "print(list(filter(lambda log: 'Россия' in list(log.values())[0], geo_logs)))"
      ],
      "execution_count": null,
      "outputs": [
        {
          "output_type": "stream",
          "name": "stdout",
          "text": [
            "[{'visit1': ['Москва', 'Россия']}, {'visit3': ['Владимир', 'Россия']}, {'visit7': ['Тула', 'Россия']}, {'visit9': ['Курск', 'Россия']}, {'visit10': ['Архангельск', 'Россия']}]\n"
          ]
        }
      ]
    },
    {
      "cell_type": "markdown",
      "metadata": {
        "id": "ONpdieq_fpaF"
      },
      "source": [
        "## Цикл / рекурсия / reduce ?\n",
        "\n",
        "Напишем функцию, преобразующую произвольный список вида `['2018-01-01', 'yandex', 'cpc', 100]` (он может быть любой длины) в словарь `{'2018-01-01': {'yandex': {'cpc': 100}}}`"
      ]
    },
    {
      "cell_type": "code",
      "metadata": {
        "id": "GEn97dBdfxx_"
      },
      "source": [
        "some_list = ['2018-01-01', 'yandex', 'cpc', 100]"
      ],
      "execution_count": null,
      "outputs": []
    },
    {
      "cell_type": "code",
      "metadata": {
        "id": "jB-JJVCo8DD3"
      },
      "source": [],
      "execution_count": null,
      "outputs": []
    },
    {
      "cell_type": "code",
      "metadata": {
        "id": "tpi4nSM-gLOh"
      },
      "source": [
        "def get_crazy_nested_dict(some_list):\n",
        "    res = some_list[-1]            \n",
        "    for el in reversed(some_list[:-1]):      \n",
        "        res = {el: res}    \n",
        "    return res\n",
        "    \n",
        "print(get_crazy_nested_dict(some_list))"
      ],
      "execution_count": null,
      "outputs": []
    },
    {
      "cell_type": "markdown",
      "metadata": {
        "id": "cxXK7hh34vOd"
      },
      "source": [
        "Реализация через reduce\n",
        "\n",
        "reduce последовательно применяет функцию-аргумент к элементам итерируемого объекта и возвращает единичное значение. \n"
      ]
    },
    {
      "cell_type": "code",
      "metadata": {
        "id": "sAzUILMAYebk",
        "colab": {
          "base_uri": "https://localhost:8080/"
        },
        "outputId": "4486c108-1d84-4b53-b891-95ba2341ef58"
      },
      "source": [
        "from functools import reduce\n",
        "res = reduce(lambda a, b: a * b, [1, 5, 7, 9])\n",
        "res"
      ],
      "execution_count": null,
      "outputs": [
        {
          "output_type": "execute_result",
          "data": {
            "text/plain": [
              "315"
            ]
          },
          "metadata": {},
          "execution_count": 77
        }
      ]
    },
    {
      "cell_type": "code",
      "metadata": {
        "colab": {
          "base_uri": "https://localhost:8080/"
        },
        "id": "GGdtz70qhBx8",
        "outputId": "3999a025-14ad-4540-eef4-40a3543546e2"
      },
      "source": [
        "some_list = ['2018-01-01', 'yandex', 'cpc', 100]\n",
        "# 100, cpc, yandex, date\n",
        "reduce(lambda last_el, prev_el: {prev_el: last_el}, reversed(some_list))"
      ],
      "execution_count": null,
      "outputs": [
        {
          "output_type": "execute_result",
          "data": {
            "text/plain": [
              "{'2018-01-01': {'yandex': {'cpc': 100}}}"
            ]
          },
          "metadata": {},
          "execution_count": 80
        }
      ]
    },
    {
      "cell_type": "markdown",
      "metadata": {
        "id": "D2RHLDZREpo4"
      },
      "source": [
        "## Ваши вопросы"
      ]
    },
    {
      "cell_type": "code",
      "metadata": {
        "id": "8CdShv8BSV3A"
      },
      "source": [],
      "execution_count": null,
      "outputs": []
    },
    {
      "cell_type": "code",
      "metadata": {
        "id": "idXHoa_6Eqml"
      },
      "source": [],
      "execution_count": null,
      "outputs": []
    }
  ]
}