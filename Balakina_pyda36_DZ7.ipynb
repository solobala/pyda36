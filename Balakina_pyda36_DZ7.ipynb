{
  "nbformat": 4,
  "nbformat_minor": 0,
  "metadata": {
    "colab": {
      "provenance": [],
      "collapsed_sections": [],
      "include_colab_link": true
    },
    "kernelspec": {
      "name": "python3",
      "display_name": "Python 3"
    },
    "language_info": {
      "name": "python"
    }
  },
  "cells": [
    {
      "cell_type": "markdown",
      "metadata": {
        "id": "view-in-github",
        "colab_type": "text"
      },
      "source": [
        "<a href=\"https://colab.research.google.com/github/solobala/pyda36/blob/main/Balakina_pyda36_DZ7.ipynb\" target=\"_parent\"><img src=\"https://colab.research.google.com/assets/colab-badge.svg\" alt=\"Open In Colab\"/></a>"
      ]
    },
    {
      "cell_type": "markdown",
      "source": [
        "# Домашнее задание к лекции «Понятие класса»"
      ],
      "metadata": {
        "id": "fjlEVLLJucBa"
      }
    },
    {
      "cell_type": "markdown",
      "source": [
        "# Задание 1\n",
        "Напишите функцию, которая возвращает название валюты (поле ‘Name’) с максимальным значением курса с помощью сервиса www.cbr-xml-daily.ru...ly_json.js"
      ],
      "metadata": {
        "id": "1emEWG4Eue2Q"
      }
    },
    {
      "cell_type": "code",
      "source": [
        "import requests"
      ],
      "metadata": {
        "id": "iu6GZ6P8uw3C"
      },
      "execution_count": 1,
      "outputs": []
    },
    {
      "cell_type": "code",
      "source": [
        "!wget -O \"libs.zip\" \"https://u.netology.ngcdn.ru/backend/uploads/lms/attachments/files/data/18487/libs.zip\"  # как обычно качаем архив с нетологии"
      ],
      "metadata": {
        "colab": {
          "base_uri": "https://localhost:8080/"
        },
        "id": "7LQhpO8qxO4G",
        "outputId": "ba222b77-85d0-40b1-8716-857b66c5a7b1"
      },
      "execution_count": 17,
      "outputs": [
        {
          "output_type": "stream",
          "name": "stdout",
          "text": [
            "--2022-09-08 15:46:17--  https://u.netology.ngcdn.ru/backend/uploads/lms/attachments/files/data/18487/libs.zip\n",
            "Resolving u.netology.ngcdn.ru (u.netology.ngcdn.ru)... 104.20.156.54, 104.20.157.54, 2606:4700:10::6814:9d36, ...\n",
            "Connecting to u.netology.ngcdn.ru (u.netology.ngcdn.ru)|104.20.156.54|:443... connected.\n",
            "HTTP request sent, awaiting response... 200 OK\n",
            "Length: 2569 (2.5K) [application/x-zip-compressed]\n",
            "Saving to: ‘libs.zip’\n",
            "\n",
            "libs.zip            100%[===================>]   2.51K  --.-KB/s    in 0s      \n",
            "\n",
            "2022-09-08 15:46:18 (11.4 MB/s) - ‘libs.zip’ saved [2569/2569]\n",
            "\n"
          ]
        }
      ]
    },
    {
      "cell_type": "code",
      "source": [
        "from zipfile import ZipFile  # Подключаем библиотеку ZipFile из пакета zipfile"
      ],
      "metadata": {
        "id": "0Luf_mIhxXwC"
      },
      "execution_count": 18,
      "outputs": []
    },
    {
      "cell_type": "code",
      "source": [
        "with ZipFile('/content/libs.zip', 'r') as zip_file: \n",
        "  zip_file.extract('libs/exchange.py', '.')"
      ],
      "metadata": {
        "id": "XePWrAKUxa9D"
      },
      "execution_count": 28,
      "outputs": []
    },
    {
      "cell_type": "code",
      "source": [
        "from pathlib import Path  # у нас нужный файл лежит в подкаталоге Libs\n",
        "                          #  нужно в content перенести\n",
        "\n",
        "for path in Path('/content/libs').glob('exchange.py'):\n",
        "    path.replace(Path('/content') / path.name)"
      ],
      "metadata": {
        "id": "3BkNLkRL047B"
      },
      "execution_count": 29,
      "outputs": []
    },
    {
      "cell_type": "code",
      "source": [
        "import sys\n",
        "sys.path.append('/content/exchange.py')  # добавляем путь к библиотеке классов"
      ],
      "metadata": {
        "id": "njUXOSjj2F-q"
      },
      "execution_count": 30,
      "outputs": []
    },
    {
      "cell_type": "code",
      "source": [
        "from exchange import Rate"
      ],
      "metadata": {
        "id": "ndS8mtYl2WTr"
      },
      "execution_count": 33,
      "outputs": []
    },
    {
      "cell_type": "code",
      "source": [
        "class RateExt(Rate):\n",
        "    def __init__(self):\n",
        "        super().__init__()\n",
        "    # По рекомендации Башевого\n",
        "    def name_by_max_rate(self): \n",
        "        r = requests.get('https://www.cbr-xml-daily.ru/daily_json.js')\n",
        "        data_dict = r.json()['Valute']\n",
        "        return( max(data_dict.items(), key=lambda x: x[1]['Value'])[1]['Name'])\n",
        "    # def name_by_max_rate(self):\n",
        "    #   \"\"\"\n",
        "    #   Возвращает название валюты (поле ‘Name’) \n",
        "    #   с максимальным значением курса\n",
        "    #   \"\"\"\n",
        "    #   max_value = 0\n",
        "    #   max_name = ''\n",
        "    #   responce = self.exchange_rates()\n",
        "\n",
        "    #   for name, param in responce.items():\n",
        "    #       if param['Value'] > max_value:\n",
        "    #           max_value = param['Value']\n",
        "    #           max_name = param['Name']\n",
        "\n",
        "    #   return max_name    "
      ],
      "metadata": {
        "id": "FmXrmtcAmtIx"
      },
      "execution_count": 34,
      "outputs": []
    },
    {
      "cell_type": "code",
      "source": [
        "cc = RateExt()  # создаем экземпляр класса RateExt"
      ],
      "metadata": {
        "id": "qVY3OPAvohRs"
      },
      "execution_count": 35,
      "outputs": []
    },
    {
      "cell_type": "code",
      "source": [
        "print(cc.name_by_max_rate()) # применяем метод name_by_max_rate() для получения названия валюты с максимальным курсом"
      ],
      "metadata": {
        "colab": {
          "base_uri": "https://localhost:8080/"
        },
        "id": "LvgZtF32oulD",
        "outputId": "bc8c2f67-0648-41fb-edc3-b56dcc4b4b0a"
      },
      "execution_count": 36,
      "outputs": [
        {
          "output_type": "stream",
          "name": "stdout",
          "text": [
            "Китайских юаней\n"
          ]
        }
      ]
    },
    {
      "cell_type": "markdown",
      "source": [
        "# Задание 2\n",
        "Добавьте в класс Rate параметр diff (со значениями True или False), который в случае значения True в методах курсов валют (eur, usd итд) будет возвращать не курс валюты, а изменение по сравнению в прошлым значением. Считайте, self.diff будет принимать значение True только при возврате значения курса. При отображении всей информации о валюте он не используется."
      ],
      "metadata": {
        "id": "yXEycOFXukdx"
      }
    },
    {
      "cell_type": "code",
      "source": [
        "class RateExtdiff(Rate):\n",
        "    def __init__(self, format_='value', diff = False):\n",
        "        super().__init__()\n",
        "        self.diff = diff\n",
        "        self.format = format_\n",
        "    def make_format(self, currency, diff):\n",
        "        \"\"\"\n",
        "        Возвращает информацию о валюте currency в следующих вариантах:\n",
        "        - полная информация о валюте \n",
        "        при self.format = 'full':\n",
        "        Rate('full').make_format('EUR', diff = False)\n",
        "       \n",
        "       {'CharCode': 'EUR',\n",
        "        'ID': 'R01239',\n",
        "        'Name': 'Евро',\n",
        "        'Nominal': 1,\n",
        "        'NumCode': '978',\n",
        "        'Previous': 61.361,\n",
        "        'Value': 61.1615}\n",
        "\n",
        "        - информация только о курсе валюты \n",
        "        при self.format = 'value' и\n",
        "        при self.diff = False:\n",
        "        Rate('value').make_format('EUR', diff = False)\n",
        "      \n",
        "        61.1615\n",
        "\n",
        "        - информация по изменению по сравнению с прошлым значением курса\n",
        "         при self.format = 'value' и\n",
        "        при self.diff = True:\n",
        "        Rate('value', True).make_format('EUR', diff = True)\n",
        "        \n",
        "       -0.1995\n",
        "\n",
        "        \"\"\"\n",
        "        response = self.exchange_rates()\n",
        "        \n",
        "        if currency in response:\n",
        "            if self.format == 'full':\n",
        "                return response[currency]\n",
        "            \n",
        "            if self.format == 'value' and self.diff == False:\n",
        "                return response[currency]['Value']\n",
        "            \n",
        "            if self.format == 'value' and self.diff == True:\n",
        "                return round(response[currency]['Value'] - response[currency]['Previous'],4)\n",
        "\n",
        "        return 'Error'\n",
        "\n",
        "    def eur(self, diff):\n",
        "        \"\"\"Возвращает курс евро на сегодня в формате self.format, если diff = False,\n",
        "           и разницу в текущем и предыдущем значении курса, если diff = True\n",
        "        \"\"\"\n",
        "        return self.make_format('EUR', diff)\n",
        "    \n",
        "    def usd(self,diff):\n",
        "        \"\"\"Возвращает курс доллара на сегодня в формате self.format, если diff = False,\n",
        "           и разницу в текущем и предыдущем значении курса, если diff = True\n",
        "        \"\"\"\n",
        "        return self.make_format('USD', diff)\n",
        "    \n",
        "    def brl(self,diff):\n",
        "        \"\"\"Возвращает курс бразильского реала на сегодня в формате self.forma, если diff = False,\n",
        "           и разницу в текущем и предыдущем значении курса, если diff = True\n",
        "        \"\"\"\n",
        "        return self.make_format('BRL', diff)"
      ],
      "metadata": {
        "id": "kRUfkP4w5DU0"
      },
      "execution_count": null,
      "outputs": []
    },
    {
      "cell_type": "code",
      "source": [
        "r = RateExtdiff(format_ = 'value', diff = True)  # создаем экземпляр класса rate"
      ],
      "metadata": {
        "id": "25VXVWM-1PyA"
      },
      "execution_count": null,
      "outputs": []
    },
    {
      "cell_type": "code",
      "source": [
        "r.make_format( 'EUR', diff = True)"
      ],
      "metadata": {
        "colab": {
          "base_uri": "https://localhost:8080/"
        },
        "id": "5g_7RUrtEzYE",
        "outputId": "a81856f7-5603-4d3a-bde6-6aa24226b04e"
      },
      "execution_count": null,
      "outputs": [
        {
          "output_type": "execute_result",
          "data": {
            "text/plain": [
              "-0.1995"
            ]
          },
          "metadata": {},
          "execution_count": 252
        }
      ]
    },
    {
      "cell_type": "code",
      "source": [
        "r.eur(diff = True)"
      ],
      "metadata": {
        "colab": {
          "base_uri": "https://localhost:8080/"
        },
        "id": "MTF4tYLyFcqL",
        "outputId": "5063e512-4677-4a4d-d6f5-06031fe86cd4"
      },
      "execution_count": null,
      "outputs": [
        {
          "output_type": "execute_result",
          "data": {
            "text/plain": [
              "-0.1995"
            ]
          },
          "metadata": {},
          "execution_count": 253
        }
      ]
    },
    {
      "cell_type": "markdown",
      "source": [
        "# Задание 3\n",
        "Напишите класс Designer, который учитывает количество международных премий. Подсказки в коде занятия в разделе “Домашнее задание задача 3”.\n",
        "\n",
        "Комментарий по классу Designer такой:\n",
        "Напишите класс Designer, который учитывает количество международных премий для дизайнеров (из презентации: “Повышение на 1 грейд за каждые 7 баллов. Получение международной премии – это +2 балла”). Считайте, что при выходе на работу сотрудник уже имеет две премии и их количество не меняется со стажем (конечно если хотите это можно вручную менять).\n",
        "\n",
        "Класс Designer пишется по аналогии с классом Developer из материалов занятия."
      ],
      "metadata": {
        "id": "CU2mLzwAupj3"
      }
    },
    {
      "cell_type": "code",
      "source": [
        "class Employee:\n",
        "    def __init__(self, name, seniority):\n",
        "        self.name = name\n",
        "        self.seniority = seniority\n",
        "        \n",
        "        self.grade = 1\n",
        "    \n",
        "    def grade_up(self):\n",
        "        \"\"\"Повышает уровень сотрудника\"\"\"\n",
        "        self.grade += 1\n",
        "    \n",
        "    def publish_grade(self):\n",
        "        \"\"\"Публикация результатов аккредитации сотрудников\"\"\"\n",
        "        print(self.name, self.grade)\n",
        "    \n",
        "    def check_if_it_is_time_for_upgrade(self):\n",
        "        pass"
      ],
      "metadata": {
        "id": "XsvNpErXuyUe"
      },
      "execution_count": null,
      "outputs": []
    },
    {
      "cell_type": "code",
      "source": [
        "class Designer(Employee):\n",
        "    def __init__(self, name, seniority, awards):\n",
        "        super().__init__(name, seniority + awards)\n",
        "        self.awards = 2\n",
        "\n",
        "    def publish_grades(self):\n",
        "        \"\"\"Публикация атестаций и получения международных премий\"\"\"\n",
        "        print(self.name,self.grades)\n",
        "\n",
        "    def check_if_it_is_time_for_upgrade(self):\n",
        "        # для каждой аттестацими увеличиваем счетчик на 1\n",
        "        \n",
        "        self.seniority += 1\n",
        "        # для каждой международой премии увеличиваем счетчик на 2\n",
        "        \n",
        "        self.awards += 2\n",
        "        \n",
        "        # условие повышения сотрудника из презентации\n",
        "        if (self.seniority + self.awards) % 7 == 0:\n",
        "            self.grade_up()\n",
        "        \n",
        "        # публикация результатов\n",
        "        return self.publish_grade()"
      ],
      "metadata": {
        "id": "OPaoBBsY9wkx"
      },
      "execution_count": null,
      "outputs": []
    },
    {
      "cell_type": "code",
      "source": [
        "alex = Designer('Александр', 0,2)"
      ],
      "metadata": {
        "id": "8cckeIqHBZXd"
      },
      "execution_count": null,
      "outputs": []
    },
    {
      "cell_type": "code",
      "source": [
        "for i in range(21):\n",
        "    alex.check_if_it_is_time_for_upgrade()"
      ],
      "metadata": {
        "colab": {
          "base_uri": "https://localhost:8080/"
        },
        "id": "jZRsqjFlBjmR",
        "outputId": "29cce15a-406f-4658-9778-075957f81bd7"
      },
      "execution_count": null,
      "outputs": [
        {
          "output_type": "stream",
          "name": "stdout",
          "text": [
            "Александр 2\n",
            "Александр 2\n",
            "Александр 2\n",
            "Александр 2\n",
            "Александр 2\n",
            "Александр 2\n",
            "Александр 2\n",
            "Александр 3\n",
            "Александр 3\n",
            "Александр 3\n",
            "Александр 3\n",
            "Александр 3\n",
            "Александр 3\n",
            "Александр 3\n",
            "Александр 4\n",
            "Александр 4\n",
            "Александр 4\n",
            "Александр 4\n",
            "Александр 4\n",
            "Александр 4\n",
            "Александр 4\n"
          ]
        }
      ]
    }
  ]
}