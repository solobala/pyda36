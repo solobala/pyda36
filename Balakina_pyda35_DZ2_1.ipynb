{
  "nbformat": 4,
  "nbformat_minor": 0,
  "metadata": {
    "colab": {
      "provenance": [],
      "collapsed_sections": [],
      "authorship_tag": "ABX9TyP+Q/j2JqBdzUGuA3zqCf5v",
      "include_colab_link": true
    },
    "kernelspec": {
      "name": "python3",
      "display_name": "Python 3"
    },
    "language_info": {
      "name": "python"
    }
  },
  "cells": [
    {
      "cell_type": "markdown",
      "metadata": {
        "id": "view-in-github",
        "colab_type": "text"
      },
      "source": [
        "<a href=\"https://colab.research.google.com/github/solobala/pyda36/blob/main/Balakina_pyda35_DZ2_1.ipynb\" target=\"_parent\"><img src=\"https://colab.research.google.com/assets/colab-badge.svg\" alt=\"Open In Colab\"/></a>"
      ]
    },
    {
      "cell_type": "markdown",
      "source": [
        "# Домашнее задание к лекции \"Введение в типы данных и циклы. Часть 1\""
      ],
      "metadata": {
        "id": "HHuO9JnqM3Cf"
      }
    },
    {
      "cell_type": "markdown",
      "source": [
        "# Задание 1\n",
        "Дана переменная, в которой хранится слово из латинских букв. Напишите код, который выводит на экран:\n",
        "\n",
        "среднюю букву, если число букв в слове нечетное;\n",
        "две средних буквы, если число букв четное."
      ],
      "metadata": {
        "id": "9NXziNJOM7Rm"
      }
    },
    {
      "cell_type": "code",
      "execution_count": null,
      "metadata": {
        "colab": {
          "base_uri": "https://localhost:8080/"
        },
        "id": "O2LbRpYnMlOn",
        "outputId": "0d6b4f5a-1d93-4536-fa42-9165b32e4ae7"
      },
      "outputs": [
        {
          "output_type": "stream",
          "name": "stdout",
          "text": [
            "testing\n",
            "t\n"
          ]
        }
      ],
      "source": [
        "import re\n",
        "word=input()\n",
        "l=len(word)\n",
        "if re.fullmatch(r'[a-zA-Z]+', word):\n",
        "  if l % 2==0:\n",
        "    print(word[l//2-1:l//2+1])\n",
        "  else:\n",
        "    print(word[l//2])\n",
        "else:\n",
        "  print('Ошибка ввода')"
      ]
    },
    {
      "cell_type": "markdown",
      "source": [],
      "metadata": {
        "id": "YbSFZ5vhOT_k"
      }
    },
    {
      "cell_type": "markdown",
      "source": [
        "# Задание 2\n",
        "Напишите программу, которая последовательно запрашивает у пользователя числа (по одному за раз) и после первого нуля выводит сумму всех ранее введенных чисел."
      ],
      "metadata": {
        "id": "V1bwwto1eQAd"
      }
    },
    {
      "cell_type": "code",
      "source": [
        "n = int(input('Введите число: '))\n",
        "total=n\n",
        "while n!=0:\n",
        "  n= int(input('Введите число: '))\n",
        "  total+=n\n",
        "print(f'Результат: \\n {total}')"
      ],
      "metadata": {
        "colab": {
          "base_uri": "https://localhost:8080/"
        },
        "id": "s3DQjkebMvs4",
        "outputId": "06af0867-051b-4ff8-8d70-245d1a1e6977"
      },
      "execution_count": null,
      "outputs": [
        {
          "output_type": "stream",
          "name": "stdout",
          "text": [
            "Введите число: 1\n",
            "Введите число: 2\n",
            "Введите число: 3\n",
            "Введите число: 4\n",
            "Введите число: 0\n",
            "Результат: \n",
            " 10\n"
          ]
        }
      ]
    },
    {
      "cell_type": "markdown",
      "source": [
        "# Задание 3\n",
        "Мы делаем MVP dating-сервиса, и у нас есть список парней и девушек.\n",
        "Выдвигаем гипотезу: лучшие рекомендации мы получим, если просто отсортируем имена по алфавиту и познакомим людей с одинаковыми индексами после сортировки! Но мы не будем никого знакомить, если кто-то может остаться без пары:"
      ],
      "metadata": {
        "id": "aEOuZJK7SA_z"
      }
    },
    {
      "cell_type": "code",
      "source": [
        "boys = ['Peter', 'Alex', 'John', 'Arthur', 'Richard']\n",
        "girls = ['Kate', 'Liza', 'Kira', 'Emma', 'Trisha']\n",
        "if len(boys)==len(girls):\n",
        "  boys.sort()\n",
        "  girls.sort()\n",
        "  print('Идеальные пары: ','\\n')\n",
        "  for b, g in zip(boys,girls):\n",
        "    print(f'{b} и {g}')\n",
        "else:\n",
        "  print('Внимание, кто-то может остаться без пары!')\n"
      ],
      "metadata": {
        "colab": {
          "base_uri": "https://localhost:8080/"
        },
        "id": "ZxmPkgicSHWN",
        "outputId": "2b6bce77-e01c-4071-ef99-eba045c767a9"
      },
      "execution_count": null,
      "outputs": [
        {
          "output_type": "stream",
          "name": "stdout",
          "text": [
            "Идеальные пары:  \n",
            "\n",
            "Alex и Emma\n",
            "Arthur и Kate\n",
            "John и Kira\n",
            "Peter и Liza\n",
            "Richard и Trisha\n"
          ]
        }
      ]
    },
    {
      "cell_type": "markdown",
      "source": [
        "**Задание 4**\n",
        "У нас есть список, содержащий информацию о среднедневной температуре в Фаренгейтах за произвольный период по странам (структура данных в примере). Необходимо написать код, который рассчитает среднюю температуру за период в Цельсиях(!) для каждой страны."
      ],
      "metadata": {
        "id": "ThGHPDJTcdjO"
      }
    },
    {
      "cell_type": "code",
      "source": [
        "countries_temperature = [\n",
        "    ['Thailand', [75.2, 77, 78.8, 73.4, 68, 75.2, 77]],\n",
        "    ['Germany', [57.2, 55.4, 59, 59, 53.6]],\n",
        "    ['Russia', [35.6, 37.4, 39.2, 41, 42.8, 39.2, 35.6]],\n",
        "    ['Poland', [50, 50, 53.6, 57.2, 55.4, 55.4]]\n",
        "]\n",
        "print('Средняя температура в странах:')\n",
        "for row in countries_temperature:\n",
        "  country, temperatures=row[0],row[1]\n",
        "  print(f'{country} - {round(sum([(temperature-32)*5/9 for temperature in temperatures])/len(temperatures),1)} C')"
      ],
      "metadata": {
        "colab": {
          "base_uri": "https://localhost:8080/"
        },
        "id": "7fBrU7FAfCV_",
        "outputId": "35322e7d-e569-4e6b-8398-f4f64310b0ff"
      },
      "execution_count": null,
      "outputs": [
        {
          "output_type": "stream",
          "name": "stdout",
          "text": [
            "Средняя температура в странах:\n",
            "Thailand - 23.9 C\n",
            "Germany - 13.8 C\n",
            "Russia - 3.7 C\n",
            "Poland - 12.0 C\n"
          ]
        }
      ]
    },
    {
      "cell_type": "code",
      "source": [
        "for country, temperatures in countries_temperature:\n",
        "   print(f'{country} - {round(sum([(temperature-32)*5/9 for temperature in temperatures])/len(temperatures),1)} C')"
      ],
      "metadata": {
        "colab": {
          "base_uri": "https://localhost:8080/"
        },
        "id": "dUchVBadrapN",
        "outputId": "df2b37a0-3713-4569-ff4b-0bc3533f6026"
      },
      "execution_count": null,
      "outputs": [
        {
          "output_type": "stream",
          "name": "stdout",
          "text": [
            "Thailand - 23.9 C\n",
            "Germany - 13.8 C\n",
            "Russia - 3.7 C\n",
            "Poland - 12.0 C\n"
          ]
        }
      ]
    },
    {
      "cell_type": "markdown",
      "source": [
        "# Задание 5 (необязательное)\n",
        "Дан поток логов по количеству просмотренных страниц для каждого пользователя. Вам необходимо написать алгоритм, который считает среднее значение просмотров на пользователя. Т. е. надо посчитать отношение суммы всех просмотров к количеству уникальных пользователей."
      ],
      "metadata": {
        "id": "eVvlD2-tmKcQ"
      }
    },
    {
      "cell_type": "code",
      "source": [
        "stream = [\n",
        "    '2018-01-01,user1,3',\n",
        "    '2018-01-07,user1,4',\n",
        "    '2018-03-29,user1,1',\n",
        "    '2018-04-04,user1,13',\n",
        "    '2018-01-05,user2,7',\n",
        "    '2018-06-14,user3,4',\n",
        "    '2018-07-02,user3,10',\n",
        "    '2018-03-21,user4,19',\n",
        "    '2018-03-22,user4,4',\n",
        "    '2018-04-22,user4,8',\n",
        "    '2018-05-03,user4,9',\n",
        "    '2018-05-11,user4,11',\n",
        "]\n",
        "print('Среднее количество просмотров на уникального пользователя: ',sum([int(row.split(',')[2]) for row in stream])/len(set([row.split(',')[1]for row in stream])))"
      ],
      "metadata": {
        "colab": {
          "base_uri": "https://localhost:8080/"
        },
        "id": "b_NhD1RBmM3-",
        "outputId": "8e4c5116-301e-4b2c-c74d-a96965c0e02d"
      },
      "execution_count": null,
      "outputs": [
        {
          "output_type": "stream",
          "name": "stdout",
          "text": [
            "Среднее количество просмотров на уникального пользователя:  23.25\n"
          ]
        }
      ]
    },
    {
      "cell_type": "markdown",
      "source": [
        "# Задание 6 (необязательное)\n",
        "Необходимо у пользователя запрашивать набор чисел разделенных пробелом. В результате в отсортированном порядке должны выводиться числа, которые повторяются в вводе более одного раза."
      ],
      "metadata": {
        "id": "efn38LgxsoFN"
      }
    },
    {
      "cell_type": "code",
      "source": [
        "numbers=input('Введите числа: ').split()\n",
        "spisok=[int(number) for number in numbers if numbers.count(number)>1]\n",
        "print(*sorted(list(set(spisok))), end=' ')"
      ],
      "metadata": {
        "colab": {
          "base_uri": "https://localhost:8080/"
        },
        "id": "Jqyb-3nAsqAA",
        "outputId": "686badeb-689d-434a-f6e0-fd17e8b405a8"
      },
      "execution_count": null,
      "outputs": [
        {
          "output_type": "stream",
          "name": "stdout",
          "text": [
            "Введите числа: 10 15 15 103 200 200 200 1 1 1 1 1 2 2 2\n",
            "1 2 15 200 "
          ]
        }
      ]
    }
  ]
}