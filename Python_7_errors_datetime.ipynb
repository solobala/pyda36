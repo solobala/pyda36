{
 "cells": [
  {
   "cell_type": "markdown",
   "metadata": {},
   "source": [
    "# Задача про интервалы дат\n",
    "Имеется список отсортированных по возрастанию дат dates_list. А также дата date, которая лежит между минимальным и максимальным значениями из списка dates_list. Вам необходимо определить ближайшие даты в списке dates_list, которые окружают дату date.\n",
    "\n",
    "Пример:\n",
    "```python\n",
    "dates_list = ['2022-01-01', '2022-01-07', '2022-02-23', '2022-03-08', '2022-05-01', '2022-05-09', '2022-06-12']\n",
    "date = '2022-04-01'\n",
    "```"
   ]
  },
  {
   "cell_type": "code",
   "execution_count": 3,
   "metadata": {},
   "outputs": [
    {
     "data": {
      "text/plain": [
       "['2022-01-01',\n",
       " '2022-01-07',\n",
       " '2022-02-23',\n",
       " '2022-03-08',\n",
       " '2022-05-01',\n",
       " '2022-05-09',\n",
       " '2022-06-12']"
      ]
     },
     "execution_count": 3,
     "metadata": {},
     "output_type": "execute_result"
    }
   ],
   "source": [
    "dates_list = ['2022-01-01', '2022-01-07', '2022-02-23', '2022-03-08', '2022-05-01', '2022-05-09', '2022-06-12']\n",
    "date = '2022-04-01'\n",
    "dates_list"
   ]
  },
  {
   "cell_type": "code",
   "execution_count": null,
   "metadata": {},
   "outputs": [],
   "source": [
    "'12.08.22'  # 08.12.22"
   ]
  },
  {
   "cell_type": "code",
   "execution_count": 6,
   "metadata": {},
   "outputs": [
    {
     "data": {
      "text/plain": [
       "True"
      ]
     },
     "execution_count": 6,
     "metadata": {},
     "output_type": "execute_result"
    }
   ],
   "source": [
    "# календарный порядок совпадает с алфавитным\n",
    "'logs_2021-12-31.csv' < 'logs_2022-01-01.csv' < 'logs_2022-05-05.csv'"
   ]
  },
  {
   "cell_type": "code",
   "execution_count": null,
   "metadata": {},
   "outputs": [],
   "source": [
    "import datetime  # datetime, timedelta\n",
    "datetime.datetime.strptime"
   ]
  },
  {
   "cell_type": "code",
   "execution_count": 10,
   "metadata": {},
   "outputs": [],
   "source": [
    "from datetime import datetime"
   ]
  },
  {
   "cell_type": "code",
   "execution_count": 16,
   "metadata": {},
   "outputs": [
    {
     "data": {
      "text/plain": [
       "datetime.datetime(2022, 1, 31, 0, 0)"
      ]
     },
     "execution_count": 16,
     "metadata": {},
     "output_type": "execute_result"
    }
   ],
   "source": [
    "datetime.strptime('2022-01-31', '%Y-%m-%d')"
   ]
  },
  {
   "cell_type": "code",
   "execution_count": 20,
   "metadata": {},
   "outputs": [
    {
     "name": "stdout",
     "output_type": "stream",
     "text": [
      "2022-01-01 00:00:00 2022-01-07 00:00:00\n",
      "2022-01-07 00:00:00 2022-02-23 00:00:00\n",
      "2022-02-23 00:00:00 2022-03-08 00:00:00\n",
      "2022-03-08 00:00:00 2022-05-01 00:00:00\n",
      "2022-05-01 00:00:00 2022-05-09 00:00:00\n",
      "2022-05-09 00:00:00 2022-06-12 00:00:00\n"
     ]
    }
   ],
   "source": [
    "# вариант 1 - через datetime\n",
    "\n",
    "for i, item_date in enumerate(dates_list[:-1]):\n",
    "    item_date_dt = datetime.strptime(item_date, '%Y-%m-%d')\n",
    "    next_item_dt = datetime.strptime(dates_list[i + 1], '%Y-%m-%d')\n",
    "    \n",
    "    print(item_date_dt, next_item_dt)"
   ]
  },
  {
   "cell_type": "code",
   "execution_count": 24,
   "metadata": {},
   "outputs": [
    {
     "name": "stdout",
     "output_type": "stream",
     "text": [
      "2022-01-01 2022-01-07\n",
      "2022-01-07 2022-02-23\n",
      "2022-02-23 2022-03-08\n",
      "2022-03-08 2022-05-01\n",
      "результат 2022-03-08 2022-05-01\n"
     ]
    }
   ],
   "source": [
    "# вариант 2 - с учетом удобного формата\n",
    "\n",
    "for i, item_date in enumerate(dates_list[:-1]):\n",
    "    print(item_date, dates_list[i+1])\n",
    "    \n",
    "    if item_date < date < dates_list[i+1]:\n",
    "        print('результат', item_date, dates_list[i+1])\n",
    "        break"
   ]
  },
  {
   "cell_type": "markdown",
   "metadata": {},
   "source": [
    "# Бинарный поиск\n",
    "Бумажным телефонным справочником"
   ]
  },
  {
   "cell_type": "markdown",
   "metadata": {},
   "source": [
    "# Алгоритмическая сложность\n",
    "Во сколько раз вырастет время работы кода при увеличении данных в N раз?"
   ]
  },
  {
   "cell_type": "code",
   "execution_count": null,
   "metadata": {},
   "outputs": [],
   "source": [
    "for i in range(N):\n",
    "    for j in range(N):  # квадратичная зависимость --> N**2"
   ]
  },
  {
   "cell_type": "code",
   "execution_count": null,
   "metadata": {},
   "outputs": [],
   "source": [
    "- 1000 --> 1000  # линейный поиск"
   ]
  },
  {
   "cell_type": "code",
   "execution_count": null,
   "metadata": {},
   "outputs": [],
   "source": [
    "O(N) # при росте данных в N раз время вырастет в N раз"
   ]
  },
  {
   "cell_type": "code",
   "execution_count": null,
   "metadata": {},
   "outputs": [],
   "source": [
    "# бинарный поиск\n",
    "\n",
    "- 1000 --> 5 шагов\n",
    "- 2000 --> 6 шагов\n",
    "- 4000 --> 7\n",
    "- 8000 --> 8"
   ]
  },
  {
   "cell_type": "code",
   "execution_count": null,
   "metadata": {},
   "outputs": [],
   "source": [
    "2**N --> N\n",
    "\n",
    "N --> log_2(N)"
   ]
  },
  {
   "cell_type": "code",
   "execution_count": null,
   "metadata": {},
   "outputs": [],
   "source": [
    "1024 --> 2**10 --> 10 раз"
   ]
  },
  {
   "cell_type": "code",
   "execution_count": null,
   "metadata": {},
   "outputs": [],
   "source": []
  },
  {
   "cell_type": "code",
   "execution_count": null,
   "metadata": {},
   "outputs": [],
   "source": []
  },
  {
   "cell_type": "code",
   "execution_count": null,
   "metadata": {},
   "outputs": [],
   "source": []
  },
  {
   "cell_type": "markdown",
   "metadata": {},
   "source": [
    "# Обработка ошибок\n",
    "1. Текст ошибки указывается в последней строчке\n",
    "2. Все что перед ней - место, где ошибка произошла\n",
    "3. Есть встроенные типы ошибок, но можно создавать и свои"
   ]
  },
  {
   "cell_type": "markdown",
   "metadata": {},
   "source": [
    "Некоторые типы ошибок из документации (точнее [перевода](https://pythonworld.ru/tipy-dannyx-v-python/isklyucheniya-v-python-konstrukciya-try-except-dlya-obrabotki-isklyuchenij.html)):\n",
    "- ZeroDivisionError - деление на ноль\n",
    "- ImportError - не удалось импортирование модуля или его атрибута (надо установить эту библиотеку)\n",
    "- IndexError - индекс не входит в диапазон элементов.\n",
    "- KeyError - несуществующий ключ (в словаре, множестве или другом объекте)\n",
    "- MemoryError - недостаточно памяти\n",
    "- SyntaxError - синтаксическая ошибка (вы опечатались или не закрыли скобку)\n",
    "- TypeError - операция применена к объекту несоответствующего типа\n",
    "- ValueError - функция получает аргумент правильного типа, но некорректного значения\n",
    "- Warning - предупреждение (текст на красном фоне в юпитере это предупреждение, а не ошибка)"
   ]
  },
  {
   "cell_type": "code",
   "execution_count": null,
   "metadata": {},
   "outputs": [],
   "source": [
    "# эту строку можно перевести в число\n",
    "some_num = '123'"
   ]
  },
  {
   "cell_type": "code",
   "execution_count": null,
   "metadata": {},
   "outputs": [],
   "source": [
    "float(some_num)"
   ]
  },
  {
   "cell_type": "code",
   "execution_count": null,
   "metadata": {},
   "outputs": [],
   "source": [
    "# а эту уже нет (по крайней мере в десятичном счислении)\n",
    "ups = '123a'"
   ]
  },
  {
   "cell_type": "code",
   "execution_count": null,
   "metadata": {
    "scrolled": true
   },
   "outputs": [],
   "source": [
    "# ValueError - тип ошибки, далее пояснение что произошло\n",
    "# ----> 1 float(ups) - в каком месте кода произошла ошибка\n",
    "float(ups)"
   ]
  },
  {
   "cell_type": "markdown",
   "metadata": {},
   "source": [
    "Пример ошибки внутри функции"
   ]
  },
  {
   "cell_type": "code",
   "execution_count": 25,
   "metadata": {},
   "outputs": [],
   "source": [
    "def square_sum(*args):\n",
    "    total_sum = 0\n",
    "    for arg in args:\n",
    "        total_sum += arg**2\n",
    "    \n",
    "    return total_sum"
   ]
  },
  {
   "cell_type": "code",
   "execution_count": 26,
   "metadata": {},
   "outputs": [
    {
     "data": {
      "text/plain": [
       "14"
      ]
     },
     "execution_count": 26,
     "metadata": {},
     "output_type": "execute_result"
    }
   ],
   "source": [
    "square_sum(1, 2, 3)"
   ]
  },
  {
   "cell_type": "code",
   "execution_count": 27,
   "metadata": {
    "scrolled": true
   },
   "outputs": [
    {
     "ename": "TypeError",
     "evalue": "unsupported operand type(s) for ** or pow(): 'str' and 'int'",
     "output_type": "error",
     "traceback": [
      "\u001b[0;31m---------------------------------------------------------------------------\u001b[0m",
      "\u001b[0;31mTypeError\u001b[0m                                 Traceback (most recent call last)",
      "\u001b[0;32m<ipython-input-27-7189647907b6>\u001b[0m in \u001b[0;36m<module>\u001b[0;34m\u001b[0m\n\u001b[1;32m      3\u001b[0m \u001b[0;31m# ----> 4         total_sum += arg**2 - в какой именно строке произошла ошибка\u001b[0m\u001b[0;34m\u001b[0m\u001b[0;34m\u001b[0m\u001b[0;34m\u001b[0m\u001b[0m\n\u001b[1;32m      4\u001b[0m \u001b[0;34m\u001b[0m\u001b[0m\n\u001b[0;32m----> 5\u001b[0;31m \u001b[0msquare_sum\u001b[0m\u001b[0;34m(\u001b[0m\u001b[0;36m1\u001b[0m\u001b[0;34m,\u001b[0m \u001b[0;36m2\u001b[0m\u001b[0;34m,\u001b[0m \u001b[0;34m'3'\u001b[0m\u001b[0;34m)\u001b[0m\u001b[0;34m\u001b[0m\u001b[0;34m\u001b[0m\u001b[0m\n\u001b[0m",
      "\u001b[0;32m<ipython-input-25-45a18875b039>\u001b[0m in \u001b[0;36msquare_sum\u001b[0;34m(*args)\u001b[0m\n\u001b[1;32m      2\u001b[0m     \u001b[0mtotal_sum\u001b[0m \u001b[0;34m=\u001b[0m \u001b[0;36m0\u001b[0m\u001b[0;34m\u001b[0m\u001b[0;34m\u001b[0m\u001b[0m\n\u001b[1;32m      3\u001b[0m     \u001b[0;32mfor\u001b[0m \u001b[0marg\u001b[0m \u001b[0;32min\u001b[0m \u001b[0margs\u001b[0m\u001b[0;34m:\u001b[0m\u001b[0;34m\u001b[0m\u001b[0;34m\u001b[0m\u001b[0m\n\u001b[0;32m----> 4\u001b[0;31m         \u001b[0mtotal_sum\u001b[0m \u001b[0;34m+=\u001b[0m \u001b[0marg\u001b[0m\u001b[0;34m**\u001b[0m\u001b[0;36m2\u001b[0m\u001b[0;34m\u001b[0m\u001b[0;34m\u001b[0m\u001b[0m\n\u001b[0m\u001b[1;32m      5\u001b[0m \u001b[0;34m\u001b[0m\u001b[0m\n\u001b[1;32m      6\u001b[0m     \u001b[0;32mreturn\u001b[0m \u001b[0mtotal_sum\u001b[0m\u001b[0;34m\u001b[0m\u001b[0;34m\u001b[0m\u001b[0m\n",
      "\u001b[0;31mTypeError\u001b[0m: unsupported operand type(s) for ** or pow(): 'str' and 'int'"
     ]
    }
   ],
   "source": [
    "# пытаемся применить к операцию возведения в квадрат к строке\n",
    "# ----> 1 square_sum(1, 2, '3') - в какой функции произошла ошибка\n",
    "# ----> 4         total_sum += arg**2 - в какой именно строке произошла ошибка\n",
    "\n",
    "square_sum(1, 2, '3')"
   ]
  },
  {
   "cell_type": "markdown",
   "metadata": {},
   "source": [
    "1. Перевести текст ошибки с последней строчки\n",
    "2. Поисковики и stackoverflow\n",
    "3. Обратиться к коллегам\n",
    "- На работе - сказать что вы уже поискали - почему не поискал в гугле?\n",
    "- В общем случае:\n",
    "-- непонятно что значат переменные\n",
    "-- что за данные вы используете?\n",
    "4. Самый правильный способ - воспроизводимый пример"
   ]
  },
  {
   "cell_type": "code",
   "execution_count": null,
   "metadata": {},
   "outputs": [],
   "source": [
    "df = True"
   ]
  },
  {
   "cell_type": "code",
   "execution_count": null,
   "metadata": {},
   "outputs": [],
   "source": [
    "data_list[0]"
   ]
  },
  {
   "cell_type": "code",
   "execution_count": null,
   "metadata": {},
   "outputs": [],
   "source": []
  },
  {
   "cell_type": "code",
   "execution_count": null,
   "metadata": {},
   "outputs": [],
   "source": []
  },
  {
   "cell_type": "markdown",
   "metadata": {},
   "source": [
    "## Как сделать, чтобы цикл с расчетом не падал каждый раз"
   ]
  },
  {
   "cell_type": "code",
   "execution_count": null,
   "metadata": {},
   "outputs": [],
   "source": [
    "try:\n",
    "    # ваш код, где может произойти ошибка\n",
    "    float('123a')\n",
    "\n",
    "except:\n",
    "    # код, который выполняется в случае ошибки\n",
    "    "
   ]
  },
  {
   "cell_type": "code",
   "execution_count": null,
   "metadata": {},
   "outputs": [],
   "source": [
    "data = ['90', '60', '90', '240tot']\n",
    "total_sum = 0\n",
    "\n",
    "for num in data:\n",
    "    try:\n",
    "        total_sum += float(num)\n",
    "\n",
    "    except:\n",
    "        print('Ошибка в данных: {}'.format(num))\n",
    "    \n",
    "print('Итого', total_sum)"
   ]
  },
  {
   "cell_type": "markdown",
   "metadata": {},
   "source": [
    "Как сохранить всю информацию об ошибке?"
   ]
  },
  {
   "cell_type": "code",
   "execution_count": null,
   "metadata": {
    "scrolled": true
   },
   "outputs": [],
   "source": [
    "# полная версия traceback\n",
    "import traceback\n",
    "\n",
    "try:\n",
    "    float('123fff')\n",
    "\n",
    "except Exception:\n",
    "    print(traceback.print_exc())\n",
    "    \n",
    "print('Проехали')"
   ]
  },
  {
   "cell_type": "markdown",
   "metadata": {},
   "source": [
    "### Блок finally"
   ]
  },
  {
   "cell_type": "code",
   "execution_count": null,
   "metadata": {},
   "outputs": [],
   "source": [
    "try:\n",
    "    print(stats[\"wednesday\"])\n",
    "    \n",
    "except IndexError:\n",
    "    print(\"Ошибка индекса\")\n",
    "    \n",
    "except KeyError:\n",
    "    print(\"Ошибка ключа\")\n",
    "    print(1/0)\n",
    "    \n",
    "finally:\n",
    "    print('Эта строчка будет выполнена всегда')"
   ]
  },
  {
   "cell_type": "markdown",
   "metadata": {},
   "source": [
    "### Более жизненный пример"
   ]
  },
  {
   "cell_type": "code",
   "execution_count": 38,
   "metadata": {},
   "outputs": [],
   "source": [
    "DATE_FORMATS = ['%d.%m.%y %H:%M', '%d.%m.%YT %H:%M:%S']"
   ]
  },
  {
   "cell_type": "markdown",
   "metadata": {},
   "source": [
    "# Поиск аномалий"
   ]
  },
  {
   "cell_type": "code",
   "execution_count": 40,
   "metadata": {},
   "outputs": [],
   "source": [
    "def parse_date(date):\n",
    "    for format_ in DATE_FORMATS:\n",
    "        try:\n",
    "            return datetime.strptime(date, format_)\n",
    "        except:\n",
    "            pass\n",
    "        \n",
    "    # а что если ни один формат не подошел?\n",
    "    raise ValueError('Неизвестный формат даты {}'.format(date))"
   ]
  },
  {
   "cell_type": "code",
   "execution_count": 41,
   "metadata": {},
   "outputs": [
    {
     "data": {
      "text/plain": [
       "datetime.datetime(2016, 10, 5, 23, 18)"
      ]
     },
     "execution_count": 41,
     "metadata": {},
     "output_type": "execute_result"
    }
   ],
   "source": [
    "parse_date('05.10.16 23:18')"
   ]
  },
  {
   "cell_type": "code",
   "execution_count": 42,
   "metadata": {},
   "outputs": [
    {
     "data": {
      "text/plain": [
       "datetime.datetime(2016, 10, 9, 21, 40)"
      ]
     },
     "execution_count": 42,
     "metadata": {},
     "output_type": "execute_result"
    }
   ],
   "source": [
    "parse_date('09.10.2016T 21:40:00')"
   ]
  },
  {
   "cell_type": "code",
   "execution_count": 43,
   "metadata": {},
   "outputs": [
    {
     "ename": "ValueError",
     "evalue": "Неизвестный формат даты 2022-08-12",
     "output_type": "error",
     "traceback": [
      "\u001b[0;31m---------------------------------------------------------------------------\u001b[0m",
      "\u001b[0;31mValueError\u001b[0m                                Traceback (most recent call last)",
      "\u001b[0;32m<ipython-input-43-8a5c3a078c15>\u001b[0m in \u001b[0;36m<module>\u001b[0;34m\u001b[0m\n\u001b[0;32m----> 1\u001b[0;31m \u001b[0mparse_date\u001b[0m\u001b[0;34m(\u001b[0m\u001b[0;34m'2022-08-12'\u001b[0m\u001b[0;34m)\u001b[0m\u001b[0;34m\u001b[0m\u001b[0;34m\u001b[0m\u001b[0m\n\u001b[0m",
      "\u001b[0;32m<ipython-input-40-a9d97c13d755>\u001b[0m in \u001b[0;36mparse_date\u001b[0;34m(date)\u001b[0m\n\u001b[1;32m      7\u001b[0m \u001b[0;34m\u001b[0m\u001b[0m\n\u001b[1;32m      8\u001b[0m     \u001b[0;31m# а что если ни один формат не подошел?\u001b[0m\u001b[0;34m\u001b[0m\u001b[0;34m\u001b[0m\u001b[0;34m\u001b[0m\u001b[0m\n\u001b[0;32m----> 9\u001b[0;31m     \u001b[0;32mraise\u001b[0m \u001b[0mValueError\u001b[0m\u001b[0;34m(\u001b[0m\u001b[0;34m'Неизвестный формат даты {}'\u001b[0m\u001b[0;34m.\u001b[0m\u001b[0mformat\u001b[0m\u001b[0;34m(\u001b[0m\u001b[0mdate\u001b[0m\u001b[0;34m)\u001b[0m\u001b[0;34m)\u001b[0m\u001b[0;34m\u001b[0m\u001b[0;34m\u001b[0m\u001b[0m\n\u001b[0m",
      "\u001b[0;31mValueError\u001b[0m: Неизвестный формат даты 2022-08-12"
     ]
    }
   ],
   "source": [
    "parse_date('2022-08-12')"
   ]
  },
  {
   "cell_type": "code",
   "execution_count": 46,
   "metadata": {},
   "outputs": [
    {
     "name": "stdout",
     "output_type": "stream",
     "text": [
      "05.10.16 23:18 1010 20,2\n",
      "09.10.2016T 21:40:00 1036 15,6\n",
      "01.10.16 4:57 1042 14,8\n",
      "01.10.16 23:29 1042 14,4\n",
      "03.10.16 20:20 1042 14\n",
      "04.10.16 0:35 1042 20\n",
      "04.10.16 13:46 1042 16,2\n",
      "04.10.16 17:34 1042 11\n",
      "05.10.16 15:15 1042 10800000\n",
      "06.10.16 20:45 1042 22,6\n",
      "07.10.16 2:54 1042 22,4\n",
      "07.10.16 5:02 1042 24,4\n",
      "07.10.16 6:35 1042 16,6\n",
      "08.10.2016T 16:46:00 1042 8,6\n",
      "07.10.16 9:59 1052 24\n",
      "08.10.2016T 19:36:00 1052 18,8\n",
      "09.10.2016T 16:27:00 1062 11,2\n",
      "05.10.16 4:38 1067 19\n",
      "04.10.16 9:56 1078 23,4\n",
      "04.10.16 14:36 1085 17\n",
      "05.10.16 16:41 1096 20,8\n",
      "01.10.16 11:55 1098 15,6\n",
      "07.10.16 9:06 1105 16,2\n",
      "01.10.16 4:30 1108 17,8\n",
      "01.10.16 18:16 1108 18,8\n",
      "02.10.16 2:58 1108 20000000\n",
      "02.10.16 6:01 1108 21\n",
      "02.10.16 20:03 1108 16,6\n",
      "04.10.16 2:56 1108 20\n",
      "04.10.16 6:57 1108 19,8\n",
      "06.10.16 6:46 1108 16,8\n",
      "09.10.2016T 8:33:00 1108 24000000\n",
      "08.10.2016T 8:02:00 1111 12\n",
      "05.10.16 5:25 1112 10,2\n",
      "09.10.2016T 0:03:00 1112 24\n",
      "06.10.16 10:09 1113 15,8\n",
      "09.10.2016T 12:09:00 1113 22\n",
      "05.10.16 18:00 1114 17,4\n",
      "06.10.16 17:58 1114 14,8\n",
      "05.10.16 23:19 1116 20\n",
      "01.10.16 23:13 1118 11,6\n",
      "09.10.2016T 21:14:00 1118 20\n",
      "05.10.16 16:30 1123 16\n",
      "06.10.16 5:27 1123 11,2\n",
      "01.10.16 17:46 1128 12,2\n",
      "01.10.16 22:28 1136 21,6\n",
      "03.10.16 23:03 1136 17,4\n",
      "03.10.16 8:06 1140 22\n",
      "04.10.16 10:01 1140 22\n",
      "01.10.16 16:53 1141 16\n",
      "05.10.16 3:31 1145 16\n",
      "06.10.16 4:00 1145 20\n",
      "02.10.16 8:08 1149 10\n",
      "07.10.16 16:12 1149 21,2\n",
      "08.10.2016T 6:55:00 1149 30,4\n",
      "08.10.2016T 22:55:00 1149 18800000\n",
      "09.10.2016T 4:10:00 1149 14\n",
      "09.10.2016T 10:26:00 1149 22\n",
      "09.10.2016T 22:22:00 1149 16\n",
      "07.10.16 6:57 1150 12,6\n",
      "02.10.16 12:03 1154 13,4\n",
      "04.10.16 22:51 1154 13,6\n",
      "04.10.16 9:28 1159 10,2\n",
      "04.10.16 13:34 1159 17,4\n",
      "08.10.2016T 9:43:00 1164 22,4\n",
      "07.10.16 14:57 1167 11,4\n",
      "07.10.16 20:25 1175 14\n",
      "06.10.16 12:48 1181 22,4\n",
      "07.10.16 9:54 1182 18\n",
      "10.10.16 2:35 1182 17\n",
      "04.10.16 13:49 1193 24800000\n",
      "09.10.2016T 20:49:00 1193 16,6\n",
      "01.10.16 5:12 1198 17,8\n",
      "06.10.16 7:52 1198 9\n",
      "06.10.16 5:15 1201 10,6\n",
      "01.10.16 16:10 1207 16,6\n",
      "02.10.16 1:24 1207 24,2\n",
      "02.10.16 21:17 1207 20,4\n",
      "03.10.16 16:08 1207 25,6\n",
      "04.10.16 17:29 1207 19,8\n",
      "05.10.16 1:39 1207 16,4\n",
      "05.10.16 6:33 1207 16,2\n",
      "05.10.16 18:57 1207 17\n",
      "05.10.16 20:51 1207 16,8\n",
      "07.10.16 8:55 1207 19,8\n",
      "07.10.16 17:40 1207 15,6\n",
      "08.10.2016T 23:36:00 1207 19,2\n",
      "09.10.2016T 10:25:00 1207 23,2\n",
      "09.10.2016T 21:04:00 1207 10,8\n",
      "04.10.16 7:38 1208 24,4\n",
      "09.10.2016T 14:53:00 1208 13,4\n",
      "05.10.16 17:15 1209 12\n",
      "03.10.16 6:16 1213 18,6\n",
      "06.10.16 10:04 1213 16,6\n",
      "01.10.16 16:52 1218 12200000\n",
      "09.10.2016T 19:10:00 1218 22400000\n",
      "02.10.16 8:42 1219 15,4\n",
      "03.10.16 19:32 1223 17,2\n",
      "06.10.16 22:11 1223 17600000\n",
      "08.10.2016T 15:18:00 1224 16,4\n",
      "07.10.16 18:32 1228 18,8\n",
      "08.10.2016T 13:21:00 1228 17,6\n",
      "03.10.16 15:47 1230 20,6\n",
      "02.10.16 22:01 1236 17,4\n",
      "05.10.16 5:27 1238 13,6\n",
      "09.10.2016T 14:43:00 1238 17,6\n",
      "04.10.16 22:25 1242 18,4\n",
      "06.10.16 4:54 1243 20,4\n",
      "06.10.16 14:28 1243 20\n",
      "01.10.16 4:27 1246 17,8\n",
      "01.10.16 16:30 1248 13,2\n",
      "01.10.16 21:06 1248 28,8\n",
      "02.10.16 7:12 1252 22\n",
      "04.10.16 13:51 1252 15,6\n",
      "01.10.16 12:36 1253 13,6\n",
      "04.10.16 17:11 1253 8,6\n",
      "02.10.16 16:22 1258 22\n",
      "08.10.2016T 19:34:00 1258 20\n",
      "02.10.16 10:36 1263 12,6\n",
      "03.10.16 6:10 1263 18\n",
      "05.10.16 2:48 1268 16,4\n",
      "07.10.16 19:36 1268 16\n",
      "02.10.16 14:12 1269 22\n",
      "07.10.16 3:29 1270 21,8\n",
      "01.10.16 8:56 1273 14,6\n",
      "08.10.2016T 13:49:00 1273 22\n",
      "07.10.16 6:00 1274 25\n",
      "04.10.16 13:47 1278 15,6\n",
      "07.10.16 6:42 1278 17,8\n",
      "08.10.2016T 3:24:00 1279 14,8\n",
      "03.10.16 1:03 1281 18,2\n",
      "02.10.16 6:11 1283 12,6\n",
      "02.10.16 19:24 1283 11,8\n",
      "07.10.16 13:37 1288 16\n",
      "08.10.2016T 19:46:00 1288 30,4\n",
      "07.10.16 2:41 1291 13,4\n",
      "01.10.16 17:29 1293 18,4\n",
      "02.10.16 20:12 1293 20\n",
      "02.10.16 23:36 1294 17\n",
      "07.10.16 10:32 1296 26\n",
      "03.10.16 20:41 1298 21\n",
      "03.10.16 22:35 1298 19,4\n",
      "05.10.16 12:19 1298 16\n",
      "02.10.16 11:43 1300 12,8\n",
      "03.10.16 23:18 1300 14\n",
      "03.10.16 18:28 1302 21800000\n",
      "02.10.16 8:06 1303 11,8\n",
      "06.10.16 6:23 1303 25,8\n",
      "03.10.16 10:42 1308 18\n",
      "06.10.16 18:52 1308 10,2\n",
      "06.10.16 16:16 1313 12\n",
      "08.10.2016T 18:12:00 1313 13,8\n",
      "02.10.16 14:04 1315 16,6\n",
      "06.10.16 17:08 1320 18\n",
      "09.10.2016T 2:35:00 1323 16\n",
      "09.10.2016T 10:08:00 1323 28,6\n",
      "05.10.16 7:29 1328 18,4\n",
      "05.10.16 11:58 1328 18,8\n",
      "03.10.16 0:36 1330 17,8\n",
      "09.10.2016T 2:08:00 1331 16,8\n",
      "03.10.16 2:19 1332 19,4\n",
      "04.10.16 22:01 1333 20\n",
      "08.10.2016T 3:48:00 1334 16\n",
      "03.10.16 1:32 1343 22\n",
      "08.10.2016T 4:34:00 1350 12800000\n",
      "04.10.16 4:09 1351 20\n",
      "06.10.16 19:09 1353 17,4\n",
      "03.10.16 1:30 1354 15,6\n",
      "02.10.16 23:30 1355 22\n",
      "08.10.2016T 6:50:00 1359 14,4\n",
      "02.10.16 13:33 1362 12,2\n",
      "05.10.16 21:36 1363 12,2\n",
      "04.10.16 22:06 1364 20\n",
      "01.10.16 5:29 1366 13000000\n",
      "07.10.16 9:40 1367 22,4\n",
      "04.10.16 7:31 1371 13,6\n",
      "04.10.16 1:36 1372 30,4\n",
      "07.10.16 17:25 1374 12,4\n",
      "05.10.16 23:06 1377 16\n",
      "06.10.16 14:29 1380 30,4\n",
      "09.10.2016T 4:55:00 1382 23,2\n",
      "05.10.16 21:24 1383 20\n",
      "05.10.16 8:14 1386 12,6\n",
      "03.10.16 11:43 1387 14,6\n",
      "01.10.16 6:21 1388 11,8\n",
      "03.10.16 6:03 1392 20,2\n",
      "06.10.16 5:34 1393 10\n",
      "04.10.16 23:55 1394 12,8\n",
      "05.10.16 5:01 1397 20,6\n",
      "05.10.16 22:54 1398 18\n"
     ]
    }
   ],
   "source": [
    "with open('real_data.txt', 'r') as f:\n",
    "    for line in f:\n",
    "        line = line.strip().split('\\t')\n",
    "        \n",
    "        if len(line) == 3:\n",
    "            date, user_id, value = line\n",
    "            # print(date)\n",
    "            date_dt = parse_date(date)\n",
    "            \n",
    "            print(date, user_id, value)"
   ]
  },
  {
   "cell_type": "code",
   "execution_count": null,
   "metadata": {},
   "outputs": [],
   "source": []
  },
  {
   "cell_type": "code",
   "execution_count": null,
   "metadata": {},
   "outputs": [],
   "source": []
  },
  {
   "cell_type": "code",
   "execution_count": null,
   "metadata": {},
   "outputs": [],
   "source": []
  },
  {
   "cell_type": "markdown",
   "metadata": {},
   "source": [
    "Чем прекрасен этот файл:\n",
    "1. Даты имеют разный формат: за 8 и 9 октября формат с \"09.10.2016 21:40\" сменился на \"09.10.2016T 21:40:00\" (добавилась буква T и секунды). Разработчики объяснили этот тем, что сбились настройки после обновления одной из баз данных.\n",
    "2. У покупок некоторых пользователей неизвестно значение выручки, из-за чего количество столбцов в строке уменьшается на один.\n",
    "3. У некоторых строк реальная сумма покупки умножена на миллион. Так иногда действительно делают, чтобы избежать дробных чисел и работать только с целыми."
   ]
  },
  {
   "cell_type": "markdown",
   "metadata": {},
   "source": [
    "Необходимо посчитать сумму выручки из третьего столбца."
   ]
  },
  {
   "cell_type": "code",
   "execution_count": null,
   "metadata": {},
   "outputs": [],
   "source": []
  },
  {
   "cell_type": "code",
   "execution_count": null,
   "metadata": {},
   "outputs": [],
   "source": []
  },
  {
   "cell_type": "code",
   "execution_count": null,
   "metadata": {},
   "outputs": [],
   "source": []
  },
  {
   "cell_type": "markdown",
   "metadata": {},
   "source": [
    "# Даты"
   ]
  },
  {
   "cell_type": "code",
   "execution_count": null,
   "metadata": {},
   "outputs": [],
   "source": [
    "# иногда импортируют так\n",
    "import datetime"
   ]
  },
  {
   "cell_type": "code",
   "execution_count": null,
   "metadata": {},
   "outputs": [],
   "source": [
    "# можно и так\n",
    "import datetime as dt"
   ]
  },
  {
   "cell_type": "code",
   "execution_count": null,
   "metadata": {},
   "outputs": [],
   "source": [
    "# у нас будет вариант покороче (но это не одно и то же)\n",
    "from datetime import datetime"
   ]
  },
  {
   "cell_type": "code",
   "execution_count": null,
   "metadata": {},
   "outputs": [],
   "source": [
    "date_string = '09.05.2018  09:00'"
   ]
  },
  {
   "cell_type": "code",
   "execution_count": null,
   "metadata": {},
   "outputs": [],
   "source": [
    "# сейчас date_string это просто строка\n",
    "type(date_string)"
   ]
  },
  {
   "cell_type": "code",
   "execution_count": null,
   "metadata": {},
   "outputs": [],
   "source": [
    "datetime.strptime('09.05.2018 09:00', '%d.%m.%Y %H:%M')"
   ]
  },
  {
   "cell_type": "code",
   "execution_count": null,
   "metadata": {},
   "outputs": [],
   "source": [
    "# https://docs.python.org/3/library/datetime.html\n",
    "\n",
    "date_datetime = datetime.strptime( date_string, '%d.%m.%Y %H:%M' )\n",
    "date_datetime"
   ]
  },
  {
   "cell_type": "code",
   "execution_count": null,
   "metadata": {},
   "outputs": [],
   "source": [
    "# теперь можем работать с датами\n",
    "type(date_datetime)"
   ]
  },
  {
   "cell_type": "code",
   "execution_count": null,
   "metadata": {},
   "outputs": [],
   "source": [
    "# получить номер года и часа\n",
    "date_datetime.year, date_datetime.hour"
   ]
  },
  {
   "cell_type": "code",
   "execution_count": null,
   "metadata": {},
   "outputs": [],
   "source": [
    "# день недели\n",
    "date_datetime.weekday()"
   ]
  },
  {
   "cell_type": "code",
   "execution_count": null,
   "metadata": {},
   "outputs": [],
   "source": [
    "# сегодня\n",
    "datetime.now()"
   ]
  },
  {
   "cell_type": "markdown",
   "metadata": {},
   "source": [
    "### Упражнение\n",
    "С помощью метода datetime.strptime переведите строку 'May 25 2017 5:00AM' в формат datetime."
   ]
  },
  {
   "cell_type": "code",
   "execution_count": null,
   "metadata": {},
   "outputs": [],
   "source": []
  },
  {
   "cell_type": "code",
   "execution_count": null,
   "metadata": {},
   "outputs": [],
   "source": []
  },
  {
   "cell_type": "code",
   "execution_count": null,
   "metadata": {},
   "outputs": [],
   "source": []
  },
  {
   "cell_type": "markdown",
   "metadata": {},
   "source": [
    "### Прибавление интервала к датам"
   ]
  },
  {
   "cell_type": "code",
   "execution_count": null,
   "metadata": {},
   "outputs": [],
   "source": [
    "from datetime import timedelta"
   ]
  },
  {
   "cell_type": "code",
   "execution_count": null,
   "metadata": {},
   "outputs": [],
   "source": [
    "start_date = '2018-01-01'\n",
    "end_date = '2018-01-07'"
   ]
  },
  {
   "cell_type": "code",
   "execution_count": null,
   "metadata": {},
   "outputs": [],
   "source": [
    "type(start_date)"
   ]
  },
  {
   "cell_type": "code",
   "execution_count": null,
   "metadata": {},
   "outputs": [],
   "source": [
    "start_date_datetime = datetime.strptime(start_date, '%Y-%m-%d')\n",
    "start_date_datetime"
   ]
  },
  {
   "cell_type": "code",
   "execution_count": null,
   "metadata": {},
   "outputs": [],
   "source": [
    "start_date_datetime + timedelta(days=1)"
   ]
  },
  {
   "cell_type": "code",
   "execution_count": null,
   "metadata": {},
   "outputs": [],
   "source": [
    "start_date_datetime + timedelta(days=-7, minutes=-1)"
   ]
  },
  {
   "cell_type": "markdown",
   "metadata": {},
   "source": [
    "### Перевод обратно в строку"
   ]
  },
  {
   "cell_type": "code",
   "execution_count": null,
   "metadata": {},
   "outputs": [],
   "source": [
    "date = datetime(2018, 9, 1)\n",
    "date"
   ]
  },
  {
   "cell_type": "code",
   "execution_count": null,
   "metadata": {},
   "outputs": [],
   "source": [
    "date.strftime('%Y-%m-%d')"
   ]
  },
  {
   "cell_type": "code",
   "execution_count": null,
   "metadata": {
    "scrolled": false
   },
   "outputs": [],
   "source": [
    "date.strftime('%B %d %Y %I:%M%p')"
   ]
  },
  {
   "cell_type": "code",
   "execution_count": null,
   "metadata": {},
   "outputs": [],
   "source": [
    "datetime.now().strftime('%Y-%m-01')"
   ]
  },
  {
   "cell_type": "code",
   "execution_count": null,
   "metadata": {},
   "outputs": [],
   "source": [
    "# как получить первый день месяца\n",
    "\n",
    "date.strftime('%Y-%m-01')"
   ]
  },
  {
   "cell_type": "code",
   "execution_count": null,
   "metadata": {},
   "outputs": [],
   "source": [
    "start_date = '2018-01-01'\n",
    "end_date = '2018-01-07'"
   ]
  },
  {
   "cell_type": "code",
   "execution_count": null,
   "metadata": {},
   "outputs": [],
   "source": [
    "start_date, end_date"
   ]
  },
  {
   "cell_type": "code",
   "execution_count": null,
   "metadata": {},
   "outputs": [],
   "source": [
    "start_date_dt = datetime.strptime(start_date, '%Y-%m-%d')\n",
    "end_date_dt = datetime.strptime(end_date, '%Y-%m-%d')\n",
    "\n",
    "print(start_date_dt, end_date_dt)"
   ]
  },
  {
   "cell_type": "code",
   "execution_count": null,
   "metadata": {},
   "outputs": [],
   "source": [
    "i = 0\n",
    "\n",
    "while i < 10:\n",
    "    # ...\n",
    "    i += 1\n",
    "    print(i)"
   ]
  },
  {
   "cell_type": "code",
   "execution_count": null,
   "metadata": {
    "scrolled": true
   },
   "outputs": [],
   "source": [
    "current_dt = start_date_dt\n",
    "\n",
    "while current_dt <= end_date_dt:\n",
    "    print(current_dt.strftime('%Y-%m-%d'))\n",
    "    \n",
    "    current_dt += timedelta(days=1)"
   ]
  },
  {
   "cell_type": "code",
   "execution_count": null,
   "metadata": {},
   "outputs": [],
   "source": [
    "current_dt = start_date_dt\n",
    "\n",
    "while current_dt.strftime('%Y-%m-%d') <= end_date:\n",
    "    print(current_dt.strftime('%Y-%m-%d'))\n",
    "    \n",
    "    current_dt += timedelta(days=1)"
   ]
  },
  {
   "cell_type": "code",
   "execution_count": null,
   "metadata": {},
   "outputs": [],
   "source": [
    "# можно и с помощью list comprehension\n",
    "[(start_date_dt + timedelta(days=x)).strftime('%Y-%m-%d') for x in range(10)]"
   ]
  },
  {
   "cell_type": "markdown",
   "metadata": {},
   "source": [
    "### Нагрузка на систему по часам"
   ]
  },
  {
   "cell_type": "code",
   "execution_count": null,
   "metadata": {},
   "outputs": [],
   "source": [
    "stats = {}\n",
    "\n",
    "with open('logs.csv', 'r') as f:\n",
    "    for line in f:\n",
    "        line = line.strip()\n",
    "        print(line)\n",
    "        \n",
    "        break\n",
    "        \n",
    "        # вычисления нагрузки на систему...\n",
    "        \n",
    "# результат\n",
    "stats"
   ]
  },
  {
   "cell_type": "code",
   "execution_count": null,
   "metadata": {},
   "outputs": [],
   "source": [
    "# а в процентном соотношении?\n"
   ]
  },
  {
   "cell_type": "code",
   "execution_count": null,
   "metadata": {},
   "outputs": [],
   "source": []
  },
  {
   "cell_type": "code",
   "execution_count": null,
   "metadata": {},
   "outputs": [],
   "source": []
  },
  {
   "cell_type": "code",
   "execution_count": null,
   "metadata": {},
   "outputs": [],
   "source": []
  },
  {
   "cell_type": "markdown",
   "metadata": {},
   "source": [
    "###  Unixtime\n",
    "Количество секунд, прошедших с 1 января 1970 года по UTC"
   ]
  },
  {
   "cell_type": "code",
   "execution_count": null,
   "metadata": {},
   "outputs": [],
   "source": [
    "import time\n",
    "from datetime import date\n",
    "from datetime import datetime"
   ]
  },
  {
   "cell_type": "code",
   "execution_count": null,
   "metadata": {},
   "outputs": [],
   "source": [
    "d = date(2019, 3, 11)\n",
    "\n",
    "unixtime = time.mktime(d.timetuple())\n",
    "unixtime"
   ]
  },
  {
   "cell_type": "code",
   "execution_count": null,
   "metadata": {},
   "outputs": [],
   "source": [
    "from datetime import datetime"
   ]
  },
  {
   "cell_type": "code",
   "execution_count": null,
   "metadata": {},
   "outputs": [],
   "source": [
    "datetime.fromtimestamp(1552251600)"
   ]
  },
  {
   "cell_type": "markdown",
   "metadata": {},
   "source": [
    "На практике все сложнее https://habr.com/ru/post/452584/"
   ]
  }
 ],
 "metadata": {
  "kernelspec": {
   "display_name": "Python 3",
   "language": "python",
   "name": "python3"
  },
  "language_info": {
   "codemirror_mode": {
    "name": "ipython",
    "version": 3
   },
   "file_extension": ".py",
   "mimetype": "text/x-python",
   "name": "python",
   "nbconvert_exporter": "python",
   "pygments_lexer": "ipython3",
   "version": "3.8.5"
  }
 },
 "nbformat": 4,
 "nbformat_minor": 2
}
