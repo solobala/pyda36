{
  "cells": [
    {
      "cell_type": "markdown",
      "metadata": {
        "id": "ZuRHysDD_N_f"
      },
      "source": [
        "# Домашнее задание к лекции «Управляющие конструкции и коллекции» (часть 2)"
      ]
    },
    {
      "cell_type": "markdown",
      "metadata": {
        "id": "dytxNTet_XrL"
      },
      "source": [
        "# Задание 1\n",
        "Дана переменная, в которой хранится словарь, содержащий гео-метки для каждого пользователя (пример структуры данных приведен ниже). Вам необходимо написать программу, которая выведет на экран множество уникальных гео-меток всех пользователей."
      ]
    },
    {
      "cell_type": "code",
      "execution_count": null,
      "metadata": {
        "colab": {
          "base_uri": "https://localhost:8080/"
        },
        "id": "mg4MXPRQ_HAh",
        "outputId": "61acc259-7310-4513-cf85-b27fdcb72cec"
      },
      "outputs": [
        {
          "name": "stdout",
          "output_type": "stream",
          "text": [
            "{98, 35, 213, 54, 119, 15}\n"
          ]
        }
      ],
      "source": [
        "ids = {'user1': [213, 213, 213, 15, 213],\n",
        "'user2': [54, 54, 119, 119, 119],\n",
        "'user3': [213, 98, 98, 35]}\n",
        "result = set()\n",
        "\n",
        "for value in ids.values():\n",
        "  result=result.union(set(value))\n",
        "\n",
        "# другой способ:\n",
        "#for user_name, geo_tags in ids.items():\n",
        "  #result=result.union(geo_tags)\n",
        "\n",
        "# третий способ - рекомендация Булыгина\n",
        "# print(set(sum(ids.values(), [])))\n",
        "  \n",
        "print(result)"
      ]
    },
    {
      "cell_type": "code",
      "execution_count": null,
      "metadata": {
        "colab": {
          "base_uri": "https://localhost:8080/"
        },
        "id": "UNbB2hkuIZQj",
        "outputId": "fd95c571-8261-43c0-84f6-6b9c698d7f9b"
      },
      "outputs": [
        {
          "name": "stdout",
          "output_type": "stream",
          "text": [
            "{98, 35, 15, 213, 54, 119}\n"
          ]
        }
      ],
      "source": [
        "# вариант с итератором\n",
        "ids = {'user1': [213, 213, 213, 15, 213],\n",
        "'user2': [54, 54, 119, 119, 119],\n",
        "'user3': [213, 98, 98, 35]}\n",
        "res_iter=(list(set(geo_tags)) for user_name, geo_tags in ids.items())\n",
        "print(set(sum([item for item in res_iter],[])))"
      ]
    },
    {
      "cell_type": "markdown",
      "metadata": {
        "id": "BODmSNsBXdTa"
      },
      "source": [
        "# Задание 2\n",
        "Дана переменная, в которой хранится список поисковых запросов пользователя (пример структуры данных приведен ниже). Вам необходимо написать программу, которая выведет на экран распределение количества слов в запросах в требуемом виде."
      ]
    },
    {
      "cell_type": "code",
      "execution_count": null,
      "metadata": {
        "id": "gSpn5fttXh3f"
      },
      "outputs": [],
      "source": [
        "queries = [\n",
        "    'смотреть сериалы онлайн',\n",
        "    'новости спорта',\n",
        "    'афиша кино',\n",
        "    'курс доллара',\n",
        "    'сериалы этим летом',\n",
        "    'курс по питону',\n",
        "    'сериалы про спорт',\n",
        "]\n"
      ]
    },
    {
      "cell_type": "code",
      "execution_count": null,
      "metadata": {
        "colab": {
          "base_uri": "https://localhost:8080/"
        },
        "id": "UAJnZ82KJ5Ty",
        "outputId": "010c038b-b3f4-4be6-e8fa-a04949c74a6e"
      },
      "outputs": [
        {
          "name": "stdout",
          "output_type": "stream",
          "text": [
            "Результат: \n",
            "\n",
            "Поисковых запросов, содержащих 2 слов(а): 42.86%\n",
            "Поисковых запросов, содержащих 3 слов(а): 57.14%\n"
          ]
        }
      ],
      "source": [
        "count_word=[item.count(' ')+1  for item in queries] # список количеств слов в поисковых запросах\n",
        "#count_word_all=set(count_word) # множество уникальных количеств слов в посиковых запросах\n",
        "\n",
        "print('Результат:', '\\n')\n",
        "for quantity in set(count_word):\n",
        "  print(f'Поисковых запросов, содержащих {quantity} слов(а): {round(count_word.count(quantity)*100/len(count_word),2)}%')"
      ]
    },
    {
      "cell_type": "code",
      "execution_count": null,
      "metadata": {
        "id": "k7wQBG07Jt9k"
      },
      "outputs": [],
      "source": [
        "#Это ваш код, где Вы получили список с количеством слов по строкам\n",
        "request = (len(queries))\n",
        "print (request)\n",
        "word_count = [] # пустой список\n",
        "\n",
        "for i in queries:\n",
        "    words = (len(i.split(' '))) # количество слов в запросах\n",
        "    word_count.append(words) # наполняем пустой список\n",
        "print (word_count)"
      ]
    },
    {
      "cell_type": "code",
      "execution_count": null,
      "metadata": {
        "colab": {
          "base_uri": "https://localhost:8080/"
        },
        "id": "dNq1qaDcJ_4f",
        "outputId": "16ae694b-8e7a-4bcf-ca59-17e51593a2ae"
      },
      "outputs": [
        {
          "data": {
            "text/plain": [
              "{2, 3}"
            ]
          },
          "execution_count": 5,
          "metadata": {},
          "output_type": "execute_result"
        }
      ],
      "source": [
        "# Длинно, но понятно:\n",
        "# Я бы сделала так: Сначала на основе Вашего списка word_count создала множество, в котором будут только уникальные количества:\n",
        "results = set(word_count)\n",
        "count_results=set() # Это тоже множество, пока пустое, для добавления количеств элементов списка\n",
        "# дальше, имея короткое множество из уникальных количеств results, \n",
        "# перебираем в цикле эти количества, \n",
        "#считаем, сколько с таким значением есть элементов в списке word_count с помощью word_count.count(item) , и добавляем эти количества:\n",
        "for item in results:\n",
        "  count_results.add(word_count.count(item))\n",
        "results # Можно посмотреть, каие уникальные кол-ва слов у нас есть"
      ]
    },
    {
      "cell_type": "code",
      "execution_count": null,
      "metadata": {
        "colab": {
          "base_uri": "https://localhost:8080/"
        },
        "id": "WSFfHtZ7NEi9",
        "outputId": "b2739aea-0060-42fb-d6b6-5237130ef5a7"
      },
      "outputs": [
        {
          "data": {
            "text/plain": [
              "{3, 4}"
            ]
          },
          "execution_count": 6,
          "metadata": {},
          "output_type": "execute_result"
        }
      ],
      "source": [
        "count_results # можно посмотреть, сколько строк с таким к-вом эл-тов в исходном списке\n",
        "     "
      ]
    },
    {
      "cell_type": "code",
      "execution_count": null,
      "metadata": {
        "colab": {
          "base_uri": "https://localhost:8080/"
        },
        "id": "YhAGHOJuNVYf",
        "outputId": "59719168-fc79-44dd-8b24-c0d91daccf3d"
      },
      "outputs": [
        {
          "data": {
            "text/plain": [
              "{2: 3, 3: 4}"
            ]
          },
          "execution_count": 10,
          "metadata": {},
          "output_type": "execute_result"
        }
      ],
      "source": [
        "# У нас 2 множества, в которых одинаковое к-во элементов. Можно дальше работать с множествами, можно сделать из них словарь С помощью zip\n",
        "my_dict=dict(zip(results,count_results))\n",
        "\n",
        "my_dict"
      ]
    },
    {
      "cell_type": "code",
      "execution_count": null,
      "metadata": {
        "colab": {
          "base_uri": "https://localhost:8080/"
        },
        "id": "Lz1SiyLiOr_M",
        "outputId": "a6a4bc35-dfec-4cad-f09c-aeb291f81b47"
      },
      "outputs": [
        {
          "name": "stdout",
          "output_type": "stream",
          "text": [
            "Поисковых запросов, содержащих 2 слов(а): 42.86%\n",
            "Поисковых запросов, содержащих 3 слов(а): 57.14%\n"
          ]
        }
      ],
      "source": [
        "# И теперь уже можно его распечатать:\n",
        "for key, value in my_dict.items():\n",
        "  print(f'Поисковых запросов, содержащих {key} слов(а): {round(value*100/len(word_count),2)}%')"
      ]
    },
    {
      "cell_type": "markdown",
      "metadata": {
        "id": "nOSbMUaJaeXk"
      },
      "source": [
        "# Задание 3\n",
        "Дана переменная, в которой хранится информация о затратах и доходе рекламных кампаний по различным источникам. Необходимо дополнить исходную структуру показателем ROI, который рассчитаем по формуле: (revenue / cost - 1) * 100"
      ]
    },
    {
      "cell_type": "code",
      "execution_count": null,
      "metadata": {
        "id": "C4lT1UGMapGa"
      },
      "outputs": [],
      "source": [
        "results = {\n",
        "    'vk': {'revenue': 103, 'cost': 98},\n",
        "    'yandex': {'revenue': 179, 'cost': 153},\n",
        "    'facebook': {'revenue': 103, 'cost': 110},\n",
        "    'adwords': {'revenue': 35, 'cost': 34},\n",
        "    'twitter': {'revenue': 11, 'cost': 24},\n",
        "}"
      ]
    },
    {
      "cell_type": "code",
      "execution_count": null,
      "metadata": {
        "id": "uivH156jOAKC"
      },
      "outputs": [],
      "source": [
        "for company,metrics in results.items():\n",
        "  metrics['ROI']=round((metrics['revenue']/metrics['cost']-1)*100,2)\n"
      ]
    },
    {
      "cell_type": "code",
      "execution_count": null,
      "metadata": {
        "colab": {
          "base_uri": "https://localhost:8080/",
          "height": 183
        },
        "id": "zGIgdqalOUJ_",
        "outputId": "808c7367-402b-4672-a453-15537260acf2"
      },
      "outputs": [],
      "source": [
        "sorted(results.items())\n"
      ]
    },
    {
      "cell_type": "code",
      "execution_count": null,
      "metadata": {
        "id": "ovBnfk0GOES6"
      },
      "outputs": [],
      "source": [
        "results=dict(sorted(results.items()))"
      ]
    },
    {
      "cell_type": "code",
      "execution_count": null,
      "metadata": {
        "id": "PQJuTTCEOHFV"
      },
      "outputs": [],
      "source": [
        "print('Результат:', '\\n')\n",
        "print('{')\n",
        "for company,metrics in results.items():\n",
        "  print(f\"{company}: {metrics}\")\n",
        "print('}')"
      ]
    },
    {
      "cell_type": "markdown",
      "metadata": {
        "id": "NDg5v-s9vTR4"
      },
      "source": [
        "*Вопрос по заданию 3*: Как отформатировать при печати, чтобы было как в образце? У меня нижняя фигурная скобка на отдельной строке выходит, с горя и верхнюю на отдельной строке вывела."
      ]
    },
    {
      "cell_type": "markdown",
      "metadata": {
        "id": "_bSMdWSmt0_P"
      },
      "source": [
        "# Задание 4\n",
        "Дана переменная, в которой хранится статистика рекламных каналов по объемам продаж (пример структуры данных приведен ниже). Напишите программу, которая возвращает название канала с максимальным объемом продаж."
      ]
    },
    {
      "cell_type": "code",
      "execution_count": null,
      "metadata": {
        "id": "5_Uk4l8qKSCs"
      },
      "outputs": [],
      "source": [
        "stats = {'facebook': 55, 'yandex': 115, 'vk': 120, 'google': 99, 'email': 42, 'ok': 98}"
      ]
    },
    {
      "cell_type": "code",
      "execution_count": null,
      "metadata": {
        "colab": {
          "base_uri": "https://localhost:8080/"
        },
        "id": "V2MkaXhDt9Uw",
        "outputId": "2e8e5e89-49f5-4ad8-da03-c58c5f45347a"
      },
      "outputs": [
        {
          "name": "stdout",
          "output_type": "stream",
          "text": [
            "Результат: Максимальный объем продаж на рекламном канале: vk\n"
          ]
        }
      ],
      "source": [
        "# самое первое решение. Идею загуглила. почему stats.get - до сих порне разобралась\n",
        "print(f'Результат: Максимальный объем продаж на рекламном канале: {max(stats, key=stats.get)}')"
      ]
    },
    {
      "cell_type": "code",
      "execution_count": null,
      "metadata": {
        "colab": {
          "base_uri": "https://localhost:8080/"
        },
        "id": "QTq0LFnPBU1a",
        "outputId": "051e9913-9453-4922-f1aa-b9d73b479db2"
      },
      "outputs": [
        {
          "name": "stdout",
          "output_type": "stream",
          "text": [
            "Результат: Максимальный объем продаж на рекламном канале: vk\n"
          ]
        }
      ],
      "source": [
        "# Способ 2.тупое решение \"в лоб\"\n",
        "max_volume = max(stats.values()) # Находим среди значений словаря максимальную величину - 120\n",
        "for key, value in stats.items():\n",
        "  if value == max_volume:\n",
        "    print(f'Результат: Максимальный объем продаж на рекламном канале: {key}')\n",
        "    break"
      ]
    },
    {
      "cell_type": "code",
      "execution_count": null,
      "metadata": {
        "colab": {
          "base_uri": "https://localhost:8080/"
        },
        "id": "wHyKulDhFhLP",
        "outputId": "2a7eb0c4-95dc-4ad0-c481-8e696d9698dd"
      },
      "outputs": [
        {
          "name": "stdout",
          "output_type": "stream",
          "text": [
            "Максимальный объем продаж на рекламном канале: vk\n"
          ]
        }
      ],
      "source": [
        "# Способ 3.Применяем ф-ю max к словарю stats. тоже загуглила, но разобралась. \n",
        "# Поочередно с помощью stats[key] перебираем значения словаря и ищем среди них максимальноe\n",
        "print(f'Максимальный объем продаж на рекламном канале: {max(stats, key = lambda key: stats[key])}') "
      ]
    },
    {
      "cell_type": "code",
      "execution_count": null,
      "metadata": {
        "colab": {
          "base_uri": "https://localhost:8080/"
        },
        "id": "b6t52MhlIZE4",
        "outputId": "20c3c0ec-50da-4622-909b-857061f37cf1"
      },
      "outputs": [
        {
          "name": "stdout",
          "output_type": "stream",
          "text": [
            "Результат: Максимальный объем продаж на рекламном канале: vk\n"
          ]
        }
      ],
      "source": [
        "# НЕ самый короткий, но самый быстрый способ 4. поиска максимальных значений в словаре\n",
        "values = list(stats.values()) # возвращаем список значений словаря\n",
        "keys = list(stats.keys()) # возвращаем список ключей словаря\n",
        "#далее используем метод index для списков, а внутри этого метода - ф-ю max, которая ищет максимальное значение по этому списку. \n",
        "# В результате index вернет индекс максимального элемента среди значений, \n",
        "# а мы достанем по этому индексу нужный ключ из списка ключей\n",
        "print(f'Результат: Максимальный объем продаж на рекламном канале: {keys[values.index(max(values))]}')"
      ]
    },
    {
      "cell_type": "code",
      "execution_count": null,
      "metadata": {
        "colab": {
          "base_uri": "https://localhost:8080/"
        },
        "id": "ZNnKjpdMScl1",
        "outputId": "464cc91f-1450-4add-b54b-553463750f9f"
      },
      "outputs": [
        {
          "name": "stdout",
          "output_type": "stream",
          "text": [
            "Результат: Максимальный объем продаж на рекламном канале: vk\n"
          ]
        }
      ],
      "source": [
        "# ВАриация способа 4\n",
        "v = list(stats.values())\n",
        "print(f'Результат: Максимальный объем продаж на рекламном канале: {list(stats.keys())[v.index(max(v))]}')  "
      ]
    },
    {
      "cell_type": "code",
      "execution_count": null,
      "metadata": {
        "colab": {
          "base_uri": "https://localhost:8080/"
        },
        "id": "VhGfqR48LArS",
        "outputId": "3da70ed1-376d-434d-eca9-085a6a360e7a"
      },
      "outputs": [
        {
          "name": "stdout",
          "output_type": "stream",
          "text": [
            "Результат: Максимальный объем продаж на рекламном канале: vk\n"
          ]
        }
      ],
      "source": [
        "# Способ 5 - с - помощью итератора. Чтобы достать из итератора значение, оборачиваем его в List. Чтобы результат был без квадратных скобок, берем list[0]\n",
        "  \n",
        "print(f'Результат: Максимальный объем продаж на рекламном канале: {list({key for key, value in stats.items() if value == max(stats.values())})[0]}')"
      ]
    },
    {
      "cell_type": "code",
      "execution_count": null,
      "metadata": {
        "colab": {
          "base_uri": "https://localhost:8080/"
        },
        "id": "GlQSiq57MmNf",
        "outputId": "fae5cada-52d1-4fd0-fa15-4d4b4c1740e1"
      },
      "outputs": [
        {
          "name": "stdout",
          "output_type": "stream",
          "text": [
            "Результат: Максимальный объем продаж на рекламном канале: vk\n"
          ]
        }
      ],
      "source": [
        "# Способ 6. с помощью спискового выражения преобразуем словарь в список кортежей , в котором меняем местами ключи и значения\n",
        "inverse = [(value, key) for key, value in stats.items()]\n",
        "print(f'Результат: Максимальный объем продаж на рекламном канале: {max(inverse)[1]}')"
      ]
    },
    {
      "cell_type": "code",
      "execution_count": null,
      "metadata": {
        "colab": {
          "base_uri": "https://localhost:8080/"
        },
        "id": "xULxIEN7N_BC",
        "outputId": "20404801-3381-44bf-d104-088fce44f595"
      },
      "outputs": [
        {
          "name": "stdout",
          "output_type": "stream",
          "text": [
            "Результат: Максимальный объем продаж на рекламном канале: vk\n"
          ]
        }
      ],
      "source": [
        "# Вариация - гибрид способа 5 и 6\n",
        "d3 = {value: key for key,value in stats.items()}\n",
        "print(f'Результат: Максимальный объем продаж на рекламном канале: {d3[max(d3)]}')"
      ]
    },
    {
      "cell_type": "code",
      "execution_count": null,
      "metadata": {
        "colab": {
          "base_uri": "https://localhost:8080/"
        },
        "id": "20vCFtD1OnqD",
        "outputId": "3c8ead99-e471-4919-94ca-d19d0707b2f8"
      },
      "outputs": [
        {
          "name": "stdout",
          "output_type": "stream",
          "text": [
            "Результат: Максимальный объем продаж на рекламном канале: vk\n"
          ]
        }
      ],
      "source": [
        "# Способ 7 - с использованием ф-ии filter и lambda. Фактически из словаря делается список кортежей, которому применяется ф-я filter. Внутри filter с пмощью lamda формируется условие отбора -\n",
        "# элемент кортежа с номером 1 (т.е значение) == максимальному значению словаря\n",
        "# чтобы достать результат работы filter из объекта оборачиваем в list. Внутри list будет кортеж из 2 элементов : [('vk, 120')]\n",
        "# сначала достаем сам кортеж из списка, потом 0 эл-т из кортежа, поэтому в конце [0][0]\n",
        "#list(filter(lambda t: t[1] == max(stats.values()), stats.items()))[0][0]\n",
        "print(f'Результат: Максимальный объем продаж на рекламном канале: {list(filter(lambda t: t[1] == max(stats.values()), stats.items()))[0][0]}') "
      ]
    },
    {
      "cell_type": "code",
      "execution_count": null,
      "metadata": {
        "colab": {
          "base_uri": "https://localhost:8080/"
        },
        "id": "M8hBAJ0PRpce",
        "outputId": "cbddfdf2-2459-43e6-f3e6-01b28582a239"
      },
      "outputs": [
        {
          "name": "stdout",
          "output_type": "stream",
          "text": [
            "Результат: Максимальный объем продаж на рекламном канале: vk\n"
          ]
        }
      ],
      "source": [
        "# вообще экзотика - с помощью библиотеки operator\n",
        "import operator\n",
        "print(f'Результат: Максимальный объем продаж на рекламном канале: {max(stats.items(), key=operator.itemgetter(1))[0]}')  "
      ]
    },
    {
      "cell_type": "markdown",
      "metadata": {
        "id": "8ZQwIE0sv6Vb"
      },
      "source": [
        "# Задание 5 (необязательно)\n",
        "Дан список произвольной длины. Необходимо написать код, который на основе исходного списка составит словарь такого уровня вложенности, какова длина исхондого списка."
      ]
    },
    {
      "cell_type": "code",
      "execution_count": null,
      "metadata": {
        "colab": {
          "base_uri": "https://localhost:8080/"
        },
        "id": "YDHdq5Env9zN",
        "outputId": "37450fb4-0488-4d52-a0ba-38fe300125b6"
      },
      "outputs": [
        {
          "name": "stdout",
          "output_type": "stream",
          "text": [
            "{'a': {'b': {'c': {'d': {'e': 'f'}}}}}\n"
          ]
        }
      ],
      "source": [
        "my_list = ['a', 'b', 'c', 'd', 'e', 'f']\n",
        "result=dict() #делаем пустой словарь для результата\n",
        "values=dict() # делаем пустой словарь для промежуточного результата\n",
        "key=my_list[-2] # предпоследний эл-т списка будет ключом\n",
        "value=my_list[-1] # последний элемент списка будет значением\n",
        "result[key]=value # добавляем в словарь 1-й элемент\n",
        "del my_list[-2:] # удаляем из списка 2 последних значения\n",
        "\n",
        "while len(my_list)!=0:\n",
        "  values=result.copy() # копируем в промежуточный словарь 1-й элемент словаря-результата\n",
        "  del(result[key]) # удаляем его из словаря-результата\n",
        "  key=my_list[-1] # последний элемент списка будет ключом\n",
        "  result[key]=values # промежуточный словарь будет значением\n",
        "  del my_list[-1] # удаляем из списка последнее значение\n",
        "  \n",
        "print(result)"
      ]
    },
    {
      "cell_type": "markdown",
      "metadata": {
        "id": "Tv6ztO7J79ce"
      },
      "source": [
        "*Вопрос по Заданию 5. *Решила \"в лоб\" Наверняка можно проще.Как?"
      ]
    },
    {
      "cell_type": "code",
      "execution_count": null,
      "metadata": {
        "colab": {
          "base_uri": "https://localhost:8080/"
        },
        "id": "AWGOLdF_wBI-",
        "outputId": "a4163243-ab96-487f-b979-ba0c281b5a13"
      },
      "outputs": [
        {
          "name": "stdout",
          "output_type": "stream",
          "text": [
            "{'a': {'b': {'c': {'d': {'e': 'f'}}}}}\n"
          ]
        }
      ],
      "source": [
        "my_list = ['a', 'b', 'c', 'd', 'e', 'f']\n",
        "\n",
        "res = my_list[-1]\n",
        "for el in reversed(my_list[:-1]):\n",
        "\n",
        "  res = {el: res}\n",
        "\n",
        "print(res)"
      ]
    },
    {
      "cell_type": "markdown",
      "metadata": {
        "id": "JURwEvy08H0l"
      },
      "source": [
        "# Задание 6 (необязательно)\n",
        "Дана книга рецептов с информацией о том, сколько ингредиентов нужно для приготовления блюда в расчете на одну порцию (пример данных представлен ниже).\n",
        "Напишите программу, которая будет запрашивать у пользователя количество порций для приготовления этих блюд и отображать информацию о суммарном количестве требуемых ингредиентов в указанном виде.\n",
        "Внимание! Одинаковые ингридиенты с разными размерностями нужно считать раздельно!"
      ]
    },
    {
      "cell_type": "code",
      "execution_count": null,
      "metadata": {
        "id": "2MASEZGo8M6c"
      },
      "outputs": [],
      "source": [
        "cook_book = {\n",
        "  'салат': [\n",
        "     {'ingridient_name': 'сыр', 'quantity': 50, 'measure': 'гр'},\n",
        "     {'ingridient_name': 'томаты', 'quantity': 2, 'measure': 'шт'},\n",
        "     {'ingridient_name': 'огурцы', 'quantity': 20, 'measure': 'гр'},\n",
        "     {'ingridient_name': 'маслины', 'quantity': 10, 'measure': 'гр'},\n",
        "     {'ingridient_name': 'оливковое масло', 'quantity': 20, 'measure': 'мл'},\n",
        "     {'ingridient_name': 'салат', 'quantity': 10, 'measure': 'гр'},\n",
        "     {'ingridient_name': 'перец', 'quantity': 20, 'measure': 'гр'}\n",
        "    ],\n",
        "  'пицца': [\n",
        "     {'ingridient_name': 'сыр', 'quantity': 20, 'measure': 'гр'},\n",
        "     {'ingridient_name': 'колбаса', 'quantity': 30, 'measure': 'гр'},\n",
        "     {'ingridient_name': 'бекон', 'quantity': 30, 'measure': 'гр'},\n",
        "     {'ingridient_name': 'оливки', 'quantity': 10, 'measure': 'гр'},\n",
        "     {'ingridient_name': 'томаты', 'quantity': 20, 'measure': 'гр'},\n",
        "     {'ingridient_name': 'тесто', 'quantity': 100, 'measure': 'гр'},   \n",
        "    ],\n",
        "  'лимонад': [\n",
        "     {'ingridient_name': 'лимон', 'quantity': 1, 'measure': 'шт'},\n",
        "     {'ingridient_name': 'вода', 'quantity': 200, 'measure': 'мл'},\n",
        "     {'ingridient_name': 'сахар', 'quantity': 10, 'measure': 'гр'},\n",
        "     {'ingridient_name': 'лайм', 'quantity': 20, 'measure': 'гр'},    \n",
        "    ]\n",
        "}"
      ]
    },
    {
      "cell_type": "code",
      "execution_count": null,
      "metadata": {
        "colab": {
          "base_uri": "https://localhost:8080/"
        },
        "id": "SUljkxahwlK9",
        "outputId": "2473f727-9f66-4da7-8da5-07e7b31f0ed5"
      },
      "outputs": [
        {
          "name": "stdout",
          "output_type": "stream",
          "text": [
            "Введите количество порций: 5\n",
            "сыр: 350 гр\n",
            "томаты: 10 шт\n",
            "огурцы: 100 гр\n",
            "маслины: 50 гр\n",
            "оливковое масло: 100 мл\n",
            "салат: 50 гр\n",
            "перец: 100 гр\n",
            "колбаса: 150 гр\n",
            "бекон: 150 гр\n",
            "оливки: 50 гр\n",
            "томаты: 100 гр\n",
            "тесто: 500 гр\n",
            "лимон: 5 шт\n",
            "вода: 1000 мл\n",
            "сахар: 50 гр\n",
            "лайм: 100 гр\n"
          ]
        }
      ],
      "source": [
        "person =  int(input('Введите количество порций: '))\n",
        "shopdict = {} # Это новый словарь -список ингредиентов с указанием кол-ва. У него будут ключи в виде кортежа\n",
        "for dish in cook_book.values(): # для каждого рецепта в книге\n",
        "  for ingr in dish: # для каждого ингредиента в рецепте\n",
        "    key = (ingr['ingridient_name'], ingr['measure']) # делаем комбинрованный ключ в виде кортежа из ингредиента и единиц измерения\n",
        "    shopdict.setdefault(key, 0)\n",
        "    shopdict[key] += ingr['quantity'] * person # считаем сумму количеств ингредиентов с учетом единиц измерения\n",
        "\n",
        "for name, q in shopdict.items():\n",
        "  print(f'{name[0]}: {q} {name[1]}')"
      ]
    },
    {
      "cell_type": "code",
      "execution_count": null,
      "metadata": {
        "id": "V4WCpJDTwdT3"
      },
      "outputs": [],
      "source": [
        "n = int(input('Введите количество порций: '))\n",
        "new_keys = []\n",
        "for item in cook_book.items():\n",
        "  for line in item[1]:\n",
        "    ingridient_name, quantity, measure = line['ingridient_name'], line['quantity'],line['measure']  # в эти переменные кладем значения по ключам\n",
        "    quantity = quantity * n\n",
        "    line['quantity'] = quantity\n",
        "    new_keys.extend([ingridient_name + '; '+ measure]) # в список заносим комбинированные ключи, из списка затем сделаем множество\n",
        "\n",
        "new_keys = list(set(new_keys)) # получаем множество уникальных комбинированных ключей, по которым сможем суммировать, затем это множество снова преобразуем в список для последующей сортировки\n",
        "new_keys.sort()\n",
        "print('Результат: ','\\n')\n",
        "\n",
        "for key in new_keys: # для каждого комбинированного ключа\n",
        "  total=0\n",
        "  for item in cook_book.items(): # для каждого рецепта\n",
        "    for line in item[1]:  # для каждой строки в рецепте\n",
        "      ingridient_name, quantity, measure = line['ingridient_name'], line['quantity'],line['measure'] \n",
        "      if ingridient_name +';'+ measure == key: # если ингредиент и единицы измерения соответствуют комбинированному ключу\n",
        "        total += quantity  # суммируем кол-во ингредиентов по каждому рецепту\n",
        "  print(f'{key.split(\";\")[0]}:  {total} {key.split(\";\")[1]}') # для каждого комбинированного ключа - извлекаем название ингредиента и единицы измерения, печатаем посчитанное кол-во\n"
      ]
    }
  ],
  "metadata": {
    "colab": {
      "collapsed_sections": [],
      "provenance": []
    },
    "kernelspec": {
      "display_name": "Python 3",
      "name": "python3"
    },
    "language_info": {
      "name": "python"
    }
  },
  "nbformat": 4,
  "nbformat_minor": 0
}
