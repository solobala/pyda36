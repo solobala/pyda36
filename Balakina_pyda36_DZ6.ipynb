{
  "nbformat": 4,
  "nbformat_minor": 0,
  "metadata": {
    "colab": {
      "provenance": [],
      "collapsed_sections": [],
      "authorship_tag": "ABX9TyOAH8BsE8n07dm50bVZnD5Z",
      "include_colab_link": true
    },
    "kernelspec": {
      "name": "python3",
      "display_name": "Python 3"
    },
    "language_info": {
      "name": "python"
    }
  },
  "cells": [
    {
      "cell_type": "markdown",
      "metadata": {
        "id": "view-in-github",
        "colab_type": "text"
      },
      "source": [
        "<a href=\"https://colab.research.google.com/github/solobala/pyda36/blob/main/Balakina_pyda36_DZ6.ipynb\" target=\"_parent\"><img src=\"https://colab.research.google.com/assets/colab-badge.svg\" alt=\"Open In Colab\"/></a>"
      ]
    },
    {
      "cell_type": "markdown",
      "source": [
        "# Домашнее задание к лекции «Исключения и обработка ошибок»"
      ],
      "metadata": {
        "id": "5SumQ6XAUL0u"
      }
    },
    {
      "cell_type": "markdown",
      "source": [
        "# Задание 1\n",
        "Печатные газеты использовали свой формат дат для каждого выпуска. Для каждой газеты из списка напишите формат указанной даты для перевода в объект datetime:\n",
        "The Moscow Times - Wednesday, October 2, 2002\n",
        "The Guardian - Friday, 11.10.13\n",
        "Daily News - Thursday, 18 August 1977"
      ],
      "metadata": {
        "id": "yxC_OsuMUHPH"
      }
    },
    {
      "cell_type": "code",
      "source": [
        "from datetime import datetime"
      ],
      "metadata": {
        "id": "ZYL1nTsAXlBR"
      },
      "execution_count": null,
      "outputs": []
    },
    {
      "cell_type": "code",
      "source": [
        "papers = dict()\n",
        "test = ['10-02-2002','11-10-2013','08-18-1977'] # строки- даты в удобочитаемом формате для контроля\n",
        "papers['The Moscow Times'] = ['%A, %B %d, %Y','Wednesday, October 2, 2002']\n",
        "papers['The Guardian'] = ['%A,%d.%m.%y', 'Friday,11.10.13']\n",
        "papers['Daily News'] = ['%A, %d %B %Y','Thursday, 18 August 1977']"
      ],
      "metadata": {
        "id": "BARofSMNexSS"
      },
      "execution_count": null,
      "outputs": []
    },
    {
      "cell_type": "code",
      "source": [
        "# создаем объекты datetime из соответствующих дат-строк, а затем конвертируем эти объекты в строки с использованием подобранных форматов\n",
        "print(datetime.strftime(datetime.strptime(test[0],'%m-%d-%Y'),'%A, %B %-d, %Y'))\n",
        "print(datetime.strftime(datetime.strptime(test[1],'%d-%m-%Y'),'%A,%-m.%-d.%y'))\n",
        "print(datetime.strftime(datetime.strptime(test[2],'%m-%d-%Y'),'%A, %-d %B %Y'))"
      ],
      "metadata": {
        "colab": {
          "base_uri": "https://localhost:8080/"
        },
        "id": "rbQLp4HhfFdl",
        "outputId": "1dee3ccf-e070-4988-c7c5-16b0d875e4a9"
      },
      "execution_count": null,
      "outputs": [
        {
          "output_type": "stream",
          "name": "stdout",
          "text": [
            "Wednesday, October 2, 2002\n",
            "Friday,10.11.13\n",
            "Thursday, 18 August 1977\n"
          ]
        }
      ]
    },
    {
      "cell_type": "code",
      "execution_count": null,
      "metadata": {
        "colab": {
          "base_uri": "https://localhost:8080/"
        },
        "id": "CPWS9Q77UF8q",
        "outputId": "9b8fa5e4-1f59-4f29-86d4-35b01c200569"
      },
      "outputs": [
        {
          "output_type": "stream",
          "name": "stdout",
          "text": [
            "2002-10-02 00:00:00\n",
            "2013-10-11 00:00:00\n",
            "1977-08-18 00:00:00\n"
          ]
        }
      ],
      "source": [
        "# создаем  объекты datetime из соответствующих дат-строк, а затем конвертируем эти объекты в строки с использованием подобранных форматов\n",
        "for key, value in papers.items():\n",
        "  date_datetime = datetime.strptime(value[1], value[0])\n",
        "  print(date_datetime)"
      ]
    },
    {
      "cell_type": "markdown",
      "source": [
        "# Задание 2\n",
        "Дан поток дат в формате YYYY-MM-DD, в которых встречаются некорректные значения:\n",
        "stream = [‘2018-04-02’, ‘2018-02-29’, ‘2018-19-02’]\n",
        "\n",
        "Напишите функцию, которая проверяет эти даты на корректность. Т. е. для каждой даты возвращает True (дата корректна) или False (некорректная дата)."
      ],
      "metadata": {
        "id": "ESNX5UEGVPfK"
      }
    },
    {
      "cell_type": "code",
      "source": [
        "def is_date_correct(my_date):\n",
        "    \"\"\"\n",
        "    проверяет дату на корректность.\n",
        "    для каждой даты возвращает True (дата корректна) \n",
        "    или False (некорректная дата)\n",
        "    \"\"\"\n",
        "    format = '%Y-%m-%d'\n",
        "    result = True\n",
        "\n",
        "    try:\n",
        "      date_datetime = datetime.strptime(my_date,format)\n",
        "\n",
        "    except:\n",
        "      result = False\n",
        "      \n",
        "    finally:\n",
        "      return result"
      ],
      "metadata": {
        "id": "chADBQXcbJws"
      },
      "execution_count": null,
      "outputs": []
    },
    {
      "cell_type": "code",
      "source": [
        "def main():\n",
        "    stream = ['2018-04-02', '2018-02-29', '2018-19-02'] \n",
        "    for data in stream:\n",
        "      print(is_date_correct(data))"
      ],
      "metadata": {
        "id": "0YXZBXEQb0h8"
      },
      "execution_count": null,
      "outputs": []
    },
    {
      "cell_type": "code",
      "source": [
        "main()"
      ],
      "metadata": {
        "colab": {
          "base_uri": "https://localhost:8080/"
        },
        "id": "aCjXHRXZl-QN",
        "outputId": "f5541770-dcfc-4fdc-861c-811b02d85ec4"
      },
      "execution_count": null,
      "outputs": [
        {
          "output_type": "stream",
          "name": "stdout",
          "text": [
            "True\n",
            "False\n",
            "False\n"
          ]
        }
      ]
    },
    {
      "cell_type": "markdown",
      "source": [
        "# Задание 3\n",
        "Напишите функцию date_range, которая возвращает список дат за период от start_date до end_date. Даты должны вводиться в формате YYYY-MM-DD. В случае неверного формата или при start_date > end_date должен возвращаться пустой список."
      ],
      "metadata": {
        "id": "VAEt9YOKVRxZ"
      }
    },
    {
      "cell_type": "code",
      "source": [
        "from datetime import timedelta"
      ],
      "metadata": {
        "id": "YfxzKzqdpiBJ"
      },
      "execution_count": null,
      "outputs": []
    },
    {
      "cell_type": "code",
      "source": [
        "def date_range(start_date,end_date):\n",
        "    \"\"\"\n",
        "    возвращает список дат за период от start_date до end_date.\n",
        "    Даты должны вводиться в формате YYYY-MM-DD.\n",
        "    В случае неверного формата или \n",
        "    при start_date > end_date должен возвращаться пустой список\n",
        "    \"\"\"\n",
        "    format = '%Y-%m-%d'\n",
        "        \n",
        "    try:\n",
        "        result = []\n",
        "        date_datetime = datetime.strptime(start_date, format)\n",
        "        date_end = datetime.strptime(end_date, format)\n",
        "\n",
        "        while date_datetime < date_end:\n",
        "            result.append(date_datetime) \n",
        "            date_datetime += timedelta(days=1)\n",
        "        return result\n",
        "    except:\n",
        "        return []\n",
        "    "
      ],
      "metadata": {
        "id": "7Eri3yFyVWHR"
      },
      "execution_count": null,
      "outputs": []
    },
    {
      "cell_type": "code",
      "source": [
        "def main():\n",
        "    format = '%Y-%m-%d'\n",
        "    start_date, end_date = input('Введите начало периода: '), input('Введите конец периода: ')\n",
        "    result = date_range(start_date, end_date)\n",
        "    if len(result) != 0:\n",
        "        for data_ in result:\n",
        "            print(datetime.strftime(data_, format))\n",
        "    else:\n",
        "      print(result)\n",
        "    "
      ],
      "metadata": {
        "id": "FHnDyIIKninN"
      },
      "execution_count": null,
      "outputs": []
    },
    {
      "cell_type": "code",
      "source": [
        "main()"
      ],
      "metadata": {
        "colab": {
          "base_uri": "https://localhost:8080/"
        },
        "id": "5s487gzmolda",
        "outputId": "9fd3bb33-f400-4c9f-f353-a1775f4c1580"
      },
      "execution_count": null,
      "outputs": [
        {
          "output_type": "stream",
          "name": "stdout",
          "text": [
            "Введите начало периода: 22-01-01\n",
            "Введите конец периода: 2022-02-02\n",
            "[]\n"
          ]
        }
      ]
    },
    {
      "cell_type": "markdown",
      "source": [
        "# Задание 4 (необязательное)\n",
        "Ваш коллега прислал код функции:\n",
        "\n",
        "DEFAULT_USER_COUNT = 3\n",
        "\n",
        "def delete_and_return_last_user(region, default_list=[‘A100’, ‘A101’, ‘A102’]):\n",
        "\"\"“\n",
        "Удаляет из списка default_list последнего пользователя\n",
        "и возвращает ID нового последнего пользователя.\n",
        "”\"\"\n",
        "element_to_delete = default_list[-1]\n",
        "default_list.remove(element_to_delete)\n",
        "\n",
        "1\n",
        "return default_list[DEFAULT_USER_COUNT-2]\n",
        "При однократном вызове этой функции все работает корректно:\n",
        "delete_and_return_last_user(1)\n",
        "‘A101’\n",
        "\n",
        "Однако, при повторном вызове получается ошибка IndexError: list index out of range.\n",
        "\n",
        "Задание:\n",
        "\n",
        "Что значит ошибка list index out of range?\n",
        "Почему при первом запуске функция работает корректно, а при втором - нет?"
      ],
      "metadata": {
        "id": "8LhM3cp2VXCf"
      }
    },
    {
      "cell_type": "code",
      "source": [
        "DEFAULT_USER_COUNT = 3\n",
        "def delete_and_return_last_user(region, default_list=['A100', 'A101', 'A102']): \n",
        "  \"\"\" \n",
        "  Удаляет из списка default_list последнего пользователя и \n",
        "  возвращает ID нового последнего пользователя. \n",
        "  \"\"\" \n",
        "  print(default_list)\n",
        "  element_to_delete = default_list[-1] \n",
        "  default_list.remove(element_to_delete)\n",
        "  return default_list[DEFAULT_USER_COUNT-2]\n",
        "delete_and_return_last_user(1)\n",
        "delete_and_return_last_user(1)\n"
      ],
      "metadata": {
        "colab": {
          "base_uri": "https://localhost:8080/",
          "height": 356
        },
        "id": "YnK19gyTVhMU",
        "outputId": "b1bcbb12-0027-4237-80fd-6c6e49168079"
      },
      "execution_count": null,
      "outputs": [
        {
          "output_type": "stream",
          "name": "stdout",
          "text": [
            "['A100', 'A101', 'A102']\n",
            "['A100', 'A101']\n"
          ]
        },
        {
          "output_type": "error",
          "ename": "IndexError",
          "evalue": "ignored",
          "traceback": [
            "\u001b[0;31m---------------------------------------------------------------------------\u001b[0m",
            "\u001b[0;31mIndexError\u001b[0m                                Traceback (most recent call last)",
            "\u001b[0;32m<ipython-input-70-f91cc4ef78d8>\u001b[0m in \u001b[0;36m<module>\u001b[0;34m()\u001b[0m\n\u001b[1;32m     10\u001b[0m   \u001b[0;32mreturn\u001b[0m \u001b[0mdefault_list\u001b[0m\u001b[0;34m[\u001b[0m\u001b[0mDEFAULT_USER_COUNT\u001b[0m\u001b[0;34m-\u001b[0m\u001b[0;36m2\u001b[0m\u001b[0;34m]\u001b[0m\u001b[0;34m\u001b[0m\u001b[0;34m\u001b[0m\u001b[0m\n\u001b[1;32m     11\u001b[0m \u001b[0mdelete_and_return_last_user\u001b[0m\u001b[0;34m(\u001b[0m\u001b[0;36m1\u001b[0m\u001b[0;34m)\u001b[0m\u001b[0;34m\u001b[0m\u001b[0;34m\u001b[0m\u001b[0m\n\u001b[0;32m---> 12\u001b[0;31m \u001b[0mdelete_and_return_last_user\u001b[0m\u001b[0;34m(\u001b[0m\u001b[0;36m1\u001b[0m\u001b[0;34m)\u001b[0m\u001b[0;34m\u001b[0m\u001b[0;34m\u001b[0m\u001b[0m\n\u001b[0m",
            "\u001b[0;32m<ipython-input-70-f91cc4ef78d8>\u001b[0m in \u001b[0;36mdelete_and_return_last_user\u001b[0;34m(region, default_list)\u001b[0m\n\u001b[1;32m      8\u001b[0m   \u001b[0melement_to_delete\u001b[0m \u001b[0;34m=\u001b[0m \u001b[0mdefault_list\u001b[0m\u001b[0;34m[\u001b[0m\u001b[0;34m-\u001b[0m\u001b[0;36m1\u001b[0m\u001b[0;34m]\u001b[0m\u001b[0;34m\u001b[0m\u001b[0;34m\u001b[0m\u001b[0m\n\u001b[1;32m      9\u001b[0m   \u001b[0mdefault_list\u001b[0m\u001b[0;34m.\u001b[0m\u001b[0mremove\u001b[0m\u001b[0;34m(\u001b[0m\u001b[0melement_to_delete\u001b[0m\u001b[0;34m)\u001b[0m\u001b[0;34m\u001b[0m\u001b[0;34m\u001b[0m\u001b[0m\n\u001b[0;32m---> 10\u001b[0;31m   \u001b[0;32mreturn\u001b[0m \u001b[0mdefault_list\u001b[0m\u001b[0;34m[\u001b[0m\u001b[0mDEFAULT_USER_COUNT\u001b[0m\u001b[0;34m-\u001b[0m\u001b[0;36m2\u001b[0m\u001b[0;34m]\u001b[0m\u001b[0;34m\u001b[0m\u001b[0;34m\u001b[0m\u001b[0m\n\u001b[0m\u001b[1;32m     11\u001b[0m \u001b[0mdelete_and_return_last_user\u001b[0m\u001b[0;34m(\u001b[0m\u001b[0;36m1\u001b[0m\u001b[0;34m)\u001b[0m\u001b[0;34m\u001b[0m\u001b[0;34m\u001b[0m\u001b[0m\n\u001b[1;32m     12\u001b[0m \u001b[0mdelete_and_return_last_user\u001b[0m\u001b[0;34m(\u001b[0m\u001b[0;36m1\u001b[0m\u001b[0;34m)\u001b[0m\u001b[0;34m\u001b[0m\u001b[0;34m\u001b[0m\u001b[0m\n",
            "\u001b[0;31mIndexError\u001b[0m: list index out of range"
          ]
        }
      ]
    },
    {
      "cell_type": "markdown",
      "source": [
        "list index out of range - индекс вызываемого элемента списка находится вне диапазона.\n",
        "в списке параметров ф-ии - 2- region и default list. При вызове ф-ии передаем только 1 параметр - регион. если бы мы передавали в качестве параметра default_list, то ф-я срабатывала бы без ошибок, удаляя последний элемент 'A102' и возвращая 'A101'. Т.к мы default_list не передаем, то при повторном запуске в качестве аргумента используется уже default_list с удаленным последним элементом:['A100', 'A101']. При удалении последнего элемента 'A101'. в списке остается только 1 элемент с номером 0, поэтому попытка вернуть элемент с номером 1 ( User_count = 3 -2) приводит к ошибке"
      ],
      "metadata": {
        "id": "umobjcLnyBYw"
      }
    }
  ]
}