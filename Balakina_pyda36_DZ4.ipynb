{
  "cells": [
    {
      "cell_type": "markdown",
      "metadata": {
        "id": "PIzDPyHpgH5q"
      },
      "source": [
        "# Домашнее задание к лекции \"Функции\""
      ]
    },
    {
      "cell_type": "markdown",
      "metadata": {
        "id": "E33zCgDvgK0-"
      },
      "source": []
    },
    {
      "cell_type": "code",
      "execution_count": null,
      "metadata": {
        "id": "YU2t_TlPgCve"
      },
      "outputs": [],
      "source": [
        "def doc_owner_by_number():\n",
        "    \"\"\"\n",
        "    Пользователь может узнать владельца документа по его номеру.\n",
        "    Если номер есть в базе - выводится владелец\n",
        "    Если нет -выводится сообщение 'Документ не найден в базе'\n",
        "    \"\"\"\n",
        "    doc_number = input('Введите номер документа: ')\n",
        "    if is_doc_number_exist(doc_number):  # отдельная функция, которая проверяет наличие документа в базе. используется в нескольких местах\n",
        "        for document in documents:\n",
        "            if document.get('number') == doc_number:\n",
        "                print(document.get('name'))\n",
        "                break"
      ]
    },
    {
      "cell_type": "code",
      "execution_count": null,
      "metadata": {
        "id": "fhC3NLrrWDiz"
      },
      "outputs": [],
      "source": [
        "def document_on_dir():\n",
        "    \"\"\"\n",
        "    по команде \"s\" можно по номеру документа узнать на какой полке он хранится\n",
        "    Если номер есть в базе - ф-я возвращает номер полки, где он размещен\n",
        "    Если нет -возвращается none\n",
        "    \"\"\"\n",
        "    doc_number = input('Введите номер документа: ')\n",
        "    result = where_is_document(doc_number) # Отдельная функция, которая ищет полку документа\n",
        "    print(f'Документ хранится на полке: {result}' if result else 'Документ не найден в базе')"
      ]
    },
    {
      "cell_type": "code",
      "execution_count": null,
      "metadata": {
        "id": "fLomFMkuV_QI"
      },
      "outputs": [],
      "source": [
        "def where_is_document(doc_number):\n",
        "    \"\"\"\n",
        "    по команде \"s\" можно по номеру документа узнать на какой полке он хранится\n",
        "    Если номер есть в базе - ф-я возвращает номер полки, где он размещен\n",
        "    Если нет -возвращается none\n",
        "    \"\"\"\n",
        "    for key, value in directories.items():\n",
        "        if doc_number in value:\n",
        "            return (key)\n",
        "            break"
      ]
    },
    {
      "cell_type": "code",
      "execution_count": null,
      "metadata": {
        "id": "7MJZ-lbuV-dT"
      },
      "outputs": [],
      "source": [
        "def get_full_info():\n",
        "    \"\"\"\n",
        "   по команде \"l\" можно увидеть полную информацию по всем документам\n",
        "    \"\"\"\n",
        "    for record in documents:\n",
        "        print(\n",
        "            f\"№: {record['number']}, тип: {record['type']}, владелец: {record['name']}, полка хранения: {where_is_document(record['number'])}\")"
      ]
    },
    {
      "cell_type": "code",
      "execution_count": null,
      "metadata": {
        "id": "0LWk-6k4V56Y"
      },
      "outputs": [],
      "source": [
        "def add_directory():\n",
        "    \"\"\"\n",
        "    Пользователь по команде \"ads\" может добавить новую полку.\n",
        "    Если такая полка уже есть - будет выведено сообщение\n",
        "    'Такая полка уже существует. Текущий перечень полок: 1, 2, 3.'\n",
        "    Иначе полка будет добавленаи выедено сообщение:\n",
        "    'Полка добавлена. Текущий перечень полок:1,2,3...'\n",
        "    \"\"\"\n",
        "    dir_number = input('Введите номер добавляемой полки:')\n",
        "    if dir_number in directories.keys():\n",
        "        print(f'Такая полка уже существует. {current_directories_list()}')\n",
        "    else:\n",
        "        directories[dir_number] = []\n",
        "        print(f\"Полка добавлена. {current_directories_list()}\")\n"
      ]
    },
    {
      "cell_type": "code",
      "execution_count": null,
      "metadata": {
        "id": "LOVQF8hYV38t"
      },
      "outputs": [],
      "source": [
        "def current_directories_list():\n",
        "    \"\"\"\n",
        "    Возвращает текущий перечень полок\n",
        "    \"\"\"\n",
        "    return ('Текущий перечень полок: ' + ', '.join(directories.keys()) + '.')\n"
      ]
    },
    {
      "cell_type": "code",
      "execution_count": null,
      "metadata": {
        "id": "9WsojNjOV1rv"
      },
      "outputs": [],
      "source": [
        "def is_directory_empty(dir_number):\n",
        "    \"\"\"\n",
        "    Проверяет, есть ли на полке документы.\n",
        "    Если нет - ничего не возвращает\n",
        "    Если есть- выводит сообщение: 'На полке есть документа, удалите их\n",
        "    перед удалением полки. Текущий перечень полок: 1, 2, 3...'\n",
        "    \"\"\"\n",
        "    if directories[dir_number] != []:\n",
        "        print(f\"На полке есть документы, удалите их перед удалением полки. {current_directories_list()}\")\n",
        "        return False\n",
        "    else:\n",
        "        return True\n"
      ]
    },
    {
      "cell_type": "code",
      "execution_count": null,
      "metadata": {
        "id": "1jkYMoNVVznL"
      },
      "outputs": [],
      "source": [
        "def is_doc_number_exist(doc_number):\n",
        "    \"\"\"\n",
        "    Проверяет наличие в базе документа с таким номером. Если есть -  True\n",
        "    Иначе выводит сообщение 'Документ не найден в базе'\n",
        "    \"\"\"\n",
        "    result = False\n",
        "    for document in documents:\n",
        "        if document['number'] == doc_number:\n",
        "            result = True\n",
        "            break\n",
        "    if not result:\n",
        "        print('Документ не найден в базе')\n",
        "    return (result)\n"
      ]
    },
    {
      "cell_type": "code",
      "execution_count": null,
      "metadata": {
        "id": "KwYmJi2mVwzy"
      },
      "outputs": [],
      "source": [
        "def del_directory():\n",
        "    \"\"\"\n",
        "   по команде \"ds\" можно удалить существующую полку из данных ( если она пустая)\n",
        "    \"\"\"\n",
        "    dir_number = input('Введите номер удаляемой полки:')\n",
        "    if dir_number in directories.keys():\n",
        "        if is_directory_empty(dir_number): # отдельная ф-я, которая проверяет пустая ли полка\n",
        "            del (directories[dir_number])\n",
        "            print(f\"Полка удалена. {current_directories_list()}\")\n",
        "    else:\n",
        "        print(f\"Такой полки не существует. {current_directories_list()}\")\n",
        "    return"
      ]
    },
    {
      "cell_type": "code",
      "execution_count": null,
      "metadata": {
        "id": "QmVh-vzhVtUq"
      },
      "outputs": [],
      "source": [
        "def add_document():\n",
        "    \"\"\"\n",
        "    по команде \"ad\" монот добавить новый документ в данные.\n",
        "\n",
        "    вводит номер документа, тип документа, владельца документа \n",
        "    и номер полки для хранения\n",
        "\n",
        "    Проверяется наличие документа с таким номером в базе,\n",
        "    а также наличие полки для размещения документа.\n",
        "\n",
        "    Если документ  c таким номером уже есть в базе, выводится сообщение:\n",
        "    'Документ с таким номером уже есть',\n",
        "    и добавления не происходит\n",
        "\n",
        "    Если полка с таким номером не найдена, выводится сообщение: \n",
        "    'Такой полки не существует. добавьте полку командой as'\n",
        "    Добавления документа также не происходит\n",
        "    \"\"\"\n",
        "    doc_number = input('Введите номер документа: ')\n",
        "    if not is_doc_number_exist(doc_number):\n",
        "\n",
        "        doc_type = input('Введите тип документа: ')\n",
        "        doc_owner = input('Введите владельца документа: ')\n",
        "        dir_number = input('Введите номер полки: ')\n",
        "\n",
        "        if dir_number not in directories.keys():\n",
        "            print('Такой полки не существует. добавьте полку командой as')\n",
        "\n",
        "        else:\n",
        "            documents.append({'type': doc_type, 'number': doc_number, 'name': doc_owner})\n",
        "            directories[dir_number].append(doc_number)\n",
        "            get_full_info()\n",
        "    else:\n",
        "        print('Документ с таким номером уже есть')"
      ]
    },
    {
      "cell_type": "code",
      "execution_count": null,
      "metadata": {
        "id": "VGlDnqqoVq6C"
      },
      "outputs": [],
      "source": [
        "def del_document():\n",
        "    \"\"\"\n",
        "    Пользователь по команде \"d\" может удалить документ из данных.\n",
        "    Пользователь вводит номер документа.\n",
        "    Выполняется проверка наличия документа  в базе.\n",
        "    Если документ не найден, выводится сообщение \n",
        "    'Документ не найден в базе.' и текущий список документов\n",
        "    Если документ найден, то он удаляется из списка documents \n",
        "    и из списка значений directories\n",
        "    \"\"\"\n",
        "    doc_number = input('Введите номер документа: ')\n",
        "    if is_doc_number_exist(doc_number):\n",
        "        for document in documents:\n",
        "            if document['number'] == doc_number:\n",
        "                documents.remove(document)\n",
        "                break\n",
        "        res_directory = dict()\n",
        "        for i, directory in directories.items():\n",
        "            if doc_number not in directory:\n",
        "                res_directory[i] = directory\n",
        "        directories.update(res_directory)\n",
        "        print('Документ удален.')\n",
        "        get_full_info()"
      ]
    },
    {
      "cell_type": "code",
      "execution_count": null,
      "metadata": {
        "id": "V-SYHbzYVn_J"
      },
      "outputs": [],
      "source": [
        "def move_document():\n",
        "    \"\"\"\n",
        "    по команде \"m\" можно переместить документ с полки на полку.\n",
        "    Пользователь вводит номер документа.\n",
        "    Выполняется проверка существования документа с таким номером  в базе.\n",
        "    Если документ найден - вводится номер полки, куда нужно переместить документ.\n",
        "    Выполняется проверка существования полки с таким номером.\n",
        "    Если полка не найдена, выводится сообщение \n",
        "    'Такой полки не существует' и список полок с документами.\n",
        "    Иначе номер документа удаляется с текущей полки и добавляется на новую.\n",
        "    Выводится сообщение \" Документ перемещен\" и список полок с документами\n",
        "    \"\"\"\n",
        "    doc_number = input('Введите номер документа: ')\n",
        "    if  is_doc_number_exist(doc_number):\n",
        "        dir_number = input('Введите номер полки: ')\n",
        "\n",
        "        if dir_number not in directories.keys():\n",
        "            print(f'Такой полки не существует.{current_directories_list()}')\n",
        "        else:\n",
        "            for values in directories.values():\n",
        "                if doc_number in values:\n",
        "                    values.remove(doc_number)\n",
        "                    break\n",
        "            directories[dir_number].append(doc_number)\n",
        "\n",
        "        print('Документ перемещен.')\n",
        "        get_full_info()"
      ]
    },
    {
      "cell_type": "code",
      "execution_count": null,
      "metadata": {
        "id": "7MaF6G1uVlly"
      },
      "outputs": [],
      "source": [
        "def ex1(i): \n",
        "    \"\"\"\n",
        "    Сделан словарь, ключи - управляющие команды, значения - имена функций\n",
        "    \"\"\"\n",
        "    functions = {'p': doc_owner_by_number,\n",
        "                 's': document_on_dir,\n",
        "                 'l': get_full_info,\n",
        "                 'as': add_directory,\n",
        "                 'ds': del_directory,\n",
        "                 'ad': add_document,\n",
        "                 'd': del_document,\n",
        "                 'm': move_document\n",
        "                 }\n",
        "    return functions.get(i, 'error')"
      ]
    },
    {
      "cell_type": "code",
      "execution_count": null,
      "metadata": {
        "id": "TuXvMcS5VY9B"
      },
      "outputs": [],
      "source": [
        "# перечень всех документов\n",
        "documents = [\n",
        "    {'type': 'passport', 'number': '2207 876234', 'name': 'Василий Гупкин'},\n",
        "    {'type': 'invoice', 'number': '11-2', 'name': 'Геннадий Покемонов'},\n",
        "    {'type': 'insurance', 'number': '10006', 'name': 'Аристарх Павлов'}\n",
        "]\n",
        "# перечень полок, на которых хранятся документы\n",
        "directories = {\n",
        "    '1': ['2207 876234', '11-2'],\n",
        "    '2': ['10006'],\n",
        "    '3': []\n",
        "}"
      ]
    },
    {
      "cell_type": "code",
      "execution_count": null,
      "metadata": {
        "colab": {
          "base_uri": "https://localhost:8080/"
        },
        "id": "oosdV6F_Vgx7",
        "outputId": "1e057a19-c4b4-47b2-ce86-5c3e3e7025d2"
      },
      "outputs": [
        {
          "output_type": "stream",
          "name": "stdout",
          "text": [
            "Введите команду: q\n",
            "Завершение работы\n"
          ]
        }
      ],
      "source": [
        "while True:\n",
        "    comanda = input('Введите команду: ')\n",
        "    if comanda in ['p', 's', 'l', 'as', 'ds', 'ad', 'd', 'm', 'q']:\n",
        "        if comanda == 'q':\n",
        "            print('Завершение работы')\n",
        "            break\n",
        "        else:\n",
        "            ex1(comanda)() # Вот словарь функций и пригодился\n",
        "    else:\n",
        "        print('Неизвестная команда')"
      ]
    },
    {
      "cell_type": "code",
      "execution_count": null,
      "metadata": {
        "id": "n0JZGFOJYtiO"
      },
      "outputs": [],
      "source": []
    }
  ],
  "metadata": {
    "colab": {
      "collapsed_sections": [],
      "provenance": []
    },
    "kernelspec": {
      "display_name": "Python 3",
      "name": "python3"
    },
    "language_info": {
      "name": "python"
    }
  },
  "nbformat": 4,
  "nbformat_minor": 0
}