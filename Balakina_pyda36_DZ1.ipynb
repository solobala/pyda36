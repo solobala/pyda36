{
  "nbformat": 4,
  "nbformat_minor": 0,
  "metadata": {
    "colab": {
      "provenance": [],
      "collapsed_sections": []
    },
    "kernelspec": {
      "name": "python3",
      "display_name": "Python 3"
    },
    "language_info": {
      "name": "python"
    }
  },
  "cells": [
    {
      "cell_type": "markdown",
      "source": [
        "# **Домашнее задание к лекции \"Основы Python\"**"
      ],
      "metadata": {
        "id": "fio8-yevUvyM"
      }
    },
    {
      "cell_type": "markdown",
      "source": [
        "# Задание 1. \n",
        "Даны 2 переменных, в которых хранятся строки произвольной длины: phrase_1 и phrase_2.\n",
        "Напишите код, который проверяет какая из этих строк длиннее.\n",
        "\n",
        "Примеры работы программы:\n",
        "\n",
        "phrase_1 = 'Насколько проще было бы писать программы, если бы не заказчики'\n",
        "phrase_2 = '640Кб должно хватить для любых задач. Билл Гейтс (по легенде)'\n",
        "Результат:\n",
        "Фраза 1 длиннее фразы 2\n",
        "\n"
      ],
      "metadata": {
        "id": "Bc78hBQpUybE"
      }
    },
    {
      "cell_type": "code",
      "execution_count": null,
      "metadata": {
        "colab": {
          "base_uri": "https://localhost:8080/"
        },
        "id": "rApbcItBUmDZ",
        "outputId": "36b045c5-e66c-4710-9a93-2e1ddcb5b2b7"
      },
      "outputs": [
        {
          "output_type": "stream",
          "name": "stdout",
          "text": [
            "Насколько проще было бы писать программы, если бы не заказчики\n",
            "Насколько проще было бы писать программы, если бы не заказчики\n",
            "Фразы равной длины\n"
          ]
        }
      ],
      "source": [
        "phrase_1, phrase_2 = input(), input()\n",
        "l1,l2 = len(phrase_1), len(phrase_2)\n",
        "if l1> l2:\n",
        "  print('Фраза 1 длиннее фразы 2')\n",
        "elif l1<l2:\n",
        "  print('Фраза 2 длиннее фразы 1')\n",
        "else:\n",
        "  print('Фразы равной длины')"
      ]
    },
    {
      "cell_type": "markdown",
      "source": [],
      "metadata": {
        "id": "lK61O5CiUm9T"
      }
    },
    {
      "cell_type": "markdown",
      "source": [
        "# Задание 2\n",
        "Дана переменная, в которой хранится число (год). Необходимо написать программу, которая выведет, является ли данный год високосным или обычным.\n",
        "\n",
        "Пример работы программы:\n",
        "\n",
        "year = 2020\n",
        "Результат:\n",
        "Високосный год\n",
        "\n",
        "year = 2019\n",
        "Результат:\n",
        "Обычный год"
      ],
      "metadata": {
        "id": "iJmMIn0fWunZ"
      }
    },
    {
      "cell_type": "code",
      "source": [
        "year=int(input())\n",
        "\"\"\"\n",
        "if (year % 100 == 0 and year % 400 != 0) or year %4 !=0:\n",
        "  print('Обычный год')\n",
        "elif year % 4 == 0:\n",
        "  print('Високосный год')\n",
        "\"\"\"\n",
        "print(('Високосный год','Обычный год') [any([(year % 400!= 0) and(year % 100 == 0),(year % 4 != 0)])])"
      ],
      "metadata": {
        "colab": {
          "base_uri": "https://localhost:8080/"
        },
        "id": "rVxnh3coXAxk",
        "outputId": "e23fc320-035f-4340-b42f-8d82ade5ff6b"
      },
      "execution_count": null,
      "outputs": [
        {
          "output_type": "stream",
          "name": "stdout",
          "text": [
            "2000\n",
            "Високосный год\n"
          ]
        }
      ]
    },
    {
      "cell_type": "markdown",
      "source": [
        "# Задание 3\n",
        "Необходимо написать программу, которая будет запрашивать у пользователя месяц и дату рождения и выводить соответствующий знак зодиака."
      ],
      "metadata": {
        "id": "1-Pl_5kpZcWh"
      }
    },
    {
      "cell_type": "code",
      "source": [
        "from datetime import date\n",
        "monthes=['январь', 'февраль', 'март', 'апрель', 'май', 'июнь', 'июль', 'август', 'сентябрь', 'октябрь', 'ноябрь', 'декабрь']\n",
        "month_borders=[[12,1],[1,2],[2,3], [3,4],[4,5],[5,6],[6,7],[7,8],[8,9],[9,10],[10,11],[11,12]]\n",
        "day_borders=[[22,20],[21,18],[19,20],[21,20],[21,21],[22,21],[22,22],[23,23],[24,22],[23,23],[24,22],[23,21]]\n",
        "zodiac=['Козерог', 'Водолей', 'Рыбы','Овен', 'Телец', 'Близнецы', 'Рак', 'Лев', 'Дева', 'Весы','Скорпион', 'Стрелец']\n",
        "my_day = int(input('Введите день: '))\n",
        "my_month = monthes.index(input('Введите месяц: ').lower())\n",
        "for _ in range(12):\n",
        "    date_min = date(2022, month_borders[_][0], day_borders[_][0])\n",
        "    date_max = date(2022, month_borders[_][1], day_borders[_][1])\n",
        "    my_date = date(2022, my_month, my_day)\n",
        "    if date_min <= my_date <= date_max:\n",
        "        print('Ваш знак зодиака:', zodiac[_+1])"
      ],
      "metadata": {
        "colab": {
          "base_uri": "https://localhost:8080/"
        },
        "id": "fu-qiqGKZlvT",
        "outputId": "3dc2c6db-3313-4077-c6d7-7c81f585d0a1"
      },
      "execution_count": null,
      "outputs": [
        {
          "output_type": "stream",
          "name": "stdout",
          "text": [
            "Введите день: 18\n",
            "Введите месяц: сентябрь\n",
            "Ваш знак зодиака: Дева\n"
          ]
        }
      ]
    },
    {
      "cell_type": "markdown",
      "source": [
        "# Задание 4\n",
        "Вам нужно написать программу для подбора упаковок по размерам товара. Размеры (ширина, длина, высота) хранятся в переменных (в сантиметрах):\n",
        "\n",
        "Используйте следующие правила:\n",
        "\n",
        "если каждое из трех измерений менее или равно 15 сантиметрам, то выведите на экран \"Коробка №1\";\n",
        "если хотя бы одно из измерений больше 15 сантиметров, но менее 50 сантиметров, то выводите \"Коробка №2\";\n",
        "если длина товара больше 2 метров, то выводите \"Упаковка для лыж\";\n",
        "во всех остальных случаях выводите \"Стандартная коробка №3\"."
      ],
      "metadata": {
        "id": "0l-rztvFm0Rf"
      }
    },
    {
      "cell_type": "code",
      "source": [
        "width, length, high = int(input()), int(input()),int(input())\n",
        "if length >200:\n",
        "  print('Упаковка для лыж')\n",
        "elif 15 < width < 50 or 15 < length <50 or 15 < high < 50:\n",
        "  print('Коробка №2')\n",
        "elif width <=15 and length <=15 and high <=15:\n",
        "  print('Коробка №1')\n",
        "else:\n",
        "  print('Стандартная коробка №3')"
      ],
      "metadata": {
        "colab": {
          "base_uri": "https://localhost:8080/"
        },
        "id": "_D26w_AMm-S7",
        "outputId": "2413f216-6118-4207-f2e0-709d1f9415d7"
      },
      "execution_count": null,
      "outputs": [
        {
          "output_type": "stream",
          "name": "stdout",
          "text": [
            "45\n",
            "205\n",
            "45\n",
            "Упаковка для лыж\n"
          ]
        }
      ]
    },
    {
      "cell_type": "markdown",
      "source": [
        "# Задание 5 (необязательное)\n",
        "Дана переменная, в которой хранится шестизначное число (номер проездного билета). Напишите программу, которая будет определять, является ли данный билет \"счастливым\". Билет считается счастливым, если сумма первых трех цифр совпадает с суммой последних трех цифр номера."
      ],
      "metadata": {
        "id": "6bwTSl_6oQYp"
      }
    },
    {
      "cell_type": "code",
      "source": [
        "\"\"\"\n",
        "number=input()\n",
        "if(int(number[5])+int(number[4])+int(number[3]))==(int(number[2])+int(number[1])+int(number[0])):\n",
        "  print('Счастливый билет')\n",
        "else:\n",
        "  print('Несчастливый билет')\n",
        "\"\"\"\n",
        "number = int(input())\n",
        "\"\"\"\n",
        "sum_first, sum_last=[0,0]\n",
        "while number >999:\n",
        "  sum_last += number % 10\n",
        "  number //=10\n",
        "while number !=0:\n",
        "  sum_first +=number % 10\n",
        "  number //=10\n",
        "\"\"\"\n",
        "#print(('Несчастливый билет','Счастливый билет' )[sum([number % 10,number//10 %10,number //100 %10]) == sum([number//1000 % 10,number//10000 %10,number //100000 %10])])\n",
        "\n",
        "#print(('Несчастливый билет','Счастливый билет' )[sum([number//10**i % 10 for i in range(3)]) == sum([number//10**i % 10 for i in range(3,6)])])\n",
        "print('Счастливый билет' if (sum([number//10**i % 10 for i in range(3)]) == sum([number//10**i % 10 for i in range(3,6)])) else 'Несчастливый билет' )"
      ],
      "metadata": {
        "colab": {
          "base_uri": "https://localhost:8080/"
        },
        "id": "gYNgInvWoWz9",
        "outputId": "169d70a1-b80a-41d0-d70d-99e432221985"
      },
      "execution_count": null,
      "outputs": [
        {
          "output_type": "stream",
          "name": "stdout",
          "text": [
            "123456\n",
            "Несчастливый билет\n"
          ]
        }
      ]
    },
    {
      "cell_type": "markdown",
      "source": [
        "# Задание 6 (необязательное)\n",
        "Напишите программу, которая сможет вычислять площади трех фигур (круг, треугольник и прямоугольник). Тип фигуры запрашиваем через пользовательский ввод, после чего делаем запрос характеристик фигуры:\n",
        "\n",
        "если пользователь выбрал круг, запрашиваем его радиус,\n",
        "если треугольник – длины трех его сторон;\n",
        "если прямоугольник – длины двух его сторон."
      ],
      "metadata": {
        "id": "i86CCuA8q9Z7"
      }
    },
    {
      "cell_type": "code",
      "source": [
        "my_choice=input('Введите тип фигуры: ').lower()\n",
        "variants =['круг', 'прямоугольник', 'треугольник']\n",
        "if my_choice == variants[0]:\n",
        "  from math import pi\n",
        "  r=int(input('Введите радиус: '))\n",
        "  print('Площадь круга:', round(pi*r**2,2))\n",
        "elif my_choice == variants[1]:\n",
        "  a,b = int(input('Введите длину стороны A:')), int(input('Введите длину стороны B:'))\n",
        "  print('Площадь прямоугольника:', a*b)\n",
        "elif my_choice == variants[2]:\n",
        "  a,b,c =  int(input('Введите длину стороны A:')), int(input('Введите длину стороны B:')), int(input('Введите длину стороны С:'))\n",
        "  from math import sqrt\n",
        "  p=(a+b+c)/2\n",
        "  print('Площадь треугольника:', round(sqrt(p*(p-a)*(p-b)*(p-c)),2))\n",
        "else:\n",
        "  print('Ошибка ввода')"
      ],
      "metadata": {
        "colab": {
          "base_uri": "https://localhost:8080/"
        },
        "id": "4HrAStJprG5b",
        "outputId": "0f4ce150-2071-4851-8854-c268b5788d07"
      },
      "execution_count": null,
      "outputs": [
        {
          "output_type": "stream",
          "name": "stdout",
          "text": [
            "Введите тип фигуры: треугольник\n",
            "Введите длину стороны A:2\n",
            "Введите длину стороны B:2\n",
            "Введите длину стороны С:3\n",
            "Площадь треугольника: 1.98\n"
          ]
        }
      ]
    }
  ]
}