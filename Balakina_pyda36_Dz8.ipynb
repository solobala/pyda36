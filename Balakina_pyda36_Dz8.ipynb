{
  "nbformat": 4,
  "nbformat_minor": 0,
  "metadata": {
    "colab": {
      "provenance": [],
      "collapsed_sections": [],
      "authorship_tag": "ABX9TyOynzrnm2MAPwIvQ6Zq3rsW",
      "include_colab_link": true
    },
    "kernelspec": {
      "name": "python3",
      "display_name": "Python 3"
    },
    "language_info": {
      "name": "python"
    }
  },
  "cells": [
    {
      "cell_type": "markdown",
      "metadata": {
        "id": "view-in-github",
        "colab_type": "text"
      },
      "source": [
        "<a href=\"https://colab.research.google.com/github/solobala/pyda36/blob/main/Balakina_pyda36_Dz8.ipynb\" target=\"_parent\"><img src=\"https://colab.research.google.com/assets/colab-badge.svg\" alt=\"Open In Colab\"/></a>"
      ]
    },
    {
      "cell_type": "markdown",
      "source": [
        "# Домашнее задание к лекции \"Регулярные выражения и основы синтаксического разбора\""
      ],
      "metadata": {
        "id": "jOGcAlJFFMuV"
      }
    },
    {
      "cell_type": "markdown",
      "source": [
        "# Задание 1\n",
        "Напишите функцию, которая принимает на вход строку и проверяет является ли она валидным транспортным номером (1 буква, 3 цифры, 2 буквы, 2-3 цифры). Обратите внимание, что не все буквы кириллического алфавита используются в транспортных номерах.\n",
        "\n",
        "Если номер валиден, то функция должна возвращать отдельно номер и регион.\n",
        "\n",
        "Примеры работы программы:\n",
        "\n",
        "car_id = 'A222BC96’\n",
        "Результат: Номер A222BС валиден. Регион: 96\n",
        "\n",
        "car_id = 'АБ22ВВ193’\n",
        "Результат: Номер не валиден"
      ],
      "metadata": {
        "id": "AOzHfaW1FR7f"
      }
    },
    {
      "cell_type": "code",
      "source": [
        "import re"
      ],
      "metadata": {
        "id": "ZFFJ9jzWFlWO"
      },
      "execution_count": 3,
      "outputs": []
    },
    {
      "cell_type": "code",
      "execution_count": null,
      "metadata": {
        "id": "3wb92QmdE_uv"
      },
      "outputs": [],
      "source": [
        "def is_car_number_valid(car_id):\n",
        "    '''\n",
        "    принимает на вход строку и проверяет является ли она валидным \n",
        "    транспортным номером (1 буква, 3 цифры, 2 буквы, 2-3 цифры)\n",
        "    '''\n",
        "    # вариант 1 - с re.findall() и без скобочных групп. Регион вытаскиваем с помощью среза result[0][6:]\n",
        "\n",
        "    car_number_template = r'[АВЕКМНОРСТУХ]{1}\\d{3}[АВЕКМНОРСТУХ]{2}\\d{2,3}'\n",
        "    result = re.findall(car_number_template,car_id)\n",
        "    print(f'Результат: Номер {car_id} валиден. Регион: {result[0][6:]}' if(result) else 'Результат: Номер не валиден')\n",
        "\n",
        "    # вариант 2 - c Использованием re.search() и cкобочных групп\n",
        "\n",
        "    car_number_template = r'([АВЕКМНОРСТУХ]{1})(\\d{3})([АВЕКМНОРСТУХ]{2})(\\d{2,3})'\n",
        "    result = re.search(car_number_template,car_id)\n",
        "    print(f'Результат: Номер {car_id} валиден. Регион: {result.group(4)}' if(result) else 'Результат: Номер не валиден')"
      ]
    },
    {
      "cell_type": "code",
      "source": [
        "car_id =   'А222ВС96'\n",
        "is_car_number_valid(car_id)"
      ],
      "metadata": {
        "colab": {
          "base_uri": "https://localhost:8080/"
        },
        "id": "5Qbfc6BvI9pZ",
        "outputId": "d353dd2f-d892-4916-ab72-6805d2e00918"
      },
      "execution_count": null,
      "outputs": [
        {
          "output_type": "stream",
          "name": "stdout",
          "text": [
            "Результат: Номер А222ВС96 валиден. Регион: 96\n",
            "Результат: Номер А222ВС96 валиден. Регион: 96\n"
          ]
        }
      ]
    },
    {
      "cell_type": "markdown",
      "source": [
        "# Задание 2\n",
        "Напишите функцию, которая будет удалять все последовательные повторы слов из заданной строки при помощи регулярных выражений.\n",
        "\n",
        "Пример работы программы:\n",
        "\n",
        "some_string = ‘Напишите функцию функцию, которая будет будет будет будет удалять все все все все последовательные повторы слов из из из из заданной строки строки при помощи регулярных выражений.’\n",
        "\n",
        "Результат:\n",
        "Напишите функцию, которая будет удалять все последовательные повторы слов из заданной строки при помощи регулярных выражений."
      ],
      "metadata": {
        "id": "HiX1TbYbQny9"
      }
    },
    {
      "cell_type": "code",
      "source": [
        "def del_repeats(my_string):\n",
        "  '''\n",
        "  удаляет все последовательные повторы слов из заданной строки \n",
        "  при помощи регулярных выражений\n",
        "  '''\n",
        "  what_to_replace = re.compile(r\"\"\"\n",
        "     \\b                    #  Начало последовательности \n",
        "    ([\\w\\d]+)              #  группа 1 - не менее 1 раза буква или цифра - \n",
        "                           #  текущее слово, первое среди возможных повторов,\n",
        "    (\\s+\\1)+               #  группа 2 - состоит из хотя бы 1 пробельного \n",
        "                           #  символа и  группы 1 (повторы)\n",
        "    \\b                     #  Конец последовательности\"\"\", re.X)\n",
        "                    \n",
        "  \n",
        "  how_to_replace = r'\\1'   #  ссылка на скобочную группу 1 - для замены всех \n",
        "                           #  повторяющихся слов на первое из них\n",
        "\n",
        "  print(re.sub( what_to_replace, how_to_replace, my_string ))\n",
        "  #print( re.sub(r'\\b([^\\W\\d_]+)(\\s+\\1)+\\b', r'\\1', re.sub(r'\\W+', ' ', my_string).strip(), flags=re.I)) #  выражение нашла в Инете, достала из него то, что реально нужно для задачи\n",
        " "
      ],
      "metadata": {
        "id": "CyoJcHG6R8LG"
      },
      "execution_count": null,
      "outputs": []
    },
    {
      "cell_type": "code",
      "source": [
        "some_string = 'Напишите функцию функцию, которая будет будет будет будет удалять все все все все последовательные повторы слов из из из из заданной строки строки при помощи регулярных выражений.'\n",
        "result = del_repeats(some_string)"
      ],
      "metadata": {
        "colab": {
          "base_uri": "https://localhost:8080/"
        },
        "id": "svsmLv4pU952",
        "outputId": "397c7e2d-724a-4bfd-d1e9-795910022d94"
      },
      "execution_count": null,
      "outputs": [
        {
          "output_type": "stream",
          "name": "stdout",
          "text": [
            "Напишите функцию, которая будет удалять все последовательные повторы слов из заданной строки при помощи регулярных выражений.\n"
          ]
        }
      ]
    },
    {
      "cell_type": "markdown",
      "source": [
        "# Задание 3\n",
        "Напишите функцию, которая будет возвращать акроним по переданной в нее строке со словами.\n",
        "\n",
        "Примеры работы программы:\n",
        "\n",
        "some_words = 'Информационные технологии’\n",
        "Результат: ИТ\n",
        "\n",
        "some_words = 'Near Field Communication’\n",
        "Результат: NFC"
      ],
      "metadata": {
        "id": "_IDqbs-mn1vw"
      }
    },
    {
      "cell_type": "code",
      "source": [
        "def acronim(some_words):\n",
        "  '''\n",
        "  возвращает акроним по переданной в нее строке со словами\n",
        "  re.findall(r'\\w+', some_words) #  достаем отдельные слова из строки\n",
        "  \n",
        "  '''\n",
        "  # вариант1 \n",
        "  result =''.join(x[:1].upper() for x in re.findall(r'\\w+', some_words)) # разбили на слова с помощью регулярок, взяли 1 букву с помощью срезов, сшили все в строку и преобразовали в верхний регистр\n",
        "  print(f'Результат: {result}')\n",
        "\n",
        "  # вариант 2\n",
        "  result = ''.join(sum(list( re.findall(r'^[A-Za-zА-ЯЁа-яё]?',x) for x in  re.findall(r'\\w+', some_words)),[])).upper() # все предыдущее + превращаем список в строку\n",
        "  print(f'Результат: {result}')\n",
        "  \n",
        "  # Вариант 3\n",
        "  result = ''.join(re.findall(r'\\b\\w{1}', some_words)).upper() # разбили на слова , взяли 1 буквус помощью регулярок, сшили все в строку и преобразовали в верхний регистр\n",
        "  print(f'Результат: {result}')\n",
        "\n",
        "  # вариант 4 от Булыгина\n",
        "  result = re.sub(r\"(\\w)\\w+\\s?\", r\"\\1\", some_words).upper()\n",
        "  print(f'Результат: {result}')"
      ],
      "metadata": {
        "id": "lkjwfxzXn6nF"
      },
      "execution_count": 6,
      "outputs": []
    },
    {
      "cell_type": "code",
      "source": [
        "some_words = 'Информационные технологии'\n",
        "acronim(some_words)\n"
      ],
      "metadata": {
        "colab": {
          "base_uri": "https://localhost:8080/"
        },
        "id": "U9nFE39FofVr",
        "outputId": "fab0a455-b1b8-4345-906c-dff715658243"
      },
      "execution_count": 7,
      "outputs": [
        {
          "output_type": "stream",
          "name": "stdout",
          "text": [
            "Результат: ИТ\n",
            "Результат: ИТ\n",
            "Результат: ИТ\n",
            "Результат: ИТ\n"
          ]
        }
      ]
    },
    {
      "cell_type": "markdown",
      "source": [
        "# Задание 4\n",
        "Напишите функцию, которая будет принимать на вход список email-адресов и выводить их распределение по доменным зонам.\n",
        "\n",
        "Пример работы программы:\n",
        "\n",
        "emails = [‘test@gmail.com’, ‘xyz@test.in’, ‘test@ya.ru’, ‘xyz@mail.ru’, ‘xyz@ya.ru’, ‘xyz@gmail.com’]\n",
        "\n",
        "Результат:\n",
        "\n",
        "gmail.com: 2\n",
        "test.in: 1\n",
        "ya.ru: 2\n",
        "mail.ru: 1"
      ],
      "metadata": {
        "id": "xV7_zvE98CxF"
      }
    },
    {
      "cell_type": "code",
      "source": [
        "def email_by_domains(emails):\n",
        "  '''\n",
        "  принимает на вход список email-адресов и выводит их распределение по доменным зонам\n",
        "  '''\n",
        "  domains = re.findall(r'(?<=@)\\w+\\.\\w{2,3}', ' '.join(x for x in emails)) # список всех доменов\n",
        "  result = dict(zip(domains,[domains.count(i) for i in domains])) # словарь, где ключ - домен, значение - кол-во email в этом домене\n",
        "  \n",
        "  print('Результат:')\n",
        "  print(' '.join([f'{key}: {value}' for key, value in result.items()])) # сшиваем словарьв  строку\n"
      ],
      "metadata": {
        "id": "a3C5G-FR8Gyi"
      },
      "execution_count": null,
      "outputs": []
    },
    {
      "cell_type": "code",
      "source": [
        "emails = ['test@gmail.com', 'xyz@test.in', 'test@ya.ru', 'xyz@mail.ru', 'xyz@ya.ru', 'xyz@gmail.com']\n",
        "email_by_domains(emails)"
      ],
      "metadata": {
        "colab": {
          "base_uri": "https://localhost:8080/"
        },
        "id": "bspmTWPa8p2X",
        "outputId": "829ce7f6-2974-4f9f-cfca-06efdddf838d"
      },
      "execution_count": null,
      "outputs": [
        {
          "output_type": "stream",
          "name": "stdout",
          "text": [
            "Результат:\n",
            "gmail.com: 2 test.in: 1 ya.ru: 2 mail.ru: 1\n"
          ]
        }
      ]
    },
    {
      "cell_type": "markdown",
      "source": [
        "# Задание 5 (необязательное)\n",
        "\n",
        "Напишите функцию, которая будет подсчитывать сколько слов начинается на гласные, а сколько на согласные буквы в тексте (текст может быть написан как с использованием букв кириллицы, так и латиницы).\n",
        "\n",
        "Пример работы программы:\n",
        "\n",
        "some_text = ‘Эталонной реализацией Python является интерпретатор CPython, поддерживающий большинство активно используемых платформ. Он распространяется под свободной лицензией Python Software Foundation License, позволяющей использовать его без ограничений в любых приложениях, включая проприетарные.’\n",
        "\n",
        "Результат:\n",
        "\n",
        "Слов на гласные буквы: 9\n",
        "Слов на согласные буквы: 21"
      ],
      "metadata": {
        "id": "mlBxrQCDEiuz"
      }
    },
    {
      "cell_type": "code",
      "source": [
        "def vowels_consonants(some_text):\n",
        "  '''\n",
        "  подсчитывает, сколько слов начинается на гласные, \n",
        "  а сколько на согласные буквы в тексте \n",
        "  (текст может быть написан как с использованием букв кириллицы, так и латиницы).\n",
        "  '''\n",
        "  my_list = re.findall(r'\\w+', some_text)\n",
        "\n",
        "  begins_v = re.findall(r'\\b[АЯУЮОЁЭЕЫИаяуюоёэеыиAEUIOaeuio]\\w+', some_text)\n",
        "  count_v = len(begins_v)\n",
        "\n",
        "  begins_c = re.findall(r'\\b[^АЯУЮОЁЭЕЫИфяуюоёэеыиAEUIOaeuio\\s]\\w+', some_text)\n",
        "  count_c = len(begins_c)\n",
        "  \n",
        "  if count_v + count_c == len(my_list):\n",
        "    print('Результат')\n",
        "    print(f'Слов на гласные буквы: {count_v} Слов на согласные буквы: {count_c}')"
      ],
      "metadata": {
        "id": "3hSko5tkEewU"
      },
      "execution_count": null,
      "outputs": []
    },
    {
      "cell_type": "code",
      "source": [
        "some_text = 'Эталонной реализацией Python является интерпретатор CPython, \\\n",
        "поддерживающий большинство активно используемых платформ. Он распространяется \\\n",
        "под свободной лицензией Python Software Foundation License, позволяющей \\\n",
        "использовать его без ограничений в любых приложениях, включая проприетарные.'\n",
        "vowels_consonants(some_text)"
      ],
      "metadata": {
        "colab": {
          "base_uri": "https://localhost:8080/"
        },
        "id": "5tX79GcRFId6",
        "outputId": "771d3b90-f22f-44c2-b2d1-959bd489ffbb"
      },
      "execution_count": null,
      "outputs": [
        {
          "output_type": "stream",
          "name": "stdout",
          "text": [
            "Результат\n",
            "Слов на гласные буквы: 9 Слов на согласные буквы: 21\n"
          ]
        }
      ]
    },
    {
      "cell_type": "markdown",
      "source": [
        "# Задание 6 (необязательное)\n",
        "\n",
        "Напишите функцию, которая будет проверять номер сотового телефона на валидность (только для российского формата), если он валиден, то переводить его в формат:\n",
        "+7-xxx-xxx-xx-xx\n",
        "Постарайтесь предусмотреть как можно больше адекватных форматов изначального ввода номера. Примеры работы программы:\n",
        "\n",
        "phone = '+7 955 555-55-55’\n",
        "Результат: +7-955-555-55-55\n",
        "\n",
        "phone = '8(955)555-55-55’\n",
        "Результат: +7-955-555-55-55\n",
        "\n",
        "phone = '+7 955 555 55 55’\n",
        "Результат: +7-955-555-55-55\n",
        "\n",
        "phone = '7(955) 555-55-55’\n",
        "Результат: +7-955-555-55-55\n",
        "\n",
        "phone = '423-555-55-5555’\n",
        "Результат: Номер не валиден\n",
        "\n",
        "phone = '123-456-789’\n",
        "Результат: Номер не валиден"
      ],
      "metadata": {
        "id": "nowBp3bTjSgZ"
      }
    },
    {
      "cell_type": "code",
      "source": [
        "def is_phone_valid(phone):\n",
        "  '''\n",
        "  проверяет номер сотового телефона на валидность \n",
        "  (только для российского формата), если он валиден, \n",
        "  то переводит его в формат: +7-xxx-xxx-xx-xx\n",
        "  '''\n",
        "  pattern = r'(?:\\+?7|8).*?(\\d{2,3}).*?(\\d{2,3}).*?(\\d{2}).*?(\\d{2})'\n",
        "\n",
        "  pattern = re.compile(r\"\"\"\n",
        "  (?:\\+?7|8)    # Non-capturing группа, в которой м.б. не более 1 плюса и 7 или 8\n",
        "  .*?           # Разделитель - любой символ, которого м.б от 0 до бесконечности\n",
        "  (\\d{2,3})     # Группа 1 из 2 или 3 цифр\n",
        "  .*?           # Разделитель - любой символ, которого м.б от 0 до бесконечности\n",
        "  (\\d{2,3})     # Группа 2 из 2 или 3 цифр\n",
        "  .*?           # Разделитель - любой символ, которого м.б от 0 до бесконечности\n",
        "  (\\d{2})       # Группа 3 из 2 цифр\n",
        "  .*?           # Разделитель - любой символ, которого м.б от 0 до бесконечности\n",
        "  (\\d{2})       # Группа 4 из 2 цифр\"\"\",re.X)\n",
        "  \n",
        "  new_pattern = r'+7-\\1-\\2-\\3-\\4'\n",
        "  print('Результат:'+ re.sub(pattern, new_pattern, phone) if re.search(pattern, phone) else 'Результат: Номер не валиден')\n",
        "  "
      ],
      "metadata": {
        "id": "Ya-EXLOyjaym"
      },
      "execution_count": null,
      "outputs": []
    },
    {
      "cell_type": "code",
      "source": [
        "phone_list = [\n",
        "    '+7 955 555-55-55',\n",
        "    '8(955)555-55-55',\n",
        "    '+7 955 555 55 55',\n",
        "    '7(955) 555-55-55',\n",
        "    '79555555555',\n",
        "    '89555555555',\n",
        "    '+79555555555',\n",
        "    '+7(955) 555 55 55',\n",
        "    '+7(955)5555555',\n",
        "    '423-555-55-5555',\n",
        "    '123-456-789'\n",
        "    ]\n",
        "for phone in phone_list:\n",
        "  is_phone_valid(phone)"
      ],
      "metadata": {
        "colab": {
          "base_uri": "https://localhost:8080/"
        },
        "id": "T7NS41YbssSu",
        "outputId": "109ef07d-f8ec-4dc9-dcbf-99e4cab94e9c"
      },
      "execution_count": null,
      "outputs": [
        {
          "output_type": "stream",
          "name": "stdout",
          "text": [
            "Результат:+7-955-555-55-55\n",
            "Результат:+7-955-555-55-55\n",
            "Результат:+7-955-555-55-55\n",
            "Результат:+7-955-555-55-55\n",
            "Результат:+7-955-555-55-55\n",
            "Результат:+7-955-555-55-55\n",
            "Результат:+7-955-555-55-55\n",
            "Результат:+7-955-555-55-55\n",
            "Результат:+7-955-555-55-55\n",
            "Результат: Номер не валиден\n",
            "Результат: Номер не валиден\n"
          ]
        }
      ]
    }
  ]
}