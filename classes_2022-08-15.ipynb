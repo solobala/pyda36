{
 "cells": [
  {
   "cell_type": "markdown",
   "metadata": {},
   "source": [
    "# Практика"
   ]
  },
  {
   "cell_type": "markdown",
   "metadata": {},
   "source": [
    "### никогда не используйте глобальные переменные"
   ]
  },
  {
   "cell_type": "code",
   "execution_count": null,
   "metadata": {},
   "outputs": [],
   "source": [
    "finance_libs.py"
   ]
  },
  {
   "cell_type": "code",
   "execution_count": null,
   "metadata": {},
   "outputs": [],
   "source": [
    "from finance_libs import AnyClass"
   ]
  },
  {
   "cell_type": "code",
   "execution_count": null,
   "metadata": {},
   "outputs": [],
   "source": [
    "import urllib\n",
    "\n",
    "def useful_function(a, b, c):\n",
    "    return a**2 + b**2 + c**2"
   ]
  },
  {
   "cell_type": "code",
   "execution_count": 52,
   "metadata": {},
   "outputs": [],
   "source": [
    "class AnyClass:\n",
    "    \"\"\"Что происходит\"\"\"\n",
    "    bank = 'Сбер'\n",
    "    \n",
    "    def __init__(self, currency='BLR'):\n",
    "        print('Выполняется при обращении к классу')\n",
    "        self.currency = currency\n",
    "        \n",
    "        # приватные атрибуты\n",
    "        self._api_version = 'v1'\n",
    "        self.__private = 'secret'\n",
    "           \n",
    "    def method_1(self):\n",
    "        self.currency = 'RUB'\n",
    "        \n",
    "    def method_2(self):\n",
    "        print(self.currency, self.__private)\n",
    "        \n",
    "    @staticmethod\n",
    "    def useful_function(a, b, c):\n",
    "        return a**2 + b**2 + c**2\n",
    "    \n",
    "    @property\n",
    "    def currency_with_vat(self):\n",
    "        return str(self.currency) + ' 20%'"
   ]
  },
  {
   "cell_type": "code",
   "execution_count": 53,
   "metadata": {},
   "outputs": [
    {
     "name": "stdout",
     "output_type": "stream",
     "text": [
      "Выполняется при обращении к классу\n"
     ]
    }
   ],
   "source": [
    "a = AnyClass()"
   ]
  },
  {
   "cell_type": "code",
   "execution_count": 54,
   "metadata": {},
   "outputs": [
    {
     "data": {
      "text/plain": [
       "'BLR 20%'"
      ]
     },
     "execution_count": 54,
     "metadata": {},
     "output_type": "execute_result"
    }
   ],
   "source": [
    "a.currency_with_vat"
   ]
  },
  {
   "cell_type": "code",
   "execution_count": 51,
   "metadata": {},
   "outputs": [
    {
     "data": {
      "text/plain": [
       "14"
      ]
     },
     "execution_count": 51,
     "metadata": {},
     "output_type": "execute_result"
    }
   ],
   "source": [
    "a.useful_function(1, 2, 3)"
   ]
  },
  {
   "cell_type": "code",
   "execution_count": 46,
   "metadata": {},
   "outputs": [
    {
     "name": "stdout",
     "output_type": "stream",
     "text": [
      "BLR secret\n"
     ]
    }
   ],
   "source": [
    "a.method_2()"
   ]
  },
  {
   "cell_type": "code",
   "execution_count": 43,
   "metadata": {},
   "outputs": [
    {
     "ename": "AttributeError",
     "evalue": "'AnyClass' object has no attribute '__private'",
     "output_type": "error",
     "traceback": [
      "\u001b[0;31m---------------------------------------------------------------------------\u001b[0m",
      "\u001b[0;31mAttributeError\u001b[0m                            Traceback (most recent call last)",
      "\u001b[0;32m<ipython-input-43-b28c9c55e2c0>\u001b[0m in \u001b[0;36m<module>\u001b[0;34m\u001b[0m\n\u001b[0;32m----> 1\u001b[0;31m \u001b[0ma\u001b[0m\u001b[0;34m.\u001b[0m\u001b[0m__private\u001b[0m\u001b[0;34m\u001b[0m\u001b[0;34m\u001b[0m\u001b[0m\n\u001b[0m",
      "\u001b[0;31mAttributeError\u001b[0m: 'AnyClass' object has no attribute '__private'"
     ]
    }
   ],
   "source": [
    "a.__private"
   ]
  },
  {
   "cell_type": "code",
   "execution_count": 40,
   "metadata": {},
   "outputs": [
    {
     "data": {
      "text/plain": [
       "'v2'"
      ]
     },
     "execution_count": 40,
     "metadata": {},
     "output_type": "execute_result"
    }
   ],
   "source": [
    "a._api_version = 'v2'\n",
    "a._api_version"
   ]
  },
  {
   "cell_type": "code",
   "execution_count": 36,
   "metadata": {},
   "outputs": [
    {
     "data": {
      "text/plain": [
       "'Сбер'"
      ]
     },
     "execution_count": 36,
     "metadata": {},
     "output_type": "execute_result"
    }
   ],
   "source": [
    "a.bank"
   ]
  },
  {
   "cell_type": "code",
   "execution_count": 33,
   "metadata": {},
   "outputs": [
    {
     "data": {
      "text/plain": [
       "'BLR'"
      ]
     },
     "execution_count": 33,
     "metadata": {},
     "output_type": "execute_result"
    }
   ],
   "source": [
    "a.currency"
   ]
  },
  {
   "cell_type": "code",
   "execution_count": 23,
   "metadata": {},
   "outputs": [
    {
     "name": "stdout",
     "output_type": "stream",
     "text": [
      "USD\n"
     ]
    }
   ],
   "source": [
    "a.method_2()"
   ]
  },
  {
   "cell_type": "code",
   "execution_count": null,
   "metadata": {},
   "outputs": [],
   "source": []
  },
  {
   "cell_type": "code",
   "execution_count": 10,
   "metadata": {},
   "outputs": [],
   "source": [
    "a.method_1()"
   ]
  },
  {
   "cell_type": "code",
   "execution_count": 12,
   "metadata": {},
   "outputs": [
    {
     "data": {
      "text/plain": [
       "'EUR'"
      ]
     },
     "execution_count": 12,
     "metadata": {},
     "output_type": "execute_result"
    }
   ],
   "source": [
    "a.currency = 'EUR'\n",
    "a.currency"
   ]
  },
  {
   "cell_type": "code",
   "execution_count": 13,
   "metadata": {},
   "outputs": [
    {
     "name": "stdout",
     "output_type": "stream",
     "text": [
      "EUR\n"
     ]
    }
   ],
   "source": [
    "a.method_2()"
   ]
  },
  {
   "cell_type": "code",
   "execution_count": 15,
   "metadata": {},
   "outputs": [],
   "source": [
    "b = AnyClass()"
   ]
  },
  {
   "cell_type": "code",
   "execution_count": 17,
   "metadata": {},
   "outputs": [
    {
     "data": {
      "text/plain": [
       "False"
      ]
     },
     "execution_count": 17,
     "metadata": {},
     "output_type": "execute_result"
    }
   ],
   "source": [
    "id(a) == id(b)"
   ]
  },
  {
   "cell_type": "code",
   "execution_count": null,
   "metadata": {},
   "outputs": [],
   "source": []
  },
  {
   "cell_type": "code",
   "execution_count": null,
   "metadata": {},
   "outputs": [],
   "source": []
  },
  {
   "cell_type": "code",
   "execution_count": 5,
   "metadata": {},
   "outputs": [],
   "source": [
    "def func_1():\n",
    "    currency = 'RUB'\n",
    "    print(currency)\n",
    "    return currency, ...\n",
    "    \n",
    "def func_2(currency, ...):\n",
    "    print(currency)"
   ]
  },
  {
   "cell_type": "code",
   "execution_count": 6,
   "metadata": {},
   "outputs": [
    {
     "name": "stdout",
     "output_type": "stream",
     "text": [
      "RUB\n"
     ]
    },
    {
     "data": {
      "text/plain": [
       "'RUB'"
      ]
     },
     "execution_count": 6,
     "metadata": {},
     "output_type": "execute_result"
    }
   ],
   "source": [
    "result = func_1()\n",
    "result"
   ]
  },
  {
   "cell_type": "code",
   "execution_count": 7,
   "metadata": {},
   "outputs": [
    {
     "name": "stdout",
     "output_type": "stream",
     "text": [
      "RUB\n"
     ]
    }
   ],
   "source": [
    "func_2(result)"
   ]
  },
  {
   "cell_type": "code",
   "execution_count": null,
   "metadata": {},
   "outputs": [],
   "source": []
  },
  {
   "cell_type": "code",
   "execution_count": null,
   "metadata": {},
   "outputs": [],
   "source": []
  },
  {
   "cell_type": "code",
   "execution_count": null,
   "metadata": {},
   "outputs": [],
   "source": []
  },
  {
   "cell_type": "code",
   "execution_count": null,
   "metadata": {},
   "outputs": [],
   "source": []
  },
  {
   "cell_type": "code",
   "execution_count": null,
   "metadata": {},
   "outputs": [],
   "source": []
  },
  {
   "cell_type": "code",
   "execution_count": null,
   "metadata": {},
   "outputs": [],
   "source": []
  },
  {
   "cell_type": "code",
   "execution_count": null,
   "metadata": {},
   "outputs": [],
   "source": []
  },
  {
   "cell_type": "markdown",
   "metadata": {},
   "source": [
    "# Требования к отчету\n",
    "(в хронологическом порядке)\n",
    "\n",
    "1. Нужен отчет по трафику (визиты по дням)\n",
    "2. Сделайте таблицу попроще\n",
    "3. А можно сразу очень много строк получить?\n",
    "\n",
    "[Демо-счетчик](https://metrika.yandex.ru/stat/traffic?sort=-ym%3As%3Avisits&period=2020-08-01%3A2020-09-06&accuracy=1&id=44147844&stateHash=5d3ee51607d6bde783131e11) Яндекс.Метрики\n"
   ]
  },
  {
   "cell_type": "code",
   "execution_count": 55,
   "metadata": {},
   "outputs": [],
   "source": [
    "import requests"
   ]
  },
  {
   "cell_type": "code",
   "execution_count": 75,
   "metadata": {},
   "outputs": [],
   "source": [
    "API_URL = 'https://api-metrika.yandex.ru/stat/v1/data'\n",
    "METRIKA_ROWS_LIMIT = 5  # max 100000\n",
    "\n",
    "DEMO_COUNTER = 44147844"
   ]
  },
  {
   "cell_type": "code",
   "execution_count": 74,
   "metadata": {},
   "outputs": [],
   "source": [
    "class Metrika:\n",
    "    def __init__(self, token='', counter=DEMO_COUNTER, start_date='2020-09-01', end_date='2020-09-10'):\n",
    "        self.counter = counter\n",
    "        self.limit = METRIKA_ROWS_LIMIT\n",
    "        self.start_date = start_date\n",
    "        self.end_date = end_date\n",
    "        \n",
    "        if token:\n",
    "            self.headers = {'Authorization': 'OAuth ' + token}\n",
    "        else:\n",
    "            self.headers = ''  # для демо-счетчика заголовок запроса должен быть пустым\n",
    "        \n",
    "        self.dimensions = ''\n",
    "        self.metrics = ''\n",
    "        self.report = []\n",
    "        \n",
    "    def api_request(self, offset=1):\n",
    "        params = {\n",
    "            'id': self.counter,\n",
    "            'date1': self.start_date,\n",
    "            'date2': self.end_date,\n",
    "            'metrics': self.metrics,\n",
    "            'dimensions': self.dimensions,\n",
    "            'limit': self.limit,\n",
    "            'offset': offset,\n",
    "            'accuracy': 1,\n",
    "        }\n",
    "        \n",
    "        response = requests.get(API_URL, params=params, headers=self.headers)\n",
    "        return response.json()['data']\n",
    "    \n",
    "    def traffic(self):\n",
    "        self.metrics = 'ym:s:visits'\n",
    "        self.dimensions = 'ym:s:date'\n",
    "        \n",
    "#         report = self.api_request()\n",
    "        report = self.full_report()\n",
    "        self.report = report\n",
    "    \n",
    "    def browser(self):\n",
    "        self.metrics = 'ym:s:visits'\n",
    "        self.dimensions = 'ym:s:date,ym:s:browser'\n",
    "        \n",
    "#         report = self.api_request()\n",
    "        report = self.full_report()\n",
    "        self.report = report\n",
    "    \n",
    "    def reformat_api_report(self):\n",
    "        reformatted_report = []\n",
    "\n",
    "        for line in self.report:\n",
    "            dimensions = [x['name'] for x in line['dimensions']]\n",
    "            reformatted_report.append(dimensions + line['metrics'])\n",
    "\n",
    "        self.report = reformatted_report\n",
    "    \n",
    "    def full_report(self):\n",
    "        full_data = []\n",
    "        offset = 1\n",
    "        \n",
    "        while True:\n",
    "            print('Starting offset {}'.format(offset))\n",
    "            data = self.api_request(offset=offset)\n",
    "            full_data += data\n",
    "            \n",
    "            offset += self.limit\n",
    "            if not data or len(data) < self.limit:\n",
    "                break\n",
    "        \n",
    "        return full_data"
   ]
  },
  {
   "cell_type": "code",
   "execution_count": 76,
   "metadata": {},
   "outputs": [
    {
     "name": "stdout",
     "output_type": "stream",
     "text": [
      "Starting offset 1\n",
      "Starting offset 6\n",
      "Starting offset 11\n"
     ]
    }
   ],
   "source": [
    "m = Metrika()\n",
    "m.traffic()"
   ]
  },
  {
   "cell_type": "code",
   "execution_count": 77,
   "metadata": {},
   "outputs": [],
   "source": [
    "m.reformat_api_report()"
   ]
  },
  {
   "cell_type": "code",
   "execution_count": 78,
   "metadata": {},
   "outputs": [
    {
     "data": {
      "text/plain": [
       "[['2020-09-08', 530.0],\n",
       " ['2020-09-09', 526.0],\n",
       " ['2020-09-07', 511.0],\n",
       " ['2020-09-01', 505.0],\n",
       " ['2020-09-02', 505.0],\n",
       " ['2020-09-03', 504.0],\n",
       " ['2020-09-10', 480.0],\n",
       " ['2020-09-04', 438.0],\n",
       " ['2020-09-05', 302.0],\n",
       " ['2020-09-06', 297.0]]"
      ]
     },
     "execution_count": 78,
     "metadata": {},
     "output_type": "execute_result"
    }
   ],
   "source": [
    "m.report"
   ]
  },
  {
   "cell_type": "code",
   "execution_count": 79,
   "metadata": {},
   "outputs": [
    {
     "name": "stdout",
     "output_type": "stream",
     "text": [
      "Starting offset 1\n",
      "Starting offset 6\n",
      "Starting offset 11\n",
      "Starting offset 16\n",
      "Starting offset 21\n",
      "Starting offset 26\n",
      "Starting offset 31\n",
      "Starting offset 36\n",
      "Starting offset 41\n",
      "Starting offset 46\n",
      "Starting offset 51\n",
      "Starting offset 56\n",
      "Starting offset 61\n",
      "Starting offset 66\n",
      "Starting offset 71\n",
      "Starting offset 76\n",
      "Starting offset 81\n",
      "Starting offset 86\n",
      "Starting offset 91\n",
      "Starting offset 96\n",
      "Starting offset 101\n",
      "Starting offset 106\n",
      "Starting offset 111\n",
      "Starting offset 116\n",
      "Starting offset 121\n",
      "Starting offset 126\n",
      "Starting offset 131\n",
      "Starting offset 136\n",
      "Starting offset 141\n",
      "Starting offset 146\n",
      "Starting offset 151\n",
      "Starting offset 156\n",
      "Starting offset 161\n"
     ]
    },
    {
     "data": {
      "text/plain": [
       "[['2020-09-08', 'Google Chrome', 329.0],\n",
       " ['2020-09-09', 'Google Chrome', 318.0],\n",
       " ['2020-09-03', 'Google Chrome', 310.0],\n",
       " ['2020-09-07', 'Google Chrome', 299.0],\n",
       " ['2020-09-02', 'Google Chrome', 298.0],\n",
       " ['2020-09-10', 'Google Chrome', 295.0],\n",
       " ['2020-09-01', 'Google Chrome', 292.0],\n",
       " ['2020-09-04', 'Google Chrome', 256.0],\n",
       " ['2020-09-05', 'Google Chrome', 181.0],\n",
       " ['2020-09-06', 'Google Chrome', 164.0],\n",
       " ['2020-09-07', 'Яндекс.Браузер', 58.0],\n",
       " ['2020-09-01', 'Яндекс.Браузер', 53.0],\n",
       " ['2020-09-09', 'Яндекс.Браузер', 49.0],\n",
       " ['2020-09-08', 'Яндекс.Браузер', 48.0],\n",
       " ['2020-09-02', 'Firefox', 44.0],\n",
       " ['2020-09-08', 'Firefox', 44.0],\n",
       " ['2020-09-06', 'Chrome Mobile', 43.0],\n",
       " ['2020-09-01', 'Firefox', 42.0],\n",
       " ['2020-09-09', 'Firefox', 42.0],\n",
       " ['2020-09-03', 'Яндекс.Браузер', 41.0],\n",
       " ['2020-09-04', 'Firefox', 40.0],\n",
       " ['2020-09-08', 'Chrome Mobile', 40.0],\n",
       " ['2020-09-02', 'Яндекс.Браузер', 39.0],\n",
       " ['2020-09-10', 'Chrome Mobile', 39.0],\n",
       " ['2020-09-02', 'Chrome Mobile', 38.0],\n",
       " ['2020-09-07', 'Chrome Mobile', 38.0],\n",
       " ['2020-09-07', 'Firefox', 37.0],\n",
       " ['2020-09-03', 'Firefox', 36.0],\n",
       " ['2020-09-01', 'Safari', 35.0],\n",
       " ['2020-09-07', 'Safari', 35.0],\n",
       " ['2020-09-10', 'Firefox', 35.0],\n",
       " ['2020-09-10', 'Яндекс.Браузер', 34.0],\n",
       " ['2020-09-01', 'Chrome Mobile', 33.0],\n",
       " ['2020-09-04', 'Chrome Mobile', 33.0],\n",
       " ['2020-09-05', 'Chrome Mobile', 33.0],\n",
       " ['2020-09-04', 'Яндекс.Браузер', 32.0],\n",
       " ['2020-09-10', 'Safari', 32.0],\n",
       " ['2020-09-06', 'Firefox', 29.0],\n",
       " ['2020-09-09', 'Safari', 29.0],\n",
       " ['2020-09-03', 'Chrome Mobile', 28.0],\n",
       " ['2020-09-02', 'Safari', 23.0],\n",
       " ['2020-09-09', 'Chrome Mobile', 22.0],\n",
       " ['2020-09-03', 'Edge', 20.0],\n",
       " ['2020-09-05', 'Firefox', 20.0],\n",
       " ['2020-09-06', 'Яндекс.Браузер', 20.0],\n",
       " ['2020-09-08', 'Safari', 20.0],\n",
       " ['2020-09-03', 'Safari', 19.0],\n",
       " ['2020-09-04', 'Safari', 18.0],\n",
       " ['2020-09-02', 'Opera', 17.0],\n",
       " ['2020-09-05', 'Яндекс.Браузер', 17.0],\n",
       " ['2020-09-09', 'Mobile Safari', 17.0],\n",
       " ['2020-09-09', 'Edge', 17.0],\n",
       " ['2020-09-05', 'Safari', 16.0],\n",
       " ['2020-09-02', 'Edge', 15.0],\n",
       " ['2020-09-04', 'Edge', 15.0],\n",
       " ['2020-09-03', 'Opera', 14.0],\n",
       " ['2020-09-07', 'Edge', 14.0],\n",
       " ['2020-09-10', 'Edge', 14.0],\n",
       " ['2020-09-01', 'Edge', 13.0],\n",
       " ['2020-09-04', 'Opera', 13.0],\n",
       " ['2020-09-09', 'Opera', 13.0],\n",
       " ['2020-09-08', 'Mobile Safari', 12.0],\n",
       " ['2020-09-01', 'Opera', 11.0],\n",
       " ['2020-09-03', 'Mobile Safari', 10.0],\n",
       " ['2020-09-01', 'Mobile Safari', 9.0],\n",
       " ['2020-09-02', 'Mobile Safari', 9.0],\n",
       " ['2020-09-04', 'Mobile Safari', 9.0],\n",
       " ['2020-09-04', 'Android Browser', 9.0],\n",
       " ['2020-09-05', 'Mobile Safari', 9.0],\n",
       " ['2020-09-08', 'Edge', 9.0],\n",
       " ['2020-09-02', 'Android Browser', 8.0],\n",
       " ['2020-09-03', 'CocCoc', 8.0],\n",
       " ['2020-09-03', 'Samsung Internet', 8.0],\n",
       " ['2020-09-06', 'Opera', 8.0],\n",
       " ['2020-09-06', 'Safari', 8.0],\n",
       " ['2020-09-07', 'Opera', 8.0],\n",
       " ['2020-09-09', 'Samsung Internet', 8.0],\n",
       " ['2020-09-04', 'Samsung Internet', 7.0],\n",
       " ['2020-09-05', 'Android Browser', 7.0],\n",
       " ['2020-09-06', 'Samsung Internet', 7.0],\n",
       " ['2020-09-10', 'Opera', 7.0],\n",
       " ['2020-09-01', 'Android Browser', 6.0],\n",
       " ['2020-09-01', 'Samsung Internet', 6.0],\n",
       " ['2020-09-02', 'Samsung Internet', 6.0],\n",
       " ['2020-09-05', 'Edge', 6.0],\n",
       " ['2020-09-07', 'Android Browser', 6.0],\n",
       " ['2020-09-07', 'Mobile Safari', 5.0],\n",
       " ['2020-09-08', 'Opera', 5.0],\n",
       " ['2020-09-08', 'Android Browser', 5.0],\n",
       " ['2020-09-10', 'Samsung Internet', 5.0],\n",
       " ['2020-09-03', 'Android Browser', 4.0],\n",
       " ['2020-09-03', 'Яндекс: мобильное приложение', 4.0],\n",
       " ['2020-09-05', 'Opera', 4.0],\n",
       " ['2020-09-06', 'Mobile Safari', 4.0],\n",
       " ['2020-09-06', 'Edge', 4.0],\n",
       " ['2020-09-07', 'Samsung Internet', 4.0],\n",
       " ['2020-09-08', 'Samsung Internet', 4.0],\n",
       " ['2020-09-10', 'Mobile Safari', 4.0],\n",
       " ['2020-09-10', 'Android Browser', 4.0],\n",
       " ['2020-09-04', 'CocCoc', 3.0],\n",
       " ['2020-09-06', 'Android Browser', 3.0],\n",
       " ['2020-09-08', 'CocCoc', 3.0],\n",
       " ['2020-09-02', 'MQQBrowser', 2.0],\n",
       " ['2020-09-04', 'MSIE', 2.0],\n",
       " ['2020-09-05', 'UCWEB', 2.0],\n",
       " ['2020-09-05', 'Яндекс: мобильное приложение', 2.0],\n",
       " ['2020-09-06', 'UCWEB', 2.0],\n",
       " ['2020-09-06', 'Atom', 2.0],\n",
       " ['2020-09-08', 'MSIE', 2.0],\n",
       " ['2020-09-08', 'MIUI', 2.0],\n",
       " ['2020-09-08', 'Atom', 2.0],\n",
       " ['2020-09-09', 'Android Browser', 2.0],\n",
       " ['2020-09-09', 'Google: мобильное приложение', 2.0],\n",
       " ['2020-09-09', 'MIUI', 2.0],\n",
       " ['2020-09-10', 'UCWEB', 2.0],\n",
       " ['2020-09-10', 'Opera Mobile', 2.0],\n",
       " ['2020-09-10', 'MIUI', 2.0],\n",
       " ['2020-09-10', 'HeadlessChrome', 2.0],\n",
       " ['2020-09-01', None, 1.0],\n",
       " ['2020-09-01', 'UCWEB', 1.0],\n",
       " ['2020-09-01', 'Chromium', 1.0],\n",
       " ['2020-09-01', 'Яндекс: мобильное приложение', 1.0],\n",
       " ['2020-09-01', 'CocCoc', 1.0],\n",
       " ['2020-09-02', 'Opera Mini', 1.0],\n",
       " ['2020-09-02', 'UCWEB', 1.0],\n",
       " ['2020-09-02', 'Firefox Mobile', 1.0],\n",
       " ['2020-09-02', 'Яндекс: мобильное приложение', 1.0],\n",
       " ['2020-09-02', 'Google: мобильное приложение', 1.0],\n",
       " ['2020-09-02', 'CocCoc', 1.0],\n",
       " ['2020-09-03', 'MSIE', 1.0],\n",
       " ['2020-09-03', 'UCWEB', 1.0],\n",
       " ['2020-09-04', 'MIUI', 1.0],\n",
       " ['2020-09-05', 'MSIE', 1.0],\n",
       " ['2020-09-05', 'Google: мобильное приложение', 1.0],\n",
       " ['2020-09-05', 'CocCoc', 1.0],\n",
       " ['2020-09-05', 'Samsung Internet', 1.0],\n",
       " ['2020-09-05', 'MIUI', 1.0],\n",
       " ['2020-09-06', 'CocCoc', 1.0],\n",
       " ['2020-09-06', 'MIUI', 1.0],\n",
       " ['2020-09-06', 'Huawei Browser', 1.0],\n",
       " ['2020-09-07', 'MSIE', 1.0],\n",
       " ['2020-09-07', 'Opera Mobile', 1.0],\n",
       " ['2020-09-07', 'Firefox Mobile', 1.0],\n",
       " ['2020-09-07', 'Chromium', 1.0],\n",
       " ['2020-09-07', 'Яндекс: мобильное приложение', 1.0],\n",
       " ['2020-09-07', 'CocCoc', 1.0],\n",
       " ['2020-09-07', 'Opera Touch', 1.0],\n",
       " ['2020-09-08', 'Opera Mini', 1.0],\n",
       " ['2020-09-08', 'UCWEB', 1.0],\n",
       " ['2020-09-08', 'Chromium', 1.0],\n",
       " ['2020-09-08', 'Яндекс: мобильное приложение', 1.0],\n",
       " ['2020-09-08', 'Google: мобильное приложение', 1.0],\n",
       " ['2020-09-09', 'MSIE', 1.0],\n",
       " ['2020-09-09', 'UCWEB', 1.0],\n",
       " ['2020-09-09', 'Opera Mobile', 1.0],\n",
       " ['2020-09-09', 'Chromium', 1.0],\n",
       " ['2020-09-09', 'CocCoc', 1.0],\n",
       " ['2020-09-10', None, 1.0],\n",
       " ['2020-09-10', 'Google: мобильное приложение', 1.0],\n",
       " ['2020-09-10', 'Яндекс.Браузер lite', 1.0]]"
      ]
     },
     "execution_count": 79,
     "metadata": {},
     "output_type": "execute_result"
    }
   ],
   "source": [
    "m.browser()\n",
    "m.reformat_api_report()\n",
    "m.report"
   ]
  },
  {
   "cell_type": "code",
   "execution_count": null,
   "metadata": {},
   "outputs": [],
   "source": []
  }
 ],
 "metadata": {
  "kernelspec": {
   "display_name": "Python 3",
   "language": "python",
   "name": "python3"
  },
  "language_info": {
   "codemirror_mode": {
    "name": "ipython",
    "version": 3
   },
   "file_extension": ".py",
   "mimetype": "text/x-python",
   "name": "python",
   "nbconvert_exporter": "python",
   "pygments_lexer": "ipython3",
   "version": "3.8.5"
  }
 },
 "nbformat": 4,
 "nbformat_minor": 4
}
